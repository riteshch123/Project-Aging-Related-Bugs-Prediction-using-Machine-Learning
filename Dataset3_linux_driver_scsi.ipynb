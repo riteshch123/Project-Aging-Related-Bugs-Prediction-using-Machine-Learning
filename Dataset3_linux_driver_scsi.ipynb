{
  "cells": [
    {
      "cell_type": "markdown",
      "metadata": {
        "id": "bb2J0JuklKgx"
      },
      "source": [
        "# Software Age-Related Bugs Prediction using Python"
      ]
    },
    {
      "cell_type": "markdown",
      "metadata": {
        "id": "p-vFwQgBlKgz"
      },
      "source": [
        "## Pre-Sampling Approach"
      ]
    },
    {
      "cell_type": "markdown",
      "metadata": {
        "id": "eUE6mspklKg0"
      },
      "source": [
        "In this paper, we will make a model that will predict the Age-Related Bugs (ARB) using python. In ABR, usually the classes are imbalanced in nature. The classes (defective and non-defective) are biased towards non-defective class. First, we will do the prediction and check the metrics without over-sampling approach."
      ]
    },
    {
      "cell_type": "markdown",
      "metadata": {
        "id": "M1NK0xbLlKg0"
      },
      "source": [
        "### Importing relevant libraries"
      ]
    },
    {
      "cell_type": "code",
      "execution_count": null,
      "metadata": {
        "id": "Ea5b9KUHlKg1"
      },
      "outputs": [],
      "source": [
        "import numpy as np\n",
        "import pandas as pd\n",
        "import matplotlib.pyplot as plt\n",
        "import seaborn as sns\n",
        "import sklearn as sk\n",
        "from sklearn.metrics import roc_auc_score \n",
        "import copy"
      ]
    },
    {
      "cell_type": "markdown",
      "metadata": {
        "id": "T9WJTiqAlKg2"
      },
      "source": [
        "### Importing Data"
      ]
    },
    {
      "cell_type": "code",
      "execution_count": null,
      "metadata": {
        "id": "tZhh33J5lKg2",
        "outputId": "f0acabbc-50c4-432a-ad33-c3325508e6f4"
      },
      "outputs": [
        {
          "data": {
            "text/html": [
              "<div>\n",
              "<style scoped>\n",
              "    .dataframe tbody tr th:only-of-type {\n",
              "        vertical-align: middle;\n",
              "    }\n",
              "\n",
              "    .dataframe tbody tr th {\n",
              "        vertical-align: top;\n",
              "    }\n",
              "\n",
              "    .dataframe thead th {\n",
              "        text-align: right;\n",
              "    }\n",
              "</style>\n",
              "<table border=\"1\" class=\"dataframe\">\n",
              "  <thead>\n",
              "    <tr style=\"text-align: right;\">\n",
              "      <th></th>\n",
              "      <th>id</th>\n",
              "      <th>Filename</th>\n",
              "      <th>AltAvgLineBlank</th>\n",
              "      <th>AltAvgLineCode</th>\n",
              "      <th>AltAvgLineComment</th>\n",
              "      <th>AltCountLineBlank</th>\n",
              "      <th>AltCountLineCode</th>\n",
              "      <th>AltCountLineComment</th>\n",
              "      <th>AvgCyclomatic</th>\n",
              "      <th>AvgCyclomaticModified</th>\n",
              "      <th>...</th>\n",
              "      <th>Vol</th>\n",
              "      <th>Dif</th>\n",
              "      <th>Eff</th>\n",
              "      <th>AllocOps</th>\n",
              "      <th>DeallocOps</th>\n",
              "      <th>DerefUse</th>\n",
              "      <th>UniqueDerefUse</th>\n",
              "      <th>DerefSet</th>\n",
              "      <th>UniqueDerefSet</th>\n",
              "      <th>AgingRelatedBugs</th>\n",
              "    </tr>\n",
              "  </thead>\n",
              "  <tbody>\n",
              "    <tr>\n",
              "      <th>0</th>\n",
              "      <td>1</td>\n",
              "      <td>drivers/scsi/3w-9xxx.c</td>\n",
              "      <td>5.47</td>\n",
              "      <td>33.83</td>\n",
              "      <td>3.0</td>\n",
              "      <td>314.73</td>\n",
              "      <td>1676.70</td>\n",
              "      <td>315.00</td>\n",
              "      <td>6.93</td>\n",
              "      <td>6.93</td>\n",
              "      <td>...</td>\n",
              "      <td>58314.10</td>\n",
              "      <td>1034.30</td>\n",
              "      <td>2377344.40</td>\n",
              "      <td>0.47</td>\n",
              "      <td>1.00</td>\n",
              "      <td>584.88</td>\n",
              "      <td>161.56</td>\n",
              "      <td>262.34</td>\n",
              "      <td>87.81</td>\n",
              "      <td>0</td>\n",
              "    </tr>\n",
              "    <tr>\n",
              "      <th>1</th>\n",
              "      <td>2</td>\n",
              "      <td>drivers/scsi/3w-9xxx.h</td>\n",
              "      <td>0.00</td>\n",
              "      <td>0.00</td>\n",
              "      <td>0.0</td>\n",
              "      <td>39.47</td>\n",
              "      <td>566.40</td>\n",
              "      <td>103.23</td>\n",
              "      <td>0.00</td>\n",
              "      <td>0.00</td>\n",
              "      <td>...</td>\n",
              "      <td>0.00</td>\n",
              "      <td>0.00</td>\n",
              "      <td>0.00</td>\n",
              "      <td>0.00</td>\n",
              "      <td>0.00</td>\n",
              "      <td>0.00</td>\n",
              "      <td>0.00</td>\n",
              "      <td>0.00</td>\n",
              "      <td>0.00</td>\n",
              "      <td>0</td>\n",
              "    </tr>\n",
              "    <tr>\n",
              "      <th>2</th>\n",
              "      <td>3</td>\n",
              "      <td>drivers/scsi/3w-sas.c</td>\n",
              "      <td>6.00</td>\n",
              "      <td>29.00</td>\n",
              "      <td>3.0</td>\n",
              "      <td>314.14</td>\n",
              "      <td>1373.43</td>\n",
              "      <td>291.00</td>\n",
              "      <td>6.00</td>\n",
              "      <td>6.00</td>\n",
              "      <td>...</td>\n",
              "      <td>45835.43</td>\n",
              "      <td>826.14</td>\n",
              "      <td>1346717.00</td>\n",
              "      <td>0.00</td>\n",
              "      <td>1.00</td>\n",
              "      <td>434.57</td>\n",
              "      <td>146.57</td>\n",
              "      <td>193.00</td>\n",
              "      <td>86.00</td>\n",
              "      <td>0</td>\n",
              "    </tr>\n",
              "    <tr>\n",
              "      <th>3</th>\n",
              "      <td>4</td>\n",
              "      <td>drivers/scsi/3w-sas.h</td>\n",
              "      <td>0.00</td>\n",
              "      <td>0.00</td>\n",
              "      <td>0.0</td>\n",
              "      <td>33.00</td>\n",
              "      <td>291.00</td>\n",
              "      <td>92.00</td>\n",
              "      <td>0.00</td>\n",
              "      <td>0.00</td>\n",
              "      <td>...</td>\n",
              "      <td>0.00</td>\n",
              "      <td>0.00</td>\n",
              "      <td>0.00</td>\n",
              "      <td>0.00</td>\n",
              "      <td>0.00</td>\n",
              "      <td>0.00</td>\n",
              "      <td>0.00</td>\n",
              "      <td>0.00</td>\n",
              "      <td>0.00</td>\n",
              "      <td>0</td>\n",
              "    </tr>\n",
              "    <tr>\n",
              "      <th>4</th>\n",
              "      <td>5</td>\n",
              "      <td>drivers/scsi/3w-xxxx.c</td>\n",
              "      <td>6.00</td>\n",
              "      <td>35.24</td>\n",
              "      <td>3.0</td>\n",
              "      <td>384.71</td>\n",
              "      <td>1951.37</td>\n",
              "      <td>482.55</td>\n",
              "      <td>7.26</td>\n",
              "      <td>6.87</td>\n",
              "      <td>...</td>\n",
              "      <td>69306.61</td>\n",
              "      <td>1060.37</td>\n",
              "      <td>2670582.32</td>\n",
              "      <td>0.25</td>\n",
              "      <td>2.25</td>\n",
              "      <td>647.88</td>\n",
              "      <td>189.68</td>\n",
              "      <td>348.32</td>\n",
              "      <td>104.47</td>\n",
              "      <td>0</td>\n",
              "    </tr>\n",
              "  </tbody>\n",
              "</table>\n",
              "<p>5 rows × 85 columns</p>\n",
              "</div>"
            ],
            "text/plain": [
              "   id                Filename  AltAvgLineBlank  AltAvgLineCode  \\\n",
              "0   1  drivers/scsi/3w-9xxx.c             5.47           33.83   \n",
              "1   2  drivers/scsi/3w-9xxx.h             0.00            0.00   \n",
              "2   3   drivers/scsi/3w-sas.c             6.00           29.00   \n",
              "3   4   drivers/scsi/3w-sas.h             0.00            0.00   \n",
              "4   5  drivers/scsi/3w-xxxx.c             6.00           35.24   \n",
              "\n",
              "   AltAvgLineComment  AltCountLineBlank  AltCountLineCode  \\\n",
              "0                3.0             314.73           1676.70   \n",
              "1                0.0              39.47            566.40   \n",
              "2                3.0             314.14           1373.43   \n",
              "3                0.0              33.00            291.00   \n",
              "4                3.0             384.71           1951.37   \n",
              "\n",
              "   AltCountLineComment  AvgCyclomatic  AvgCyclomaticModified  \\\n",
              "0               315.00           6.93                   6.93   \n",
              "1               103.23           0.00                   0.00   \n",
              "2               291.00           6.00                   6.00   \n",
              "3                92.00           0.00                   0.00   \n",
              "4               482.55           7.26                   6.87   \n",
              "\n",
              "         ...              Vol      Dif         Eff  AllocOps  DeallocOps  \\\n",
              "0        ...         58314.10  1034.30  2377344.40      0.47        1.00   \n",
              "1        ...             0.00     0.00        0.00      0.00        0.00   \n",
              "2        ...         45835.43   826.14  1346717.00      0.00        1.00   \n",
              "3        ...             0.00     0.00        0.00      0.00        0.00   \n",
              "4        ...         69306.61  1060.37  2670582.32      0.25        2.25   \n",
              "\n",
              "   DerefUse  UniqueDerefUse  DerefSet  UniqueDerefSet  AgingRelatedBugs  \n",
              "0    584.88          161.56    262.34           87.81                 0  \n",
              "1      0.00            0.00      0.00            0.00                 0  \n",
              "2    434.57          146.57    193.00           86.00                 0  \n",
              "3      0.00            0.00      0.00            0.00                 0  \n",
              "4    647.88          189.68    348.32          104.47                 0  \n",
              "\n",
              "[5 rows x 85 columns]"
            ]
          },
          "execution_count": 3,
          "metadata": {},
          "output_type": "execute_result"
        }
      ],
      "source": [
        "ds1 = pd.read_csv('dataset_linux_driver_scsi.csv')\n",
        "ds1.head()"
      ]
    },
    {
      "cell_type": "markdown",
      "metadata": {
        "id": "W21YoXRhlKg3"
      },
      "source": [
        "### Checking for Missing Values"
      ]
    },
    {
      "cell_type": "code",
      "execution_count": null,
      "metadata": {
        "id": "L9GiZPVplKg4",
        "outputId": "04156bb2-27be-40fe-eaec-4f47da64701b"
      },
      "outputs": [
        {
          "data": {
            "text/plain": [
              "id                                    0\n",
              "Filename                              0\n",
              "AltAvgLineBlank                       0\n",
              "AltAvgLineCode                        0\n",
              "AltAvgLineComment                     0\n",
              "AltCountLineBlank                     0\n",
              "AltCountLineCode                      0\n",
              "AltCountLineComment                   0\n",
              "AvgCyclomatic                         0\n",
              "AvgCyclomaticModified                 0\n",
              "AvgCyclomaticStrict                   0\n",
              "AvgEssential                          0\n",
              "AvgLine                               0\n",
              "AvgLineBlank                          0\n",
              "AvgLineCode                           0\n",
              "AvgLineComment                        0\n",
              "CountClassBase                        0\n",
              "CountClassCoupled                     0\n",
              "CountClassDerived                     0\n",
              "CountDeclClass                        0\n",
              "CountDeclClassMethod                  0\n",
              "CountDeclClassVariable                0\n",
              "CountDeclFunction                     0\n",
              "CountDeclInstanceMethod               0\n",
              "CountDeclInstanceVariable             0\n",
              "CountDeclInstanceVariablePrivate      0\n",
              "CountDeclInstanceVariableProtected    0\n",
              "CountDeclInstanceVariablePublic       0\n",
              "CountDeclMethod                       0\n",
              "CountDeclMethodAll                    0\n",
              "                                     ..\n",
              "Knots                                 0\n",
              "MaxCyclomatic                         0\n",
              "MaxCyclomaticModified                 0\n",
              "MaxCyclomaticStrict                   0\n",
              "MaxEssentialKnots                     0\n",
              "MaxInheritanceTree                    0\n",
              "MaxNesting                            0\n",
              "MinEssentialKnots                     0\n",
              "PercentLackOfCohesion                 0\n",
              "RatioCommentToCode                    0\n",
              "SumCyclomatic                         0\n",
              "SumCyclomaticModified                 0\n",
              "SumCyclomaticStrict                   0\n",
              "SumEssential                          0\n",
              "n1                                    0\n",
              "n2                                    0\n",
              "N1                                    0\n",
              "N2                                    0\n",
              "Len                                   0\n",
              "Voc                                   0\n",
              "Vol                                   0\n",
              "Dif                                   0\n",
              "Eff                                   0\n",
              "AllocOps                              0\n",
              "DeallocOps                            0\n",
              "DerefUse                              0\n",
              "UniqueDerefUse                        0\n",
              "DerefSet                              0\n",
              "UniqueDerefSet                        0\n",
              "AgingRelatedBugs                      0\n",
              "Length: 85, dtype: int64"
            ]
          },
          "execution_count": 4,
          "metadata": {},
          "output_type": "execute_result"
        }
      ],
      "source": [
        "ds1.isnull().sum()"
      ]
    },
    {
      "cell_type": "markdown",
      "metadata": {
        "id": "ClFtMnCClKg4"
      },
      "source": [
        "### Checking Data types"
      ]
    },
    {
      "cell_type": "code",
      "execution_count": null,
      "metadata": {
        "id": "9xGjuwMTlKg5"
      },
      "outputs": [],
      "source": [
        "ds1['AgingRelatedBugs'] = ds1['AgingRelatedBugs'].astype(str)"
      ]
    },
    {
      "cell_type": "code",
      "execution_count": null,
      "metadata": {
        "id": "FF2IgjqClKg5",
        "outputId": "aab8040f-d619-4769-d8b2-09c5ec204f26"
      },
      "outputs": [
        {
          "data": {
            "text/plain": [
              "id                                      int64\n",
              "Filename                               object\n",
              "AltAvgLineBlank                       float64\n",
              "AltAvgLineCode                        float64\n",
              "AltAvgLineComment                     float64\n",
              "AltCountLineBlank                     float64\n",
              "AltCountLineCode                      float64\n",
              "AltCountLineComment                   float64\n",
              "AvgCyclomatic                         float64\n",
              "AvgCyclomaticModified                 float64\n",
              "AvgCyclomaticStrict                   float64\n",
              "AvgEssential                          float64\n",
              "AvgLine                               float64\n",
              "AvgLineBlank                          float64\n",
              "AvgLineCode                           float64\n",
              "AvgLineComment                        float64\n",
              "CountClassBase                          int64\n",
              "CountClassCoupled                       int64\n",
              "CountClassDerived                       int64\n",
              "CountDeclClass                          int64\n",
              "CountDeclClassMethod                    int64\n",
              "CountDeclClassVariable                  int64\n",
              "CountDeclFunction                     float64\n",
              "CountDeclInstanceMethod                 int64\n",
              "CountDeclInstanceVariable               int64\n",
              "CountDeclInstanceVariablePrivate        int64\n",
              "CountDeclInstanceVariableProtected      int64\n",
              "CountDeclInstanceVariablePublic         int64\n",
              "CountDeclMethod                         int64\n",
              "CountDeclMethodAll                      int64\n",
              "                                       ...   \n",
              "Knots                                   int64\n",
              "MaxCyclomatic                         float64\n",
              "MaxCyclomaticModified                 float64\n",
              "MaxCyclomaticStrict                   float64\n",
              "MaxEssentialKnots                       int64\n",
              "MaxInheritanceTree                      int64\n",
              "MaxNesting                              int64\n",
              "MinEssentialKnots                       int64\n",
              "PercentLackOfCohesion                   int64\n",
              "RatioCommentToCode                    float64\n",
              "SumCyclomatic                         float64\n",
              "SumCyclomaticModified                 float64\n",
              "SumCyclomaticStrict                   float64\n",
              "SumEssential                          float64\n",
              "n1                                    float64\n",
              "n2                                    float64\n",
              "N1                                    float64\n",
              "N2                                    float64\n",
              "Len                                   float64\n",
              "Voc                                   float64\n",
              "Vol                                   float64\n",
              "Dif                                   float64\n",
              "Eff                                   float64\n",
              "AllocOps                              float64\n",
              "DeallocOps                            float64\n",
              "DerefUse                              float64\n",
              "UniqueDerefUse                        float64\n",
              "DerefSet                              float64\n",
              "UniqueDerefSet                        float64\n",
              "AgingRelatedBugs                       object\n",
              "Length: 85, dtype: object"
            ]
          },
          "execution_count": 6,
          "metadata": {},
          "output_type": "execute_result"
        }
      ],
      "source": [
        "ds1.dtypes"
      ]
    },
    {
      "cell_type": "code",
      "execution_count": null,
      "metadata": {
        "id": "ndN1ftVBlKg6",
        "outputId": "cc23ea2e-fa2a-4d46-86f7-24e7b40e9007"
      },
      "outputs": [
        {
          "data": {
            "text/plain": [
              "Index(['id', 'Filename', 'AltAvgLineBlank', 'AltAvgLineCode',\n",
              "       'AltAvgLineComment', 'AltCountLineBlank', 'AltCountLineCode',\n",
              "       'AltCountLineComment', 'AvgCyclomatic', 'AvgCyclomaticModified',\n",
              "       'AvgCyclomaticStrict', 'AvgEssential', 'AvgLine', 'AvgLineBlank',\n",
              "       'AvgLineCode', 'AvgLineComment', 'CountClassBase', 'CountClassCoupled',\n",
              "       'CountClassDerived', 'CountDeclClass', 'CountDeclClassMethod',\n",
              "       'CountDeclClassVariable', 'CountDeclFunction',\n",
              "       'CountDeclInstanceMethod', 'CountDeclInstanceVariable',\n",
              "       'CountDeclInstanceVariablePrivate',\n",
              "       'CountDeclInstanceVariableProtected', 'CountDeclInstanceVariablePublic',\n",
              "       'CountDeclMethod', 'CountDeclMethodAll', 'CountDeclMethodConst',\n",
              "       'CountDeclMethodFriend', 'CountDeclMethodPrivate',\n",
              "       'CountDeclMethodProtected', 'CountDeclMethodPublic', 'CountInput',\n",
              "       'CountLine', 'CountLineBlank', 'CountLineCode', 'CountLineCodeDecl',\n",
              "       'CountLineCodeExe', 'CountLineComment', 'CountLineInactive',\n",
              "       'CountLinePreprocessor', 'CountOutput', 'CountPath', 'CountSemicolon',\n",
              "       'CountStmt', 'CountStmtDecl', 'CountStmtEmpty', 'CountStmtExe',\n",
              "       'Cyclomatic', 'CyclomaticModified', 'CyclomaticStrict', 'Essential',\n",
              "       'Knots', 'MaxCyclomatic', 'MaxCyclomaticModified',\n",
              "       'MaxCyclomaticStrict', 'MaxEssentialKnots', 'MaxInheritanceTree',\n",
              "       'MaxNesting', 'MinEssentialKnots', 'PercentLackOfCohesion',\n",
              "       'RatioCommentToCode', 'SumCyclomatic', 'SumCyclomaticModified',\n",
              "       'SumCyclomaticStrict', 'SumEssential', 'n1', 'n2', 'N1', 'N2', 'Len',\n",
              "       'Voc', 'Vol', 'Dif', 'Eff', 'AllocOps', 'DeallocOps', 'DerefUse',\n",
              "       'UniqueDerefUse', 'DerefSet', 'UniqueDerefSet', 'AgingRelatedBugs'],\n",
              "      dtype='object')"
            ]
          },
          "execution_count": 7,
          "metadata": {},
          "output_type": "execute_result"
        }
      ],
      "source": [
        "ds1.columns"
      ]
    },
    {
      "cell_type": "markdown",
      "metadata": {
        "id": "F2hUzUu0lKg6"
      },
      "source": [
        "### Creating feature and target variables and Label Encoding the target variable"
      ]
    },
    {
      "cell_type": "code",
      "execution_count": null,
      "metadata": {
        "id": "Cw6WRHp3lKg6"
      },
      "outputs": [],
      "source": [
        "cols = ['id','AltAvgLineBlank', 'AltAvgLineCode', 'AltAvgLineComment',\n",
        "       'AltCountLineBlank', 'AltCountLineCode', 'AltCountLineComment',\n",
        "       'AvgCyclomatic', 'AvgCyclomaticModified', 'AvgCyclomaticStrict',\n",
        "       'AvgEssential', 'AvgLine', 'AvgLineBlank', 'AvgLineCode',\n",
        "       'AvgLineComment', 'CountClassBase', 'CountClassCoupled',\n",
        "       'CountClassDerived', 'CountDeclClass', 'CountDeclClassMethod',\n",
        "       'CountDeclClassVariable', 'CountDeclFunction',\n",
        "       'CountDeclInstanceMethod', 'CountDeclInstanceVariable',\n",
        "       'CountDeclInstanceVariablePrivate',\n",
        "       'CountDeclInstanceVariableProtected', 'CountDeclInstanceVariablePublic',\n",
        "       'CountDeclMethod', 'CountDeclMethodAll', 'CountDeclMethodConst',\n",
        "       'CountDeclMethodFriend', 'CountDeclMethodPrivate',\n",
        "       'CountDeclMethodProtected', 'CountDeclMethodPublic', 'CountInput',\n",
        "       'CountLine', 'CountLineBlank', 'CountLineCode', 'CountLineCodeDecl',\n",
        "       'CountLineCodeExe', 'CountLineComment', 'CountLineInactive',\n",
        "       'CountLinePreprocessor', 'CountOutput', 'CountPath', 'CountSemicolon',\n",
        "       'CountStmt', 'CountStmtDecl', 'CountStmtEmpty', 'CountStmtExe',\n",
        "       'Cyclomatic', 'CyclomaticModified', 'CyclomaticStrict', 'Essential',\n",
        "       'Knots', 'MaxCyclomatic', 'MaxCyclomaticModified',\n",
        "       'MaxCyclomaticStrict', 'MaxEssentialKnots', 'MaxInheritanceTree',\n",
        "       'MaxNesting', 'MinEssentialKnots', 'PercentLackOfCohesion',\n",
        "       'RatioCommentToCode', 'SumCyclomatic', 'SumCyclomaticModified',\n",
        "       'SumCyclomaticStrict', 'SumEssential', 'n1', 'n2', 'N1', 'N2', 'Len',\n",
        "       'Voc', 'Vol', 'Dif', 'Eff', 'AllocOps', 'DeallocOps', 'DerefUse',\n",
        "       'UniqueDerefUse', 'DerefSet', 'UniqueDerefSet']\n",
        "X = ds1[cols]\n",
        "y = ds1['AgingRelatedBugs']\n"
      ]
    },
    {
      "cell_type": "code",
      "execution_count": null,
      "metadata": {
        "id": "guwJ8vq-lKg7",
        "outputId": "0e55e789-3a9a-4d16-cc22-e125b774d9ea"
      },
      "outputs": [
        {
          "data": {
            "text/plain": [
              "array([0, 0, 0, 0, 0, 0, 0, 0, 0, 0, 0, 0, 0, 0, 0, 0, 0, 0, 0, 0, 0, 0,\n",
              "       0, 0, 0, 0, 0, 0, 0, 0, 0, 0, 0, 0, 0, 0, 0, 0, 0, 1, 1, 0, 0, 0,\n",
              "       0, 0, 0, 0, 0, 0, 0, 0, 0, 0, 0, 0, 0, 0, 0, 0, 0, 0, 0, 0, 0, 0,\n",
              "       0, 0, 0, 0, 0, 0, 0, 0, 0, 0, 0, 0, 0, 0, 0, 0, 0, 0, 0, 0, 0, 0,\n",
              "       0, 0, 0, 0, 0, 0, 0, 0, 0, 0, 0, 0, 0, 0, 0, 0, 0, 0, 0, 0, 0, 0,\n",
              "       0, 0, 0, 0, 0, 0, 0, 0, 0, 0, 0, 0, 0, 0, 0, 0, 0, 0, 0, 0, 0, 0,\n",
              "       0, 0, 0, 0, 0, 0, 0, 0, 0, 0, 0, 0, 0, 0, 0, 0, 0, 0, 0, 0, 0, 0,\n",
              "       0, 0, 0, 0, 0, 0, 0, 0, 0, 0, 0, 0, 0, 0, 0, 0, 0, 0, 0, 0, 0, 0,\n",
              "       0, 0, 0, 0, 0, 0, 0, 0, 0, 0, 0, 0, 0, 0, 0, 0, 0, 0, 0, 0, 0, 0,\n",
              "       0, 0, 0, 0, 0, 0, 0, 0, 0, 0, 0, 0, 0, 0, 0, 0, 0, 0, 0, 0, 0, 0,\n",
              "       0, 0, 0, 0, 0, 0, 0, 0, 0, 0, 0, 0, 0, 0, 0, 0, 0, 0, 0, 0, 0, 0,\n",
              "       0, 0, 0, 0, 0, 0, 0, 0, 0, 0, 0, 0, 0, 0, 0, 0, 0, 0, 0, 0, 0, 0,\n",
              "       0, 0, 0, 0, 0, 0, 0, 0, 0, 0, 0, 0, 0, 0, 0, 0, 0, 0, 0, 0, 0, 0,\n",
              "       0, 0, 0, 0, 0, 0, 0, 0, 0, 0, 0, 0, 0, 0, 0, 0, 0, 0, 0, 0, 0, 0,\n",
              "       0, 0, 0, 0, 0, 0, 0, 0, 0, 0, 0, 0, 0, 0, 0, 0, 0, 0, 0, 0, 0, 0,\n",
              "       0, 0, 0, 0, 0, 0, 0, 0, 0, 0, 0, 0, 0, 0, 0, 0, 0, 0, 0, 0, 0, 0,\n",
              "       0, 0, 0, 0, 0, 0, 0, 0, 0, 0, 0, 0, 0, 0, 0, 0, 0, 0, 0, 0, 0, 0,\n",
              "       0, 0, 0, 0, 0, 0, 0, 0, 0, 0, 0, 0, 0, 0, 0, 0, 0, 0, 0, 0, 0, 0,\n",
              "       0, 0, 0, 0, 0, 0, 0, 0, 0, 0, 0, 0, 0, 0, 0, 0, 0, 0, 0, 0, 0, 0,\n",
              "       0, 0, 0, 0, 0, 0, 0, 0, 0, 0, 0, 0, 0, 0, 0, 0, 0, 0, 0, 0, 0, 0,\n",
              "       0, 0, 0, 0, 0, 0, 0, 0, 0, 0, 0, 0, 0, 0, 0, 0, 0, 0, 0, 0, 0, 0,\n",
              "       0, 0, 0, 0, 0, 0, 0, 0, 0, 0, 0, 0, 0, 0, 0, 0, 0, 0, 0, 0, 0, 0,\n",
              "       0, 0, 0, 0, 0, 0, 0, 0, 0, 0, 0, 0, 0, 0, 0, 0, 0, 0, 0, 0, 0, 0,\n",
              "       0, 0, 0, 0, 0, 0, 0, 0, 0, 0, 0, 0, 0, 0, 0, 0, 0, 0, 0, 0, 0, 0,\n",
              "       0, 0, 0, 0, 0, 0, 0, 0, 0, 0, 0, 0, 0, 0, 0, 0, 0, 0, 0, 0, 0, 0,\n",
              "       0, 0, 0, 0, 0, 0, 0, 0, 0, 0, 0, 0, 0, 0, 0, 0, 0, 0, 0, 0, 0, 0,\n",
              "       0, 0, 0, 0, 0, 0, 0, 0, 0, 0, 0, 0, 0, 0, 0, 0, 0, 0, 0, 0, 0, 0,\n",
              "       0, 0, 0, 0, 0, 0, 0, 0, 0, 0, 0, 0, 0, 0, 0, 0, 0, 0, 0, 0, 0, 0,\n",
              "       0, 0, 0, 0, 0, 0, 0, 0, 0, 0, 0, 0, 0, 0, 0, 0, 0, 0, 0, 0, 0, 0,\n",
              "       0, 0, 0, 0, 0, 0, 0, 0, 0, 0, 0, 0, 0, 0, 0, 0, 0, 0, 0, 0, 0, 0,\n",
              "       0, 0, 0, 0, 0, 0, 0, 0, 0, 0, 0, 0, 0, 0, 0, 0, 0, 0, 0, 0, 0, 0,\n",
              "       0, 0, 0, 0, 0, 0, 0, 0, 0, 0, 0, 0, 0, 0, 0, 0, 0, 0, 0, 0, 0, 0,\n",
              "       0, 0, 0, 0, 0, 0, 0, 0, 0, 0, 0, 0, 0, 0, 0, 0, 0, 0, 0, 0, 0, 0,\n",
              "       0, 0, 0, 0, 0, 0, 0, 0, 0, 0, 0, 0, 0, 0, 0, 0, 0, 0, 0, 0, 0, 0,\n",
              "       0, 0, 0, 0, 0, 0, 0, 0, 0, 0, 0, 0, 0, 0, 0, 0, 0, 0, 0, 0, 0, 0,\n",
              "       0, 0, 0, 0, 0, 0, 0, 0, 0, 0, 0, 0, 0, 0, 0, 0, 0, 0, 0, 0, 0, 0,\n",
              "       0, 0, 0, 0, 0, 0, 0, 0, 0, 0, 0, 0, 0, 0, 0, 0, 0, 0, 0, 0, 0, 0,\n",
              "       0, 0, 0, 0, 0, 0, 0, 0, 0, 0, 0, 0, 0, 0, 0, 0, 0, 0, 0, 0, 0, 0,\n",
              "       0, 0, 0, 0, 0, 0, 0, 0, 0, 0, 1, 0, 0, 0, 0, 0, 0, 0, 0, 0, 0, 0,\n",
              "       0, 0, 0, 0, 0, 0, 0, 0, 0, 0, 0, 0, 0, 0, 0, 0, 0, 0, 0, 0, 0, 0,\n",
              "       1, 0, 0, 0, 0, 0, 0, 0, 0, 0, 0, 0, 0, 0, 0, 0, 0, 0, 0, 0, 0, 0,\n",
              "       0, 0, 0, 0, 0, 0, 0, 0, 0, 0, 0, 0, 0, 0, 0, 0, 0, 0, 0, 0, 0, 0,\n",
              "       0, 0, 0, 0, 0, 0, 0, 0, 0, 0, 0, 0, 0, 0, 0, 0, 0, 0, 0, 0, 0, 0,\n",
              "       0, 0, 0, 0, 0, 0, 0, 0, 0, 0, 0, 0, 0, 0, 0, 0])"
            ]
          },
          "execution_count": 9,
          "metadata": {},
          "output_type": "execute_result"
        }
      ],
      "source": [
        "from sklearn.preprocessing import LabelEncoder\n",
        "enc = LabelEncoder()\n",
        "y = enc.fit_transform(y)\n",
        "y"
      ]
    },
    {
      "cell_type": "code",
      "execution_count": null,
      "metadata": {
        "id": "aYf80gJHlKg7"
      },
      "outputs": [],
      "source": [
        ""
      ]
    },
    {
      "cell_type": "markdown",
      "metadata": {
        "id": "UePPmabElKg8"
      },
      "source": [
        "### Splitting data into training and test sets"
      ]
    },
    {
      "cell_type": "code",
      "execution_count": null,
      "metadata": {
        "id": "zeEVQ_FslKg8"
      },
      "outputs": [],
      "source": [
        "from sklearn.model_selection import train_test_split\n",
        "X_train, X_test, y_train, y_test = train_test_split(X,y,random_state=0)"
      ]
    },
    {
      "cell_type": "markdown",
      "metadata": {
        "id": "ecbcxyOslKg8"
      },
      "source": [
        "### Logistic Regression Model"
      ]
    },
    {
      "cell_type": "code",
      "execution_count": null,
      "metadata": {
        "id": "R_LPjpkylKg9",
        "outputId": "1f440de8-81ff-42d3-8f76-21c83eaf5a7b"
      },
      "outputs": [
        {
          "name": "stderr",
          "output_type": "stream",
          "text": [
            "D:\\Anaconda3\\lib\\site-packages\\sklearn\\linear_model\\logistic.py:432: FutureWarning: Default solver will be changed to 'lbfgs' in 0.22. Specify a solver to silence this warning.\n",
            "  FutureWarning)\n",
            "D:\\Anaconda3\\lib\\site-packages\\sklearn\\svm\\base.py:929: ConvergenceWarning: Liblinear failed to converge, increase the number of iterations.\n",
            "  \"the number of iterations.\", ConvergenceWarning)\n"
          ]
        },
        {
          "data": {
            "text/plain": [
              "LogisticRegression(C=1.0, class_weight=None, dual=False, fit_intercept=True,\n",
              "                   intercept_scaling=1, l1_ratio=None, max_iter=100,\n",
              "                   multi_class='warn', n_jobs=None, penalty='l2',\n",
              "                   random_state=None, solver='warn', tol=0.0001, verbose=0,\n",
              "                   warm_start=False)"
            ]
          },
          "execution_count": 11,
          "metadata": {},
          "output_type": "execute_result"
        }
      ],
      "source": [
        "# Fitting the model\n",
        "\n",
        "from sklearn.linear_model import LogisticRegression\n",
        "from sklearn import metrics\n",
        "logreg = LogisticRegression()\n",
        "logreg.fit(X_train, y_train)"
      ]
    },
    {
      "cell_type": "code",
      "execution_count": null,
      "metadata": {
        "id": "ZhXxbLJhlKg9",
        "outputId": "c8be93c1-2e05-45c1-8a5a-4a98240b591a"
      },
      "outputs": [
        {
          "name": "stdout",
          "output_type": "stream",
          "text": [
            "Accuracy of Logistic Regression train set: 1.00\n",
            "Accuracy of Logistic Regression test set: 1.00\n"
          ]
        }
      ],
      "source": [
        "# Computing Accuracy\n",
        "y_pred = logreg.predict(X_test)\n",
        "print('Accuracy of Logistic Regression train set: {:.2f}'.format(logreg.score(X_train, y_train)))\n",
        "print('Accuracy of Logistic Regression test set: {:.2f}'.format(logreg.score(X_test, y_test)))"
      ]
    },
    {
      "cell_type": "code",
      "execution_count": null,
      "metadata": {
        "id": "C9OQ4a-PlKg9",
        "outputId": "a6339af5-8886-4a0a-9d29-7800eb11a2ae"
      },
      "outputs": [
        {
          "name": "stdout",
          "output_type": "stream",
          "text": [
            "              precision    recall  f1-score   support\n",
            "\n",
            "           0       1.00      1.00      1.00       240\n",
            "           1       0.00      0.00      0.00         1\n",
            "\n",
            "    accuracy                           1.00       241\n",
            "   macro avg       0.50      0.50      0.50       241\n",
            "weighted avg       0.99      1.00      0.99       241\n",
            "\n",
            "[[240   0]\n",
            " [  1   0]]\n"
          ]
        },
        {
          "name": "stderr",
          "output_type": "stream",
          "text": [
            "D:\\Anaconda3\\lib\\site-packages\\sklearn\\metrics\\classification.py:1437: UndefinedMetricWarning: Precision and F-score are ill-defined and being set to 0.0 in labels with no predicted samples.\n",
            "  'precision', 'predicted', average, warn_for)\n",
            "D:\\Anaconda3\\lib\\site-packages\\sklearn\\metrics\\classification.py:1437: UndefinedMetricWarning: Precision and F-score are ill-defined and being set to 0.0 in labels with no predicted samples.\n",
            "  'precision', 'predicted', average, warn_for)\n",
            "D:\\Anaconda3\\lib\\site-packages\\sklearn\\metrics\\classification.py:1437: UndefinedMetricWarning: Precision and F-score are ill-defined and being set to 0.0 in labels with no predicted samples.\n",
            "  'precision', 'predicted', average, warn_for)\n"
          ]
        }
      ],
      "source": [
        "# Computing Performance Metrics and drawing Confusion Matrix\n",
        ">>> from sklearn.metrics import classification_report\n",
        ">>> print(classification_report(y_test, y_pred))\n",
        ">>> from sklearn.metrics import confusion_matrix\n",
        ">>> print(confusion_matrix(y_test, y_pred))"
      ]
    },
    {
      "cell_type": "code",
      "execution_count": null,
      "metadata": {
        "id": "8tU85bU_lKg9",
        "outputId": "1a9ae665-ecbb-48ff-a0b9-1e57df56a678"
      },
      "outputs": [
        {
          "name": "stderr",
          "output_type": "stream",
          "text": [
            "D:\\Anaconda3\\lib\\site-packages\\sklearn\\model_selection\\_split.py:657: Warning: The least populated class in y has only 1 members, which is too few. The minimum number of members in any class cannot be less than n_splits=5.\n",
            "  % (min_groups, self.n_splits)), Warning)\n",
            "D:\\Anaconda3\\lib\\site-packages\\sklearn\\linear_model\\logistic.py:432: FutureWarning: Default solver will be changed to 'lbfgs' in 0.22. Specify a solver to silence this warning.\n",
            "  FutureWarning)\n",
            "D:\\Anaconda3\\lib\\site-packages\\sklearn\\model_selection\\_validation.py:528: FutureWarning: From version 0.22, errors during fit will result in a cross validation score of NaN by default. Use error_score='raise' if you want an exception raised or error_score=np.nan to adopt the behavior from version 0.22.\n",
            "  FutureWarning)\n"
          ]
        },
        {
          "ename": "ValueError",
          "evalue": "This solver needs samples of at least 2 classes in the data, but the data contains only one class: 0",
          "output_type": "error",
          "traceback": [
            "\u001b[1;31m---------------------------------------------------------------------------\u001b[0m",
            "\u001b[1;31mValueError\u001b[0m                                Traceback (most recent call last)",
            "\u001b[1;32m<ipython-input-19-85ad048aaaa5>\u001b[0m in \u001b[0;36m<module>\u001b[1;34m()\u001b[0m\n\u001b[0;32m      1\u001b[0m \u001b[1;31m# Applying 5-fold Cross Validation\u001b[0m\u001b[1;33m\u001b[0m\u001b[1;33m\u001b[0m\u001b[0m\n\u001b[0;32m      2\u001b[0m \u001b[1;32mfrom\u001b[0m \u001b[0msklearn\u001b[0m\u001b[1;33m.\u001b[0m\u001b[0mmodel_selection\u001b[0m \u001b[1;32mimport\u001b[0m \u001b[0mcross_val_score\u001b[0m\u001b[1;33m\u001b[0m\u001b[0m\n\u001b[1;32m----> 3\u001b[1;33m \u001b[0mprint\u001b[0m\u001b[1;33m(\u001b[0m\u001b[0mcross_val_score\u001b[0m\u001b[1;33m(\u001b[0m\u001b[0mlogreg\u001b[0m\u001b[1;33m,\u001b[0m \u001b[0mX_test\u001b[0m\u001b[1;33m,\u001b[0m \u001b[0my_test\u001b[0m\u001b[1;33m,\u001b[0m \u001b[0mcv\u001b[0m\u001b[1;33m=\u001b[0m\u001b[1;36m5\u001b[0m\u001b[1;33m)\u001b[0m\u001b[1;33m)\u001b[0m\u001b[1;33m\u001b[0m\u001b[0m\n\u001b[0m",
            "\u001b[1;32mD:\\Anaconda3\\lib\\site-packages\\sklearn\\model_selection\\_validation.py\u001b[0m in \u001b[0;36mcross_val_score\u001b[1;34m(estimator, X, y, groups, scoring, cv, n_jobs, verbose, fit_params, pre_dispatch, error_score)\u001b[0m\n\u001b[0;32m    387\u001b[0m                                 \u001b[0mfit_params\u001b[0m\u001b[1;33m=\u001b[0m\u001b[0mfit_params\u001b[0m\u001b[1;33m,\u001b[0m\u001b[1;33m\u001b[0m\u001b[0m\n\u001b[0;32m    388\u001b[0m                                 \u001b[0mpre_dispatch\u001b[0m\u001b[1;33m=\u001b[0m\u001b[0mpre_dispatch\u001b[0m\u001b[1;33m,\u001b[0m\u001b[1;33m\u001b[0m\u001b[0m\n\u001b[1;32m--> 389\u001b[1;33m                                 error_score=error_score)\n\u001b[0m\u001b[0;32m    390\u001b[0m     \u001b[1;32mreturn\u001b[0m \u001b[0mcv_results\u001b[0m\u001b[1;33m[\u001b[0m\u001b[1;34m'test_score'\u001b[0m\u001b[1;33m]\u001b[0m\u001b[1;33m\u001b[0m\u001b[0m\n\u001b[0;32m    391\u001b[0m \u001b[1;33m\u001b[0m\u001b[0m\n",
            "\u001b[1;32mD:\\Anaconda3\\lib\\site-packages\\sklearn\\model_selection\\_validation.py\u001b[0m in \u001b[0;36mcross_validate\u001b[1;34m(estimator, X, y, groups, scoring, cv, n_jobs, verbose, fit_params, pre_dispatch, return_train_score, return_estimator, error_score)\u001b[0m\n\u001b[0;32m    229\u001b[0m             \u001b[0mreturn_times\u001b[0m\u001b[1;33m=\u001b[0m\u001b[1;32mTrue\u001b[0m\u001b[1;33m,\u001b[0m \u001b[0mreturn_estimator\u001b[0m\u001b[1;33m=\u001b[0m\u001b[0mreturn_estimator\u001b[0m\u001b[1;33m,\u001b[0m\u001b[1;33m\u001b[0m\u001b[0m\n\u001b[0;32m    230\u001b[0m             error_score=error_score)\n\u001b[1;32m--> 231\u001b[1;33m         for train, test in cv.split(X, y, groups))\n\u001b[0m\u001b[0;32m    232\u001b[0m \u001b[1;33m\u001b[0m\u001b[0m\n\u001b[0;32m    233\u001b[0m     \u001b[0mzipped_scores\u001b[0m \u001b[1;33m=\u001b[0m \u001b[0mlist\u001b[0m\u001b[1;33m(\u001b[0m\u001b[0mzip\u001b[0m\u001b[1;33m(\u001b[0m\u001b[1;33m*\u001b[0m\u001b[0mscores\u001b[0m\u001b[1;33m)\u001b[0m\u001b[1;33m)\u001b[0m\u001b[1;33m\u001b[0m\u001b[0m\n",
            "\u001b[1;32mD:\\Anaconda3\\lib\\site-packages\\joblib\\parallel.py\u001b[0m in \u001b[0;36m__call__\u001b[1;34m(self, iterable)\u001b[0m\n\u001b[0;32m    919\u001b[0m             \u001b[1;31m# remaining jobs.\u001b[0m\u001b[1;33m\u001b[0m\u001b[1;33m\u001b[0m\u001b[0m\n\u001b[0;32m    920\u001b[0m             \u001b[0mself\u001b[0m\u001b[1;33m.\u001b[0m\u001b[0m_iterating\u001b[0m \u001b[1;33m=\u001b[0m \u001b[1;32mFalse\u001b[0m\u001b[1;33m\u001b[0m\u001b[0m\n\u001b[1;32m--> 921\u001b[1;33m             \u001b[1;32mif\u001b[0m \u001b[0mself\u001b[0m\u001b[1;33m.\u001b[0m\u001b[0mdispatch_one_batch\u001b[0m\u001b[1;33m(\u001b[0m\u001b[0miterator\u001b[0m\u001b[1;33m)\u001b[0m\u001b[1;33m:\u001b[0m\u001b[1;33m\u001b[0m\u001b[0m\n\u001b[0m\u001b[0;32m    922\u001b[0m                 \u001b[0mself\u001b[0m\u001b[1;33m.\u001b[0m\u001b[0m_iterating\u001b[0m \u001b[1;33m=\u001b[0m \u001b[0mself\u001b[0m\u001b[1;33m.\u001b[0m\u001b[0m_original_iterator\u001b[0m \u001b[1;32mis\u001b[0m \u001b[1;32mnot\u001b[0m \u001b[1;32mNone\u001b[0m\u001b[1;33m\u001b[0m\u001b[0m\n\u001b[0;32m    923\u001b[0m \u001b[1;33m\u001b[0m\u001b[0m\n",
            "\u001b[1;32mD:\\Anaconda3\\lib\\site-packages\\joblib\\parallel.py\u001b[0m in \u001b[0;36mdispatch_one_batch\u001b[1;34m(self, iterator)\u001b[0m\n\u001b[0;32m    757\u001b[0m                 \u001b[1;32mreturn\u001b[0m \u001b[1;32mFalse\u001b[0m\u001b[1;33m\u001b[0m\u001b[0m\n\u001b[0;32m    758\u001b[0m             \u001b[1;32melse\u001b[0m\u001b[1;33m:\u001b[0m\u001b[1;33m\u001b[0m\u001b[0m\n\u001b[1;32m--> 759\u001b[1;33m                 \u001b[0mself\u001b[0m\u001b[1;33m.\u001b[0m\u001b[0m_dispatch\u001b[0m\u001b[1;33m(\u001b[0m\u001b[0mtasks\u001b[0m\u001b[1;33m)\u001b[0m\u001b[1;33m\u001b[0m\u001b[0m\n\u001b[0m\u001b[0;32m    760\u001b[0m                 \u001b[1;32mreturn\u001b[0m \u001b[1;32mTrue\u001b[0m\u001b[1;33m\u001b[0m\u001b[0m\n\u001b[0;32m    761\u001b[0m \u001b[1;33m\u001b[0m\u001b[0m\n",
            "\u001b[1;32mD:\\Anaconda3\\lib\\site-packages\\joblib\\parallel.py\u001b[0m in \u001b[0;36m_dispatch\u001b[1;34m(self, batch)\u001b[0m\n\u001b[0;32m    714\u001b[0m         \u001b[1;32mwith\u001b[0m \u001b[0mself\u001b[0m\u001b[1;33m.\u001b[0m\u001b[0m_lock\u001b[0m\u001b[1;33m:\u001b[0m\u001b[1;33m\u001b[0m\u001b[0m\n\u001b[0;32m    715\u001b[0m             \u001b[0mjob_idx\u001b[0m \u001b[1;33m=\u001b[0m \u001b[0mlen\u001b[0m\u001b[1;33m(\u001b[0m\u001b[0mself\u001b[0m\u001b[1;33m.\u001b[0m\u001b[0m_jobs\u001b[0m\u001b[1;33m)\u001b[0m\u001b[1;33m\u001b[0m\u001b[0m\n\u001b[1;32m--> 716\u001b[1;33m             \u001b[0mjob\u001b[0m \u001b[1;33m=\u001b[0m \u001b[0mself\u001b[0m\u001b[1;33m.\u001b[0m\u001b[0m_backend\u001b[0m\u001b[1;33m.\u001b[0m\u001b[0mapply_async\u001b[0m\u001b[1;33m(\u001b[0m\u001b[0mbatch\u001b[0m\u001b[1;33m,\u001b[0m \u001b[0mcallback\u001b[0m\u001b[1;33m=\u001b[0m\u001b[0mcb\u001b[0m\u001b[1;33m)\u001b[0m\u001b[1;33m\u001b[0m\u001b[0m\n\u001b[0m\u001b[0;32m    717\u001b[0m             \u001b[1;31m# A job can complete so quickly than its callback is\u001b[0m\u001b[1;33m\u001b[0m\u001b[1;33m\u001b[0m\u001b[0m\n\u001b[0;32m    718\u001b[0m             \u001b[1;31m# called before we get here, causing self._jobs to\u001b[0m\u001b[1;33m\u001b[0m\u001b[1;33m\u001b[0m\u001b[0m\n",
            "\u001b[1;32mD:\\Anaconda3\\lib\\site-packages\\joblib\\_parallel_backends.py\u001b[0m in \u001b[0;36mapply_async\u001b[1;34m(self, func, callback)\u001b[0m\n\u001b[0;32m    180\u001b[0m     \u001b[1;32mdef\u001b[0m \u001b[0mapply_async\u001b[0m\u001b[1;33m(\u001b[0m\u001b[0mself\u001b[0m\u001b[1;33m,\u001b[0m \u001b[0mfunc\u001b[0m\u001b[1;33m,\u001b[0m \u001b[0mcallback\u001b[0m\u001b[1;33m=\u001b[0m\u001b[1;32mNone\u001b[0m\u001b[1;33m)\u001b[0m\u001b[1;33m:\u001b[0m\u001b[1;33m\u001b[0m\u001b[0m\n\u001b[0;32m    181\u001b[0m         \u001b[1;34m\"\"\"Schedule a func to be run\"\"\"\u001b[0m\u001b[1;33m\u001b[0m\u001b[0m\n\u001b[1;32m--> 182\u001b[1;33m         \u001b[0mresult\u001b[0m \u001b[1;33m=\u001b[0m \u001b[0mImmediateResult\u001b[0m\u001b[1;33m(\u001b[0m\u001b[0mfunc\u001b[0m\u001b[1;33m)\u001b[0m\u001b[1;33m\u001b[0m\u001b[0m\n\u001b[0m\u001b[0;32m    183\u001b[0m         \u001b[1;32mif\u001b[0m \u001b[0mcallback\u001b[0m\u001b[1;33m:\u001b[0m\u001b[1;33m\u001b[0m\u001b[0m\n\u001b[0;32m    184\u001b[0m             \u001b[0mcallback\u001b[0m\u001b[1;33m(\u001b[0m\u001b[0mresult\u001b[0m\u001b[1;33m)\u001b[0m\u001b[1;33m\u001b[0m\u001b[0m\n",
            "\u001b[1;32mD:\\Anaconda3\\lib\\site-packages\\joblib\\_parallel_backends.py\u001b[0m in \u001b[0;36m__init__\u001b[1;34m(self, batch)\u001b[0m\n\u001b[0;32m    547\u001b[0m         \u001b[1;31m# Don't delay the application, to avoid keeping the input\u001b[0m\u001b[1;33m\u001b[0m\u001b[1;33m\u001b[0m\u001b[0m\n\u001b[0;32m    548\u001b[0m         \u001b[1;31m# arguments in memory\u001b[0m\u001b[1;33m\u001b[0m\u001b[1;33m\u001b[0m\u001b[0m\n\u001b[1;32m--> 549\u001b[1;33m         \u001b[0mself\u001b[0m\u001b[1;33m.\u001b[0m\u001b[0mresults\u001b[0m \u001b[1;33m=\u001b[0m \u001b[0mbatch\u001b[0m\u001b[1;33m(\u001b[0m\u001b[1;33m)\u001b[0m\u001b[1;33m\u001b[0m\u001b[0m\n\u001b[0m\u001b[0;32m    550\u001b[0m \u001b[1;33m\u001b[0m\u001b[0m\n\u001b[0;32m    551\u001b[0m     \u001b[1;32mdef\u001b[0m \u001b[0mget\u001b[0m\u001b[1;33m(\u001b[0m\u001b[0mself\u001b[0m\u001b[1;33m)\u001b[0m\u001b[1;33m:\u001b[0m\u001b[1;33m\u001b[0m\u001b[0m\n",
            "\u001b[1;32mD:\\Anaconda3\\lib\\site-packages\\joblib\\parallel.py\u001b[0m in \u001b[0;36m__call__\u001b[1;34m(self)\u001b[0m\n\u001b[0;32m    223\u001b[0m         \u001b[1;32mwith\u001b[0m \u001b[0mparallel_backend\u001b[0m\u001b[1;33m(\u001b[0m\u001b[0mself\u001b[0m\u001b[1;33m.\u001b[0m\u001b[0m_backend\u001b[0m\u001b[1;33m,\u001b[0m \u001b[0mn_jobs\u001b[0m\u001b[1;33m=\u001b[0m\u001b[0mself\u001b[0m\u001b[1;33m.\u001b[0m\u001b[0m_n_jobs\u001b[0m\u001b[1;33m)\u001b[0m\u001b[1;33m:\u001b[0m\u001b[1;33m\u001b[0m\u001b[0m\n\u001b[0;32m    224\u001b[0m             return [func(*args, **kwargs)\n\u001b[1;32m--> 225\u001b[1;33m                     for func, args, kwargs in self.items]\n\u001b[0m\u001b[0;32m    226\u001b[0m \u001b[1;33m\u001b[0m\u001b[0m\n\u001b[0;32m    227\u001b[0m     \u001b[1;32mdef\u001b[0m \u001b[0m__len__\u001b[0m\u001b[1;33m(\u001b[0m\u001b[0mself\u001b[0m\u001b[1;33m)\u001b[0m\u001b[1;33m:\u001b[0m\u001b[1;33m\u001b[0m\u001b[0m\n",
            "\u001b[1;32mD:\\Anaconda3\\lib\\site-packages\\joblib\\parallel.py\u001b[0m in \u001b[0;36m<listcomp>\u001b[1;34m(.0)\u001b[0m\n\u001b[0;32m    223\u001b[0m         \u001b[1;32mwith\u001b[0m \u001b[0mparallel_backend\u001b[0m\u001b[1;33m(\u001b[0m\u001b[0mself\u001b[0m\u001b[1;33m.\u001b[0m\u001b[0m_backend\u001b[0m\u001b[1;33m,\u001b[0m \u001b[0mn_jobs\u001b[0m\u001b[1;33m=\u001b[0m\u001b[0mself\u001b[0m\u001b[1;33m.\u001b[0m\u001b[0m_n_jobs\u001b[0m\u001b[1;33m)\u001b[0m\u001b[1;33m:\u001b[0m\u001b[1;33m\u001b[0m\u001b[0m\n\u001b[0;32m    224\u001b[0m             return [func(*args, **kwargs)\n\u001b[1;32m--> 225\u001b[1;33m                     for func, args, kwargs in self.items]\n\u001b[0m\u001b[0;32m    226\u001b[0m \u001b[1;33m\u001b[0m\u001b[0m\n\u001b[0;32m    227\u001b[0m     \u001b[1;32mdef\u001b[0m \u001b[0m__len__\u001b[0m\u001b[1;33m(\u001b[0m\u001b[0mself\u001b[0m\u001b[1;33m)\u001b[0m\u001b[1;33m:\u001b[0m\u001b[1;33m\u001b[0m\u001b[0m\n",
            "\u001b[1;32mD:\\Anaconda3\\lib\\site-packages\\sklearn\\model_selection\\_validation.py\u001b[0m in \u001b[0;36m_fit_and_score\u001b[1;34m(estimator, X, y, scorer, train, test, verbose, parameters, fit_params, return_train_score, return_parameters, return_n_test_samples, return_times, return_estimator, error_score)\u001b[0m\n\u001b[0;32m    512\u001b[0m             \u001b[0mestimator\u001b[0m\u001b[1;33m.\u001b[0m\u001b[0mfit\u001b[0m\u001b[1;33m(\u001b[0m\u001b[0mX_train\u001b[0m\u001b[1;33m,\u001b[0m \u001b[1;33m**\u001b[0m\u001b[0mfit_params\u001b[0m\u001b[1;33m)\u001b[0m\u001b[1;33m\u001b[0m\u001b[0m\n\u001b[0;32m    513\u001b[0m         \u001b[1;32melse\u001b[0m\u001b[1;33m:\u001b[0m\u001b[1;33m\u001b[0m\u001b[0m\n\u001b[1;32m--> 514\u001b[1;33m             \u001b[0mestimator\u001b[0m\u001b[1;33m.\u001b[0m\u001b[0mfit\u001b[0m\u001b[1;33m(\u001b[0m\u001b[0mX_train\u001b[0m\u001b[1;33m,\u001b[0m \u001b[0my_train\u001b[0m\u001b[1;33m,\u001b[0m \u001b[1;33m**\u001b[0m\u001b[0mfit_params\u001b[0m\u001b[1;33m)\u001b[0m\u001b[1;33m\u001b[0m\u001b[0m\n\u001b[0m\u001b[0;32m    515\u001b[0m \u001b[1;33m\u001b[0m\u001b[0m\n\u001b[0;32m    516\u001b[0m     \u001b[1;32mexcept\u001b[0m \u001b[0mException\u001b[0m \u001b[1;32mas\u001b[0m \u001b[0me\u001b[0m\u001b[1;33m:\u001b[0m\u001b[1;33m\u001b[0m\u001b[0m\n",
            "\u001b[1;32mD:\\Anaconda3\\lib\\site-packages\\sklearn\\linear_model\\logistic.py\u001b[0m in \u001b[0;36mfit\u001b[1;34m(self, X, y, sample_weight)\u001b[0m\n\u001b[0;32m   1547\u001b[0m                 \u001b[0mself\u001b[0m\u001b[1;33m.\u001b[0m\u001b[0mclass_weight\u001b[0m\u001b[1;33m,\u001b[0m \u001b[0mself\u001b[0m\u001b[1;33m.\u001b[0m\u001b[0mpenalty\u001b[0m\u001b[1;33m,\u001b[0m \u001b[0mself\u001b[0m\u001b[1;33m.\u001b[0m\u001b[0mdual\u001b[0m\u001b[1;33m,\u001b[0m \u001b[0mself\u001b[0m\u001b[1;33m.\u001b[0m\u001b[0mverbose\u001b[0m\u001b[1;33m,\u001b[0m\u001b[1;33m\u001b[0m\u001b[0m\n\u001b[0;32m   1548\u001b[0m                 \u001b[0mself\u001b[0m\u001b[1;33m.\u001b[0m\u001b[0mmax_iter\u001b[0m\u001b[1;33m,\u001b[0m \u001b[0mself\u001b[0m\u001b[1;33m.\u001b[0m\u001b[0mtol\u001b[0m\u001b[1;33m,\u001b[0m \u001b[0mself\u001b[0m\u001b[1;33m.\u001b[0m\u001b[0mrandom_state\u001b[0m\u001b[1;33m,\u001b[0m\u001b[1;33m\u001b[0m\u001b[0m\n\u001b[1;32m-> 1549\u001b[1;33m                 sample_weight=sample_weight)\n\u001b[0m\u001b[0;32m   1550\u001b[0m             \u001b[0mself\u001b[0m\u001b[1;33m.\u001b[0m\u001b[0mn_iter_\u001b[0m \u001b[1;33m=\u001b[0m \u001b[0mnp\u001b[0m\u001b[1;33m.\u001b[0m\u001b[0marray\u001b[0m\u001b[1;33m(\u001b[0m\u001b[1;33m[\u001b[0m\u001b[0mn_iter_\u001b[0m\u001b[1;33m]\u001b[0m\u001b[1;33m)\u001b[0m\u001b[1;33m\u001b[0m\u001b[0m\n\u001b[0;32m   1551\u001b[0m             \u001b[1;32mreturn\u001b[0m \u001b[0mself\u001b[0m\u001b[1;33m\u001b[0m\u001b[0m\n",
            "\u001b[1;32mD:\\Anaconda3\\lib\\site-packages\\sklearn\\svm\\base.py\u001b[0m in \u001b[0;36m_fit_liblinear\u001b[1;34m(X, y, C, fit_intercept, intercept_scaling, class_weight, penalty, dual, verbose, max_iter, tol, random_state, multi_class, loss, epsilon, sample_weight)\u001b[0m\n\u001b[0;32m    877\u001b[0m             raise ValueError(\"This solver needs samples of at least 2 classes\"\n\u001b[0;32m    878\u001b[0m                              \u001b[1;34m\" in the data, but the data contains only one\"\u001b[0m\u001b[1;33m\u001b[0m\u001b[0m\n\u001b[1;32m--> 879\u001b[1;33m                              \" class: %r\" % classes_[0])\n\u001b[0m\u001b[0;32m    880\u001b[0m \u001b[1;33m\u001b[0m\u001b[0m\n\u001b[0;32m    881\u001b[0m         \u001b[0mclass_weight_\u001b[0m \u001b[1;33m=\u001b[0m \u001b[0mcompute_class_weight\u001b[0m\u001b[1;33m(\u001b[0m\u001b[0mclass_weight\u001b[0m\u001b[1;33m,\u001b[0m \u001b[0mclasses_\u001b[0m\u001b[1;33m,\u001b[0m \u001b[0my\u001b[0m\u001b[1;33m)\u001b[0m\u001b[1;33m\u001b[0m\u001b[0m\n",
            "\u001b[1;31mValueError\u001b[0m: This solver needs samples of at least 2 classes in the data, but the data contains only one class: 0"
          ]
        }
      ],
      "source": [
        "# Applying 5-fold Cross Validation\n",
        "from sklearn.model_selection import cross_val_score\n",
        "print(cross_val_score(logreg, X_test, y_test, cv=5))"
      ]
    },
    {
      "cell_type": "code",
      "execution_count": null,
      "metadata": {
        "id": "PXTOanrVlKg-",
        "outputId": "ec08c3fd-055b-49e6-c476-e118b230a888"
      },
      "outputs": [
        {
          "data": {
            "text/plain": [
              "0.5"
            ]
          },
          "execution_count": 20,
          "metadata": {},
          "output_type": "execute_result"
        }
      ],
      "source": [
        "roc_auc_score(y_test,y_pred)"
      ]
    },
    {
      "cell_type": "markdown",
      "metadata": {
        "id": "E7BbsWPrlKg-"
      },
      "source": [
        "### Support Vector Classifier (RBF Kernel)"
      ]
    },
    {
      "cell_type": "code",
      "execution_count": null,
      "metadata": {
        "id": "ZU09V7rrlKg-",
        "outputId": "13b8965f-216d-4806-f9d7-bbe81e0e0805"
      },
      "outputs": [
        {
          "name": "stderr",
          "output_type": "stream",
          "text": [
            "D:\\Anaconda3\\lib\\site-packages\\sklearn\\svm\\base.py:193: FutureWarning: The default value of gamma will change from 'auto' to 'scale' in version 0.22 to account better for unscaled features. Set gamma explicitly to 'auto' or 'scale' to avoid this warning.\n",
            "  \"avoid this warning.\", FutureWarning)\n"
          ]
        },
        {
          "data": {
            "text/plain": [
              "SVC(C=1.0, cache_size=200, class_weight=None, coef0=0.0,\n",
              "    decision_function_shape='ovr', degree=3, gamma='auto_deprecated',\n",
              "    kernel='rbf', max_iter=-1, probability=False, random_state=None,\n",
              "    shrinking=True, tol=0.001, verbose=False)"
            ]
          },
          "execution_count": 21,
          "metadata": {},
          "output_type": "execute_result"
        }
      ],
      "source": [
        "from sklearn.svm import SVC\n",
        "svc = SVC(kernel = 'rbf')\n",
        "svc.fit(X_train, y_train)"
      ]
    },
    {
      "cell_type": "code",
      "execution_count": null,
      "metadata": {
        "id": "Ht7bHdpBlKg-",
        "outputId": "00a76999-ecd0-4718-91e4-08e66a2122cc"
      },
      "outputs": [
        {
          "name": "stdout",
          "output_type": "stream",
          "text": [
            "Accuracy of SVM train set : 1.00\n",
            "Accuracy of SVM test set : 1.00\n",
            "              precision    recall  f1-score   support\n",
            "\n",
            "           0       1.00      1.00      1.00       240\n",
            "           1       0.00      0.00      0.00         1\n",
            "\n",
            "    accuracy                           1.00       241\n",
            "   macro avg       0.50      0.50      0.50       241\n",
            "weighted avg       0.99      1.00      0.99       241\n",
            "\n",
            "[[240   0]\n",
            " [  1   0]]\n"
          ]
        },
        {
          "name": "stderr",
          "output_type": "stream",
          "text": [
            "D:\\Anaconda3\\lib\\site-packages\\sklearn\\metrics\\classification.py:1437: UndefinedMetricWarning: Precision and F-score are ill-defined and being set to 0.0 in labels with no predicted samples.\n",
            "  'precision', 'predicted', average, warn_for)\n",
            "D:\\Anaconda3\\lib\\site-packages\\sklearn\\metrics\\classification.py:1437: UndefinedMetricWarning: Precision and F-score are ill-defined and being set to 0.0 in labels with no predicted samples.\n",
            "  'precision', 'predicted', average, warn_for)\n",
            "D:\\Anaconda3\\lib\\site-packages\\sklearn\\metrics\\classification.py:1437: UndefinedMetricWarning: Precision and F-score are ill-defined and being set to 0.0 in labels with no predicted samples.\n",
            "  'precision', 'predicted', average, warn_for)\n",
            "D:\\Anaconda3\\lib\\site-packages\\sklearn\\model_selection\\_split.py:657: Warning: The least populated class in y has only 3 members, which is too few. The minimum number of members in any class cannot be less than n_splits=5.\n",
            "  % (min_groups, self.n_splits)), Warning)\n",
            "D:\\Anaconda3\\lib\\site-packages\\sklearn\\svm\\base.py:193: FutureWarning: The default value of gamma will change from 'auto' to 'scale' in version 0.22 to account better for unscaled features. Set gamma explicitly to 'auto' or 'scale' to avoid this warning.\n",
            "  \"avoid this warning.\", FutureWarning)\n",
            "D:\\Anaconda3\\lib\\site-packages\\sklearn\\svm\\base.py:193: FutureWarning: The default value of gamma will change from 'auto' to 'scale' in version 0.22 to account better for unscaled features. Set gamma explicitly to 'auto' or 'scale' to avoid this warning.\n",
            "  \"avoid this warning.\", FutureWarning)\n",
            "D:\\Anaconda3\\lib\\site-packages\\sklearn\\svm\\base.py:193: FutureWarning: The default value of gamma will change from 'auto' to 'scale' in version 0.22 to account better for unscaled features. Set gamma explicitly to 'auto' or 'scale' to avoid this warning.\n",
            "  \"avoid this warning.\", FutureWarning)\n",
            "D:\\Anaconda3\\lib\\site-packages\\sklearn\\svm\\base.py:193: FutureWarning: The default value of gamma will change from 'auto' to 'scale' in version 0.22 to account better for unscaled features. Set gamma explicitly to 'auto' or 'scale' to avoid this warning.\n",
            "  \"avoid this warning.\", FutureWarning)\n"
          ]
        },
        {
          "name": "stdout",
          "output_type": "stream",
          "text": [
            "[0.99310345 0.99310345 0.99310345 1.         1.        ]\n"
          ]
        },
        {
          "name": "stderr",
          "output_type": "stream",
          "text": [
            "D:\\Anaconda3\\lib\\site-packages\\sklearn\\svm\\base.py:193: FutureWarning: The default value of gamma will change from 'auto' to 'scale' in version 0.22 to account better for unscaled features. Set gamma explicitly to 'auto' or 'scale' to avoid this warning.\n",
            "  \"avoid this warning.\", FutureWarning)\n"
          ]
        }
      ],
      "source": [
        "y_pred = svc.predict(X_test)\n",
        "print('Accuracy of SVM train set : {:.2f}'.format(svc.score(X_train, y_train)))\n",
        "print('Accuracy of SVM test set : {:.2f}'.format(svc.score(X_test, y_test)))\n",
        "print(classification_report(y_test, y_pred))\n",
        "print(confusion_matrix(y_test, y_pred))\n",
        "print(cross_val_score(svc, X_train, y_train, cv=5))"
      ]
    },
    {
      "cell_type": "code",
      "execution_count": null,
      "metadata": {
        "id": "Xql10f37lKg_",
        "outputId": "648ef2a3-48c6-4ccd-a92b-f9798ca16933"
      },
      "outputs": [
        {
          "data": {
            "text/plain": [
              "0.5"
            ]
          },
          "execution_count": 26,
          "metadata": {},
          "output_type": "execute_result"
        }
      ],
      "source": [
        "roc_auc_score(y_test,y_pred)"
      ]
    },
    {
      "cell_type": "markdown",
      "metadata": {
        "id": "FzxPtJS6lKhA"
      },
      "source": [
        "### Random Forest Classifier"
      ]
    },
    {
      "cell_type": "code",
      "execution_count": null,
      "metadata": {
        "id": "4vSsJpM1lKhA",
        "outputId": "c6201a07-fc2f-4a7a-8c4b-9181c951b46f"
      },
      "outputs": [
        {
          "name": "stderr",
          "output_type": "stream",
          "text": [
            "D:\\Anaconda3\\lib\\site-packages\\sklearn\\ensemble\\forest.py:245: FutureWarning: The default value of n_estimators will change from 10 in version 0.20 to 100 in 0.22.\n",
            "  \"10 in version 0.20 to 100 in 0.22.\", FutureWarning)\n",
            "D:\\Anaconda3\\lib\\site-packages\\sklearn\\metrics\\classification.py:1437: UndefinedMetricWarning: Precision and F-score are ill-defined and being set to 0.0 in labels with no predicted samples.\n",
            "  'precision', 'predicted', average, warn_for)\n",
            "D:\\Anaconda3\\lib\\site-packages\\sklearn\\metrics\\classification.py:1437: UndefinedMetricWarning: Precision and F-score are ill-defined and being set to 0.0 in labels with no predicted samples.\n",
            "  'precision', 'predicted', average, warn_for)\n",
            "D:\\Anaconda3\\lib\\site-packages\\sklearn\\metrics\\classification.py:1437: UndefinedMetricWarning: Precision and F-score are ill-defined and being set to 0.0 in labels with no predicted samples.\n",
            "  'precision', 'predicted', average, warn_for)\n",
            "D:\\Anaconda3\\lib\\site-packages\\sklearn\\model_selection\\_split.py:657: Warning: The least populated class in y has only 3 members, which is too few. The minimum number of members in any class cannot be less than n_splits=5.\n",
            "  % (min_groups, self.n_splits)), Warning)\n"
          ]
        },
        {
          "name": "stdout",
          "output_type": "stream",
          "text": [
            "Accuracy of Random Forest classifier on training set: 1.00\n",
            "Accuracy of Random Forest classifier on test set: 1.00\n",
            "              precision    recall  f1-score   support\n",
            "\n",
            "           0       1.00      1.00      1.00       240\n",
            "           1       0.00      0.00      0.00         1\n",
            "\n",
            "    accuracy                           1.00       241\n",
            "   macro avg       0.50      0.50      0.50       241\n",
            "weighted avg       0.99      1.00      0.99       241\n",
            "\n",
            "[[240   0]\n",
            " [  1   0]]\n",
            "[0.99310345 0.99310345 0.99310345 1.         1.        ]\n"
          ]
        }
      ],
      "source": [
        "from sklearn.ensemble import RandomForestClassifier\n",
        "\n",
        "clf = RandomForestClassifier().fit(X_train, y_train)\n",
        "y_pred3 = clf.predict(X_test)\n",
        "print('Accuracy of Random Forest classifier on training set: {:.2f}'\n",
        "     .format(clf.score(X_train, y_train)))\n",
        "print('Accuracy of Random Forest classifier on test set: {:.2f}'\n",
        "     .format(clf.score(X_test, y_test)))\n",
        "print(classification_report(y_test, y_pred3))\n",
        "print(confusion_matrix(y_test, y_pred3))\n",
        "print(cross_val_score(clf, X_train, y_train, cv=5))"
      ]
    },
    {
      "cell_type": "code",
      "execution_count": null,
      "metadata": {
        "id": "ydtKHWSklKhA",
        "outputId": "f881aeef-40fb-4034-8275-a7905af2770f"
      },
      "outputs": [
        {
          "data": {
            "text/plain": [
              "0.5"
            ]
          },
          "execution_count": 27,
          "metadata": {},
          "output_type": "execute_result"
        }
      ],
      "source": [
        "roc_auc_score(y_test,y_pred3)"
      ]
    },
    {
      "cell_type": "markdown",
      "metadata": {
        "id": "hJe9BfktlKhA"
      },
      "source": [
        "## Post-Sampling Approach"
      ]
    },
    {
      "cell_type": "markdown",
      "metadata": {
        "id": "bhPpWacrlKhA"
      },
      "source": [
        "As we saw in the Pre-Sampling Approach, due to lack of defective instaces in the dataset, all models were leading to overfitting, especially in their respective training sets. Hence, we need to apply Oversampling techniques to balance the imabalanced datasets. A lot of general algorithms are available for that. We will use the SMOTE Algorithm wbich generates duplicate instances to bring the minority class at par with the majority class. After that, we will again compute the performance metrics for all the models discussed above and compare the results. "
      ]
    },
    {
      "cell_type": "markdown",
      "metadata": {
        "id": "y0TlhCcplKhA"
      },
      "source": [
        "## SMOTE"
      ]
    },
    {
      "cell_type": "markdown",
      "metadata": {
        "id": "TSgRUxvOlKhA"
      },
      "source": [
        "### Balancing the Test Set Using SMOTE Algorithm"
      ]
    },
    {
      "cell_type": "code",
      "execution_count": null,
      "metadata": {
        "scrolled": true,
        "id": "8I9QCRsVlKhA",
        "outputId": "18074be1-62f8-48c6-f493-6534f4354908"
      },
      "outputs": [
        {
          "name": "stdout",
          "output_type": "stream",
          "text": [
            "Number transactions X_train dataset:  (721, 83)\n",
            "Number transactions y_train dataset:  (721,)\n",
            "Number transactions X_test dataset:  (241, 83)\n",
            "Number transactions y_test dataset:  (241,)\n"
          ]
        },
        {
          "name": "stderr",
          "output_type": "stream",
          "text": [
            "D:\\Anaconda3\\lib\\site-packages\\sklearn\\externals\\six.py:31: DeprecationWarning: The module is deprecated in version 0.21 and will be removed in version 0.23 since we've dropped support for Python 2.7. Please rely on the official version of six (https://pypi.org/project/six/).\n",
            "  \"(https://pypi.org/project/six/).\", DeprecationWarning)\n"
          ]
        }
      ],
      "source": [
        "from imblearn.over_sampling import SMOTE\n",
        "\n",
        "print(\"Number transactions X_train dataset: \", X_train.shape)\n",
        "print(\"Number transactions y_train dataset: \", y_train.shape)\n",
        "print(\"Number transactions X_test dataset: \", X_test.shape)\n",
        "print(\"Number transactions y_test dataset: \", y_test.shape)"
      ]
    },
    {
      "cell_type": "code",
      "execution_count": null,
      "metadata": {
        "id": "XRvNS5uklKhA",
        "outputId": "b4ff30cc-e41b-4aef-cee8-c59d1d055af2"
      },
      "outputs": [
        {
          "name": "stdout",
          "output_type": "stream",
          "text": [
            "Before OverSampling, counts of label '1': 3\n",
            "Before OverSampling, counts of label '0': 718 \n",
            "\n"
          ]
        }
      ],
      "source": [
        "print(\"Before OverSampling, counts of label '1': {}\".format(sum(y_train==1)))\n",
        "print(\"Before OverSampling, counts of label '0': {} \\n\".format(sum(y_train==0)))"
      ]
    },
    {
      "cell_type": "code",
      "execution_count": null,
      "metadata": {
        "id": "vX8qtZ04lKhB",
        "outputId": "9a7f5d50-e77f-4668-b247-40f663c838ab"
      },
      "outputs": [
        {
          "name": "stdout",
          "output_type": "stream",
          "text": [
            "After OverSampling, the shape of X: (1916, 83)\n",
            "After OverSampling, the shape of y: (1916,) \n",
            "\n",
            "After OverSampling, counts of label '1': 958\n",
            "After OverSampling, counts of label '0': 958\n"
          ]
        }
      ],
      "source": [
        "smt = SMOTE(k_neighbors = 1)\n",
        "X_train_res, y_train_res = smt.fit_sample(X, y)\n",
        "\n",
        "print('After OverSampling, the shape of X: {}'.format(X_train_res.shape))\n",
        "print('After OverSampling, the shape of y: {} \\n'.format(y_train_res.shape))\n",
        "\n",
        "print(\"After OverSampling, counts of label '1': {}\".format(sum(y_train_res==1)))\n",
        "print(\"After OverSampling, counts of label '0': {}\".format(sum(y_train_res==0)))\n"
      ]
    },
    {
      "cell_type": "code",
      "execution_count": null,
      "metadata": {
        "id": "EKusyeHMlKhB"
      },
      "outputs": [],
      "source": [
        ""
      ]
    },
    {
      "cell_type": "markdown",
      "metadata": {
        "id": "wOQGaqhtlKhB"
      },
      "source": [
        "### logistic Regression with SMOTE"
      ]
    },
    {
      "cell_type": "code",
      "execution_count": null,
      "metadata": {
        "id": "XoekY1dylKhB",
        "outputId": "c928412f-c056-471b-81bf-ef7cf72e54ea"
      },
      "outputs": [
        {
          "name": "stderr",
          "output_type": "stream",
          "text": [
            "D:\\Anaconda3\\lib\\site-packages\\sklearn\\linear_model\\logistic.py:432: FutureWarning: Default solver will be changed to 'lbfgs' in 0.22. Specify a solver to silence this warning.\n",
            "  FutureWarning)\n",
            "D:\\Anaconda3\\lib\\site-packages\\sklearn\\svm\\base.py:929: ConvergenceWarning: Liblinear failed to converge, increase the number of iterations.\n",
            "  \"the number of iterations.\", ConvergenceWarning)\n",
            "D:\\Anaconda3\\lib\\site-packages\\sklearn\\linear_model\\logistic.py:432: FutureWarning: Default solver will be changed to 'lbfgs' in 0.22. Specify a solver to silence this warning.\n",
            "  FutureWarning)\n",
            "D:\\Anaconda3\\lib\\site-packages\\sklearn\\linear_model\\logistic.py:432: FutureWarning: Default solver will be changed to 'lbfgs' in 0.22. Specify a solver to silence this warning.\n",
            "  FutureWarning)\n"
          ]
        },
        {
          "name": "stdout",
          "output_type": "stream",
          "text": [
            "Accuracy of Logistic Regression train set: 0.94\n",
            "Accuracy of Logistic Regression test set: 0.9128630705394191\n",
            "              precision    recall  f1-score   support\n",
            "\n",
            "           0       1.00      0.91      0.95       240\n",
            "           1       0.05      1.00      0.09         1\n",
            "\n",
            "    accuracy                           0.91       241\n",
            "   macro avg       0.52      0.96      0.52       241\n",
            "weighted avg       1.00      0.91      0.95       241\n",
            "\n",
            "[[219  21]\n",
            " [  0   1]]\n"
          ]
        },
        {
          "name": "stderr",
          "output_type": "stream",
          "text": [
            "D:\\Anaconda3\\lib\\site-packages\\sklearn\\svm\\base.py:929: ConvergenceWarning: Liblinear failed to converge, increase the number of iterations.\n",
            "  \"the number of iterations.\", ConvergenceWarning)\n",
            "D:\\Anaconda3\\lib\\site-packages\\sklearn\\linear_model\\logistic.py:432: FutureWarning: Default solver will be changed to 'lbfgs' in 0.22. Specify a solver to silence this warning.\n",
            "  FutureWarning)\n",
            "D:\\Anaconda3\\lib\\site-packages\\sklearn\\svm\\base.py:929: ConvergenceWarning: Liblinear failed to converge, increase the number of iterations.\n",
            "  \"the number of iterations.\", ConvergenceWarning)\n",
            "D:\\Anaconda3\\lib\\site-packages\\sklearn\\linear_model\\logistic.py:432: FutureWarning: Default solver will be changed to 'lbfgs' in 0.22. Specify a solver to silence this warning.\n",
            "  FutureWarning)\n"
          ]
        },
        {
          "name": "stdout",
          "output_type": "stream",
          "text": [
            "[0.828125   0.96614583 0.90104167 0.96596859 0.97382199]\n"
          ]
        },
        {
          "name": "stderr",
          "output_type": "stream",
          "text": [
            "D:\\Anaconda3\\lib\\site-packages\\sklearn\\svm\\base.py:929: ConvergenceWarning: Liblinear failed to converge, increase the number of iterations.\n",
            "  \"the number of iterations.\", ConvergenceWarning)\n",
            "D:\\Anaconda3\\lib\\site-packages\\sklearn\\linear_model\\logistic.py:432: FutureWarning: Default solver will be changed to 'lbfgs' in 0.22. Specify a solver to silence this warning.\n",
            "  FutureWarning)\n",
            "D:\\Anaconda3\\lib\\site-packages\\sklearn\\svm\\base.py:929: ConvergenceWarning: Liblinear failed to converge, increase the number of iterations.\n",
            "  \"the number of iterations.\", ConvergenceWarning)\n"
          ]
        }
      ],
      "source": [
        "logreg = LogisticRegression()\n",
        "logreg.fit(X_train_res, y_train_res)\n",
        "y_pred = logreg.predict(X_test)\n",
        "print('Accuracy of Logistic Regression train set: {:.2f}'.format(logreg.score(X_train_res, y_train_res)))\n",
        "print('Accuracy of Logistic Regression test set: {}'.format(logreg.score(X_test, y_test)))\n",
        "print(classification_report(y_test, y_pred))\n",
        "print(confusion_matrix(y_test, y_pred))\n",
        "print(cross_val_score(logreg, X_train_res, y_train_res, cv=5))"
      ]
    },
    {
      "cell_type": "code",
      "execution_count": null,
      "metadata": {
        "id": "K9gAmBarlKhB",
        "outputId": "8d022642-9917-4d2a-91c4-9b8a085edfa1"
      },
      "outputs": [
        {
          "data": {
            "text/plain": [
              "0.9562499999999999"
            ]
          },
          "execution_count": 32,
          "metadata": {},
          "output_type": "execute_result"
        }
      ],
      "source": [
        "roc_auc_score(y_test,y_pred)"
      ]
    },
    {
      "cell_type": "markdown",
      "metadata": {
        "id": "1omoopyZlKhB"
      },
      "source": [
        "### SVM with SMOTE"
      ]
    },
    {
      "cell_type": "code",
      "execution_count": null,
      "metadata": {
        "id": "DUYQTAallKhB",
        "outputId": "614947e5-1cc4-484b-9f4d-31f3e02ba5b5"
      },
      "outputs": [
        {
          "name": "stderr",
          "output_type": "stream",
          "text": [
            "D:\\Anaconda3\\lib\\site-packages\\sklearn\\svm\\base.py:193: FutureWarning: The default value of gamma will change from 'auto' to 'scale' in version 0.22 to account better for unscaled features. Set gamma explicitly to 'auto' or 'scale' to avoid this warning.\n",
            "  \"avoid this warning.\", FutureWarning)\n"
          ]
        },
        {
          "name": "stdout",
          "output_type": "stream",
          "text": [
            "Accuracy of SVM train set : 1.00\n",
            "Accuracy of SVM test set : 1.00\n",
            "              precision    recall  f1-score   support\n",
            "\n",
            "           0       1.00      1.00      1.00       240\n",
            "           1       1.00      1.00      1.00         1\n",
            "\n",
            "    accuracy                           1.00       241\n",
            "   macro avg       1.00      1.00      1.00       241\n",
            "weighted avg       1.00      1.00      1.00       241\n",
            "\n",
            "[[240   0]\n",
            " [  0   1]]\n"
          ]
        },
        {
          "name": "stderr",
          "output_type": "stream",
          "text": [
            "D:\\Anaconda3\\lib\\site-packages\\sklearn\\svm\\base.py:193: FutureWarning: The default value of gamma will change from 'auto' to 'scale' in version 0.22 to account better for unscaled features. Set gamma explicitly to 'auto' or 'scale' to avoid this warning.\n",
            "  \"avoid this warning.\", FutureWarning)\n",
            "D:\\Anaconda3\\lib\\site-packages\\sklearn\\svm\\base.py:193: FutureWarning: The default value of gamma will change from 'auto' to 'scale' in version 0.22 to account better for unscaled features. Set gamma explicitly to 'auto' or 'scale' to avoid this warning.\n",
            "  \"avoid this warning.\", FutureWarning)\n",
            "D:\\Anaconda3\\lib\\site-packages\\sklearn\\svm\\base.py:193: FutureWarning: The default value of gamma will change from 'auto' to 'scale' in version 0.22 to account better for unscaled features. Set gamma explicitly to 'auto' or 'scale' to avoid this warning.\n",
            "  \"avoid this warning.\", FutureWarning)\n",
            "D:\\Anaconda3\\lib\\site-packages\\sklearn\\svm\\base.py:193: FutureWarning: The default value of gamma will change from 'auto' to 'scale' in version 0.22 to account better for unscaled features. Set gamma explicitly to 'auto' or 'scale' to avoid this warning.\n",
            "  \"avoid this warning.\", FutureWarning)\n",
            "D:\\Anaconda3\\lib\\site-packages\\sklearn\\svm\\base.py:193: FutureWarning: The default value of gamma will change from 'auto' to 'scale' in version 0.22 to account better for unscaled features. Set gamma explicitly to 'auto' or 'scale' to avoid this warning.\n",
            "  \"avoid this warning.\", FutureWarning)\n"
          ]
        },
        {
          "name": "stdout",
          "output_type": "stream",
          "text": [
            "[0.50260417 0.50520833 0.5        0.5        0.5       ]\n"
          ]
        }
      ],
      "source": [
        "from sklearn.svm import SVC\n",
        "svc = SVC()\n",
        "svc.fit(X_train_res, y_train_res)\n",
        "y_pred = svc.predict(X_test)\n",
        "print('Accuracy of SVM train set : {:.2f}'.format(svc.score(X_train_res, y_train_res)))\n",
        "print('Accuracy of SVM test set : {:.2f}'.format(svc.score(X_test, y_test)))\n",
        "print(classification_report(y_test, y_pred))\n",
        "print(confusion_matrix(y_test, y_pred))\n",
        "print(cross_val_score(svc, X_train_res, y_train_res, cv=5))"
      ]
    },
    {
      "cell_type": "code",
      "execution_count": null,
      "metadata": {
        "id": "PDcf7-6xlKhB",
        "outputId": "b30fbc60-59c9-4c51-e6ee-18aa84f86df1"
      },
      "outputs": [
        {
          "data": {
            "text/plain": [
              "1.0"
            ]
          },
          "execution_count": 34,
          "metadata": {},
          "output_type": "execute_result"
        }
      ],
      "source": [
        "roc_auc_score(y_test,y_pred)"
      ]
    },
    {
      "cell_type": "markdown",
      "metadata": {
        "id": "qJGkAUq6lKhB"
      },
      "source": [
        "### Random Forest Classifier with SMOTE"
      ]
    },
    {
      "cell_type": "code",
      "execution_count": null,
      "metadata": {
        "scrolled": true,
        "id": "iG1BlQGDlKhB",
        "outputId": "9eae8155-9ce6-47b0-fc47-d1bc9f61aab4"
      },
      "outputs": [
        {
          "name": "stderr",
          "output_type": "stream",
          "text": [
            "D:\\Anaconda3\\lib\\site-packages\\sklearn\\ensemble\\forest.py:245: FutureWarning: The default value of n_estimators will change from 10 in version 0.20 to 100 in 0.22.\n",
            "  \"10 in version 0.20 to 100 in 0.22.\", FutureWarning)\n"
          ]
        },
        {
          "name": "stdout",
          "output_type": "stream",
          "text": [
            "Accuracy of Random Forest classifier on training set: 1.00\n",
            "Accuracy of Random Forest classifier on test set: 1.00\n",
            "              precision    recall  f1-score   support\n",
            "\n",
            "           0       1.00      1.00      1.00       240\n",
            "           1       1.00      1.00      1.00         1\n",
            "\n",
            "    accuracy                           1.00       241\n",
            "   macro avg       1.00      1.00      1.00       241\n",
            "weighted avg       1.00      1.00      1.00       241\n",
            "\n",
            "[[240   0]\n",
            " [  0   1]]\n",
            "[0.99739583 1.         1.         0.9973822  0.9947644 ]\n"
          ]
        }
      ],
      "source": [
        "from sklearn.ensemble import RandomForestClassifier\n",
        "clf2 = RandomForestClassifier().fit(X_train_res, y_train_res)\n",
        "y_pred6 = clf2.predict(X_test)\n",
        "print('Accuracy of Random Forest classifier on training set: {:.2f}'.format(clf2.score(X_train_res, y_train_res)))\n",
        "print('Accuracy of Random Forest classifier on test set: {:.2f}'.format(clf2.score(X_test, y_test)))\n",
        "print(classification_report(y_test, y_pred6))\n",
        "print(confusion_matrix(y_test, y_pred6))\n",
        "print(cross_val_score(clf2, X_train_res, y_train_res, cv=5))"
      ]
    },
    {
      "cell_type": "code",
      "execution_count": null,
      "metadata": {
        "id": "btD_SINClKhC",
        "outputId": "aa9c9976-1685-485d-e0d3-a8d694683eed"
      },
      "outputs": [
        {
          "data": {
            "text/plain": [
              "1.0"
            ]
          },
          "execution_count": 36,
          "metadata": {},
          "output_type": "execute_result"
        }
      ],
      "source": [
        "roc_auc_score(y_test,y_pred)"
      ]
    },
    {
      "cell_type": "markdown",
      "metadata": {
        "id": "Tn-KwTEFlKhC"
      },
      "source": [
        "## SMOTE + Standardization"
      ]
    },
    {
      "cell_type": "code",
      "execution_count": null,
      "metadata": {
        "id": "TZlDzrNNlKhC"
      },
      "outputs": [],
      "source": [
        "from sklearn.preprocessing import StandardScaler\n",
        "sc = StandardScaler()\n",
        "X_train_res = sc.fit_transform(X_train_res)\n",
        "X_test = sc.transform(X_test)"
      ]
    },
    {
      "cell_type": "code",
      "execution_count": null,
      "metadata": {
        "id": "kn7Do7uklKhC",
        "outputId": "d0d4066f-0703-4169-f6ec-3cdcd606f322"
      },
      "outputs": [
        {
          "name": "stderr",
          "output_type": "stream",
          "text": [
            "D:\\Anaconda3\\lib\\site-packages\\sklearn\\linear_model\\logistic.py:432: FutureWarning: Default solver will be changed to 'lbfgs' in 0.22. Specify a solver to silence this warning.\n",
            "  FutureWarning)\n",
            "D:\\Anaconda3\\lib\\site-packages\\sklearn\\linear_model\\logistic.py:432: FutureWarning: Default solver will be changed to 'lbfgs' in 0.22. Specify a solver to silence this warning.\n",
            "  FutureWarning)\n",
            "D:\\Anaconda3\\lib\\site-packages\\sklearn\\linear_model\\logistic.py:432: FutureWarning: Default solver will be changed to 'lbfgs' in 0.22. Specify a solver to silence this warning.\n",
            "  FutureWarning)\n",
            "D:\\Anaconda3\\lib\\site-packages\\sklearn\\linear_model\\logistic.py:432: FutureWarning: Default solver will be changed to 'lbfgs' in 0.22. Specify a solver to silence this warning.\n",
            "  FutureWarning)\n",
            "D:\\Anaconda3\\lib\\site-packages\\sklearn\\linear_model\\logistic.py:432: FutureWarning: Default solver will be changed to 'lbfgs' in 0.22. Specify a solver to silence this warning.\n",
            "  FutureWarning)\n",
            "D:\\Anaconda3\\lib\\site-packages\\sklearn\\linear_model\\logistic.py:432: FutureWarning: Default solver will be changed to 'lbfgs' in 0.22. Specify a solver to silence this warning.\n",
            "  FutureWarning)\n"
          ]
        },
        {
          "name": "stdout",
          "output_type": "stream",
          "text": [
            "Accuracy of Logistic Regression train set: 0.99\n",
            "Accuracy of Logistic Regression test set: 0.970954356846473\n",
            "              precision    recall  f1-score   support\n",
            "\n",
            "           0       1.00      0.97      0.99       240\n",
            "           1       0.12      1.00      0.22         1\n",
            "\n",
            "    accuracy                           0.97       241\n",
            "   macro avg       0.56      0.99      0.60       241\n",
            "weighted avg       1.00      0.97      0.98       241\n",
            "\n",
            "[[233   7]\n",
            " [  0   1]]\n",
            "[0.95572917 0.99479167 0.96875    0.98429319 0.95026178]\n"
          ]
        },
        {
          "data": {
            "text/plain": [
              "0.9854166666666666"
            ]
          },
          "execution_count": 38,
          "metadata": {},
          "output_type": "execute_result"
        }
      ],
      "source": [
        "logreg = LogisticRegression()\n",
        "logreg.fit(X_train_res, y_train_res)\n",
        "y_pred = logreg.predict(X_test)\n",
        "print('Accuracy of Logistic Regression train set: {:.2f}'.format(logreg.score(X_train_res, y_train_res)))\n",
        "print('Accuracy of Logistic Regression test set: {}'.format(logreg.score(X_test, y_test)))\n",
        "print(classification_report(y_test, y_pred))\n",
        "print(confusion_matrix(y_test, y_pred))\n",
        "print(cross_val_score(logreg, X_train_res, y_train_res, cv=5))\n",
        "roc_auc_score(y_test,y_pred)"
      ]
    },
    {
      "cell_type": "code",
      "execution_count": null,
      "metadata": {
        "id": "suwAjIjIlKhC",
        "outputId": "0457a34f-46fe-4b3c-e651-c3593d3aa16d"
      },
      "outputs": [
        {
          "name": "stderr",
          "output_type": "stream",
          "text": [
            "D:\\Anaconda3\\lib\\site-packages\\sklearn\\svm\\base.py:193: FutureWarning: The default value of gamma will change from 'auto' to 'scale' in version 0.22 to account better for unscaled features. Set gamma explicitly to 'auto' or 'scale' to avoid this warning.\n",
            "  \"avoid this warning.\", FutureWarning)\n",
            "D:\\Anaconda3\\lib\\site-packages\\sklearn\\svm\\base.py:193: FutureWarning: The default value of gamma will change from 'auto' to 'scale' in version 0.22 to account better for unscaled features. Set gamma explicitly to 'auto' or 'scale' to avoid this warning.\n",
            "  \"avoid this warning.\", FutureWarning)\n"
          ]
        },
        {
          "name": "stdout",
          "output_type": "stream",
          "text": [
            "Accuracy of SVM train set : 1.00\n",
            "Accuracy of SVM test set : 0.99\n",
            "              precision    recall  f1-score   support\n",
            "\n",
            "           0       1.00      0.99      0.99       240\n",
            "           1       0.25      1.00      0.40         1\n",
            "\n",
            "    accuracy                           0.99       241\n",
            "   macro avg       0.62      0.99      0.70       241\n",
            "weighted avg       1.00      0.99      0.99       241\n",
            "\n",
            "[[237   3]\n",
            " [  0   1]]\n"
          ]
        },
        {
          "name": "stderr",
          "output_type": "stream",
          "text": [
            "D:\\Anaconda3\\lib\\site-packages\\sklearn\\svm\\base.py:193: FutureWarning: The default value of gamma will change from 'auto' to 'scale' in version 0.22 to account better for unscaled features. Set gamma explicitly to 'auto' or 'scale' to avoid this warning.\n",
            "  \"avoid this warning.\", FutureWarning)\n",
            "D:\\Anaconda3\\lib\\site-packages\\sklearn\\svm\\base.py:193: FutureWarning: The default value of gamma will change from 'auto' to 'scale' in version 0.22 to account better for unscaled features. Set gamma explicitly to 'auto' or 'scale' to avoid this warning.\n",
            "  \"avoid this warning.\", FutureWarning)\n",
            "D:\\Anaconda3\\lib\\site-packages\\sklearn\\svm\\base.py:193: FutureWarning: The default value of gamma will change from 'auto' to 'scale' in version 0.22 to account better for unscaled features. Set gamma explicitly to 'auto' or 'scale' to avoid this warning.\n",
            "  \"avoid this warning.\", FutureWarning)\n",
            "D:\\Anaconda3\\lib\\site-packages\\sklearn\\svm\\base.py:193: FutureWarning: The default value of gamma will change from 'auto' to 'scale' in version 0.22 to account better for unscaled features. Set gamma explicitly to 'auto' or 'scale' to avoid this warning.\n",
            "  \"avoid this warning.\", FutureWarning)\n"
          ]
        },
        {
          "name": "stdout",
          "output_type": "stream",
          "text": [
            "[0.9921875  1.         0.98697917 0.9973822  0.98429319]\n"
          ]
        },
        {
          "data": {
            "text/plain": [
              "0.99375"
            ]
          },
          "execution_count": 39,
          "metadata": {},
          "output_type": "execute_result"
        }
      ],
      "source": [
        "svc = SVC()\n",
        "svc.fit(X_train_res, y_train_res)\n",
        "y_pred = svc.predict(X_test)\n",
        "print('Accuracy of SVM train set : {:.2f}'.format(svc.score(X_train_res, y_train_res)))\n",
        "print('Accuracy of SVM test set : {:.2f}'.format(svc.score(X_test, y_test)))\n",
        "print(classification_report(y_test, y_pred))\n",
        "print(confusion_matrix(y_test, y_pred))\n",
        "print(cross_val_score(svc, X_train_res, y_train_res, cv=5))\n",
        "roc_auc_score(y_test,y_pred)"
      ]
    },
    {
      "cell_type": "code",
      "execution_count": null,
      "metadata": {
        "id": "DDAikZeMlKhC",
        "outputId": "2e30772c-7552-41fb-a4c4-28b94ee87fcb"
      },
      "outputs": [
        {
          "name": "stderr",
          "output_type": "stream",
          "text": [
            "D:\\Anaconda3\\lib\\site-packages\\sklearn\\ensemble\\forest.py:245: FutureWarning: The default value of n_estimators will change from 10 in version 0.20 to 100 in 0.22.\n",
            "  \"10 in version 0.20 to 100 in 0.22.\", FutureWarning)\n"
          ]
        },
        {
          "name": "stdout",
          "output_type": "stream",
          "text": [
            "Accuracy of Random Forest classifier on training set: 1.00\n",
            "Accuracy of Random Forest classifier on test set: 1.00\n",
            "              precision    recall  f1-score   support\n",
            "\n",
            "           0       1.00      1.00      1.00       240\n",
            "           1       1.00      1.00      1.00         1\n",
            "\n",
            "    accuracy                           1.00       241\n",
            "   macro avg       1.00      1.00      1.00       241\n",
            "weighted avg       1.00      1.00      1.00       241\n",
            "\n",
            "[[240   0]\n",
            " [  0   1]]\n",
            "[0.99479167 1.         1.         0.9973822  0.9973822 ]\n"
          ]
        },
        {
          "data": {
            "text/plain": [
              "1.0"
            ]
          },
          "execution_count": 40,
          "metadata": {},
          "output_type": "execute_result"
        }
      ],
      "source": [
        "clf = RandomForestClassifier().fit(X_train_res, y_train_res)\n",
        "y_pred = clf.predict(X_test)\n",
        "print('Accuracy of Random Forest classifier on training set: {:.2f}'.format(clf.score(X_train_res, y_train_res)))\n",
        "print('Accuracy of Random Forest classifier on test set: {:.2f}'.format(clf.score(X_test, y_test)))\n",
        "print(classification_report(y_test, y_pred))\n",
        "print(confusion_matrix(y_test, y_pred))\n",
        "print(cross_val_score(clf, X_train_res, y_train_res, cv=5))\n",
        "roc_auc_score(y_test,y_pred)"
      ]
    },
    {
      "cell_type": "markdown",
      "metadata": {
        "id": "EvlbMB9clKhC"
      },
      "source": [
        "## Random Oversapmling"
      ]
    },
    {
      "cell_type": "code",
      "execution_count": null,
      "metadata": {
        "id": "uQXCcO1ilKhC"
      },
      "outputs": [],
      "source": [
        "from imblearn.over_sampling import RandomOverSampler\n",
        "\n",
        "print(\"Number transactions X_train dataset: \", X_train.shape)\n",
        "print(\"Number transactions y_train dataset: \", y_train.shape)\n",
        "print(\"Number transactions X_test dataset: \", X_test.shape)\n",
        "print(\"Number transactions y_test dataset: \", y_test.shape)"
      ]
    },
    {
      "cell_type": "code",
      "execution_count": null,
      "metadata": {
        "id": "25PxqawclKhC"
      },
      "outputs": [],
      "source": [
        "print(\"Before OverSampling, counts of label '1': {}\".format(sum(y_train==1)))\n",
        "print(\"Before OverSampling, counts of label '0': {} \\n\".format(sum(y_train==0)))\n",
        "sum(y_test==0)\n",
        "sum(y_test==1)"
      ]
    },
    {
      "cell_type": "code",
      "execution_count": null,
      "metadata": {
        "id": "bWYj8fK-lKhD"
      },
      "outputs": [],
      "source": [
        "ros = RandomOverSampler()\n",
        "X_train_resampled, y_train_resampled = ros.fit_sample(X, y)\n",
        "\n",
        "print('After OverSampling, the shape of train_X: {}'.format(X_train_resampled.shape))\n",
        "print('After OverSampling, the shape of train_y: {} \\n'.format(y_train_resampled.shape))\n",
        "\n",
        "print(\"After OverSampling, counts of label '1': {}\".format(sum(y_train_resampled==1)))\n",
        "print(\"After OverSampling, counts of label '0': {}\".format(sum(y_train_resampled==0)))"
      ]
    },
    {
      "cell_type": "code",
      "execution_count": null,
      "metadata": {
        "id": "0Gdt4-oQlKhD"
      },
      "outputs": [],
      "source": [
        "logreg2 = LogisticRegression()\n",
        "logreg2.fit(X_train_resampled, y_train_resampled)\n",
        "y_pred = logreg2.predict(X_test)\n",
        "print('Accuracy of Logistic Regression train set: {:.2f}'.format(logreg2.score(X_train_resampled, y_train_resampled)))\n",
        "print('Accuracy of Logistic Regression test set: {:.2f}'.format(logreg2.score(X_test, y_test)))\n",
        "print(classification_report(y_test, y_pred))\n",
        "print(confusion_matrix(y_test, y_pred))\n",
        "print(cross_val_score(logreg2, X_train_resampled, y_train_resampled, cv=5))"
      ]
    },
    {
      "cell_type": "code",
      "execution_count": null,
      "metadata": {
        "id": "a4IK1jvYlKhD"
      },
      "outputs": [],
      "source": [
        "svc2 = SVC()\n",
        "svc2.fit(X_train_resampled, y_train_resampled)\n",
        "y_pred = svc2.predict(X_test)\n",
        "print('Accuracy of SVM train set : {:.2f}'.format(svc2.score(X_train_resampled, y_train_resampled)))\n",
        "print('Accuracy of SVM test set : {:.2f}'.format(svc2.score(X_test, y_test)))\n",
        "print(classification_report(y_test, y_pred))\n",
        "print(confusion_matrix(y_test, y_pred))\n",
        "print(cross_val_score(svc2, X_train_resampled, y_train_resampled, cv=5))"
      ]
    },
    {
      "cell_type": "code",
      "execution_count": null,
      "metadata": {
        "id": "AZPrBwn4lKhD"
      },
      "outputs": [],
      "source": [
        "clf2 = RandomForestClassifier().fit(X_train_resampled, y_train_resampled)\n",
        "y_pred = clf2.predict(X_test)\n",
        "print('Accuracy of Random Forest classifier on training set: {:.2f}'.format(clf2.score(X_train_resampled, y_train_resampled)))\n",
        "print('Accuracy of Random Forest classifier on test set: {:.2f}'.format(clf2.score(X_test, y_test)))\n",
        "print(classification_report(y_test, y_pred))\n",
        "print(confusion_matrix(y_test, y_pred))\n",
        "print(cross_val_score(clf2, X_train_resampled, y_train_resampled, cv=5))"
      ]
    },
    {
      "cell_type": "markdown",
      "metadata": {
        "id": "Ca6x-J1ulKhD"
      },
      "source": [
        "## ADASYN"
      ]
    },
    {
      "cell_type": "code",
      "execution_count": null,
      "metadata": {
        "id": "sBi_Xww_lKhD"
      },
      "outputs": [],
      "source": [
        "from imblearn.over_sampling import ADASYN\n",
        "\n",
        "print(\"Number transactions X_train dataset: \", X_train.shape)\n",
        "print(\"Number transactions y_train dataset: \", y_train.shape)\n",
        "print(\"Number transactions X_test dataset: \", X_test.shape)\n",
        "print(\"Number transactions y_test dataset: \", y_test.shape)\n",
        "\n",
        "print(\"Before OverSampling, counts of label '1': {}\".format(sum(y_train==1)))\n",
        "print(\"Before OverSampling, counts of label '0': {} \\n\".format(sum(y_train==0)))\n",
        "\n",
        "ads = ADASYN(n_neighbors = 1)\n",
        "\n",
        "X_train_rsm, y_train_rsm = ads.fit_sample(X, y)\n",
        "\n",
        "print('After OverSampling, the shape of train_X: {}'.format(X_train_rsm.shape))\n",
        "print('After OverSampling, the shape of train_y: {} \\n'.format(y_train_rsm.shape))\n",
        "\n",
        "print(\"After OverSampling, counts of label '1': {}\".format(sum(y_train_rsm==1)))\n",
        "print(\"After OverSampling, counts of label '0': {}\".format(sum(y_train_rsm==0)))"
      ]
    },
    {
      "cell_type": "code",
      "execution_count": null,
      "metadata": {
        "id": "-edN2_LslKhD"
      },
      "outputs": [],
      "source": [
        "logreg3 = LogisticRegression()\n",
        "logreg3.fit(X_train_rsm, y_train_rsm)\n",
        "y_pred = logreg3.predict(X_test)\n",
        "print('Accuracy of Logistic Regression train set: {:.2f}'.format(logreg3.score(X_train_rsm, y_train_rsm)))\n",
        "print('Accuracy of Logistic Regression test set: {:.2f}'.format(logreg3.score(X_test, y_test)))\n",
        "print(classification_report(y_test, y_pred))\n",
        "print(confusion_matrix(y_test, y_pred))\n",
        "print(cross_val_score(logreg3, X_train_rsm, y_train_rsm, cv=5))"
      ]
    },
    {
      "cell_type": "code",
      "execution_count": null,
      "metadata": {
        "id": "CMHiFA_klKhD"
      },
      "outputs": [],
      "source": [
        "svc3 = SVC()\n",
        "svc3.fit(X_train_rsm, y_train_rsm)\n",
        "y_pred = svc3.predict(X_test)\n",
        "print('Accuracy of SVM train set : {:.2f}'.format(svc3.score(X_train_rsm, y_train_rsm)))\n",
        "print('Accuracy of SVM test set : {:.2f}'.format(svc3.score(X_test, y_test)))\n",
        "print(classification_report(y_test, y_pred))\n",
        "print(confusion_matrix(y_test, y_pred))\n",
        "print(cross_val_score(svc3, X_train_rsm, y_train_rsm, cv=5))"
      ]
    },
    {
      "cell_type": "code",
      "execution_count": null,
      "metadata": {
        "id": "4ZHMsvyIlKhE"
      },
      "outputs": [],
      "source": [
        "clf3 = RandomForestClassifier().fit(X_train_rsm, y_train_rsm)\n",
        "y_pred = clf3.predict(X_test)\n",
        "print('Accuracy of Random Forest classifier on training set: {:.2f}'.format(clf3.score(X_train_rsm, y_train_rsm)))\n",
        "print('Accuracy of Random Forest classifier on test set: {:.2f}'.format(clf3.score(X_test, y_test)))\n",
        "print(classification_report(y_test, y_pred))\n",
        "print(confusion_matrix(y_test, y_pred))\n",
        "print(cross_val_score(clf3, X_train_rsm, y_train_rsm, cv=5))"
      ]
    },
    {
      "cell_type": "markdown",
      "metadata": {
        "id": "Vk6E7kIrlKhE"
      },
      "source": [
        "After applying oversampling techniques like SMOTE, Random Oversampling and ADASYN with Logistic Regression, SVM and Random Forest, we observe that ADASYN along with Logistic Regression, performs the best throughot tbe training and test sets with least overfitting and maximum accuracy."
      ]
    },
    {
      "cell_type": "code",
      "execution_count": null,
      "metadata": {
        "id": "QQ25G9x_lKhE"
      },
      "outputs": [],
      "source": [
        ""
      ]
    }
  ],
  "metadata": {
    "kernelspec": {
      "display_name": "Python 3",
      "language": "python",
      "name": "python3"
    },
    "language_info": {
      "codemirror_mode": {
        "name": "ipython",
        "version": 3
      },
      "file_extension": ".py",
      "mimetype": "text/x-python",
      "name": "python",
      "nbconvert_exporter": "python",
      "pygments_lexer": "ipython3",
      "version": "3.7.0"
    },
    "colab": {
      "name": "Dataset3-linux driver scsi.ipynb",
      "provenance": []
    }
  },
  "nbformat": 4,
  "nbformat_minor": 0
}