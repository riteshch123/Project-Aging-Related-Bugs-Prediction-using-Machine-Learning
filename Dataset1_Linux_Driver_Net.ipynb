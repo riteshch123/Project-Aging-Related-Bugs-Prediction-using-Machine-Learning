{
  "cells": [
    {
      "cell_type": "markdown",
      "metadata": {
        "id": "5hw8xJVGk6lW"
      },
      "source": [
        "# Software Age-Related Bugs Prediction using Python"
      ]
    },
    {
      "cell_type": "markdown",
      "metadata": {
        "id": "JXNspQmpk6lX"
      },
      "source": [
        "## Pre-Sampling Approach"
      ]
    },
    {
      "cell_type": "markdown",
      "metadata": {
        "id": "ZisG6UNik6lY"
      },
      "source": [
        "In this paper, we will make a model that will predict the Age-Related Bugs (ARB) using python. In ABR, usually the classes are imbalanced in nature. The classes (defective and non-defective) are biased towards non-defective class. First, we will do the prediction and check the metrics without over-sampling approach."
      ]
    },
    {
      "cell_type": "markdown",
      "metadata": {
        "id": "GPI_ADOfk6lZ"
      },
      "source": [
        "### Importing relevant libraries"
      ]
    },
    {
      "cell_type": "code",
      "execution_count": null,
      "metadata": {
        "id": "Fq2gYg8Wk6lZ"
      },
      "outputs": [],
      "source": [
        "import numpy as np\n",
        "import pandas as pd\n",
        "import matplotlib.pyplot as plt\n",
        "import seaborn as sns\n",
        "import sklearn as sk\n",
        "import copy"
      ]
    },
    {
      "cell_type": "markdown",
      "metadata": {
        "id": "Xw0Tc_K2k6la"
      },
      "source": [
        "### Importing Data"
      ]
    },
    {
      "cell_type": "code",
      "execution_count": null,
      "metadata": {
        "id": "pjEzIq0Ok6lb",
        "outputId": "ccf907a1-8e40-44a0-dd95-9f0e234f2880"
      },
      "outputs": [
        {
          "data": {
            "text/html": [
              "<div>\n",
              "<style scoped>\n",
              "    .dataframe tbody tr th:only-of-type {\n",
              "        vertical-align: middle;\n",
              "    }\n",
              "\n",
              "    .dataframe tbody tr th {\n",
              "        vertical-align: top;\n",
              "    }\n",
              "\n",
              "    .dataframe thead th {\n",
              "        text-align: right;\n",
              "    }\n",
              "</style>\n",
              "<table border=\"1\" class=\"dataframe\">\n",
              "  <thead>\n",
              "    <tr style=\"text-align: right;\">\n",
              "      <th></th>\n",
              "      <th>id</th>\n",
              "      <th>Filename</th>\n",
              "      <th>AltAvgLineBlank</th>\n",
              "      <th>AltAvgLineCode</th>\n",
              "      <th>AltAvgLineComment</th>\n",
              "      <th>AltCountLineBlank</th>\n",
              "      <th>AltCountLineCode</th>\n",
              "      <th>AltCountLineComment</th>\n",
              "      <th>AvgCyclomatic</th>\n",
              "      <th>AvgCyclomaticModified</th>\n",
              "      <th>...</th>\n",
              "      <th>Vol</th>\n",
              "      <th>Dif</th>\n",
              "      <th>Eff</th>\n",
              "      <th>AllocOps</th>\n",
              "      <th>DeallocOps</th>\n",
              "      <th>DerefUse</th>\n",
              "      <th>UniqueDerefUse</th>\n",
              "      <th>DerefSet</th>\n",
              "      <th>UniqueDerefSet</th>\n",
              "      <th>AgingRelatedBugs</th>\n",
              "    </tr>\n",
              "  </thead>\n",
              "  <tbody>\n",
              "    <tr>\n",
              "      <th>0</th>\n",
              "      <td>1</td>\n",
              "      <td>drivers/net/3c501.c</td>\n",
              "      <td>6.00</td>\n",
              "      <td>27.82</td>\n",
              "      <td>9.42</td>\n",
              "      <td>129.89</td>\n",
              "      <td>445.95</td>\n",
              "      <td>377.26</td>\n",
              "      <td>5.00</td>\n",
              "      <td>5.00</td>\n",
              "      <td>...</td>\n",
              "      <td>11479.39</td>\n",
              "      <td>186.29</td>\n",
              "      <td>289423.61</td>\n",
              "      <td>0.07</td>\n",
              "      <td>0.07</td>\n",
              "      <td>73.95</td>\n",
              "      <td>19.07</td>\n",
              "      <td>25.75</td>\n",
              "      <td>9.60</td>\n",
              "      <td>0</td>\n",
              "    </tr>\n",
              "    <tr>\n",
              "      <th>1</th>\n",
              "      <td>2</td>\n",
              "      <td>drivers/net/3c501.h</td>\n",
              "      <td>0.00</td>\n",
              "      <td>0.00</td>\n",
              "      <td>0.00</td>\n",
              "      <td>17.00</td>\n",
              "      <td>59.24</td>\n",
              "      <td>35.00</td>\n",
              "      <td>0.00</td>\n",
              "      <td>0.00</td>\n",
              "      <td>...</td>\n",
              "      <td>0.00</td>\n",
              "      <td>0.00</td>\n",
              "      <td>0.00</td>\n",
              "      <td>0.00</td>\n",
              "      <td>0.00</td>\n",
              "      <td>0.00</td>\n",
              "      <td>0.00</td>\n",
              "      <td>0.00</td>\n",
              "      <td>0.00</td>\n",
              "      <td>0</td>\n",
              "    </tr>\n",
              "    <tr>\n",
              "      <th>2</th>\n",
              "      <td>3</td>\n",
              "      <td>drivers/net/3c503.c</td>\n",
              "      <td>4.79</td>\n",
              "      <td>35.61</td>\n",
              "      <td>7.58</td>\n",
              "      <td>90.05</td>\n",
              "      <td>529.74</td>\n",
              "      <td>152.68</td>\n",
              "      <td>6.58</td>\n",
              "      <td>6.58</td>\n",
              "      <td>...</td>\n",
              "      <td>14708.61</td>\n",
              "      <td>279.63</td>\n",
              "      <td>594338.34</td>\n",
              "      <td>0.00</td>\n",
              "      <td>0.07</td>\n",
              "      <td>102.85</td>\n",
              "      <td>18.32</td>\n",
              "      <td>16.27</td>\n",
              "      <td>6.05</td>\n",
              "      <td>0</td>\n",
              "    </tr>\n",
              "    <tr>\n",
              "      <th>3</th>\n",
              "      <td>4</td>\n",
              "      <td>drivers/net/3c503.h</td>\n",
              "      <td>0.00</td>\n",
              "      <td>0.00</td>\n",
              "      <td>0.00</td>\n",
              "      <td>16.00</td>\n",
              "      <td>44.00</td>\n",
              "      <td>68.00</td>\n",
              "      <td>0.00</td>\n",
              "      <td>0.00</td>\n",
              "      <td>...</td>\n",
              "      <td>0.00</td>\n",
              "      <td>0.00</td>\n",
              "      <td>0.00</td>\n",
              "      <td>0.00</td>\n",
              "      <td>0.00</td>\n",
              "      <td>0.00</td>\n",
              "      <td>0.00</td>\n",
              "      <td>0.00</td>\n",
              "      <td>0.00</td>\n",
              "      <td>0</td>\n",
              "    </tr>\n",
              "    <tr>\n",
              "      <th>4</th>\n",
              "      <td>5</td>\n",
              "      <td>drivers/net/3c505.c</td>\n",
              "      <td>4.00</td>\n",
              "      <td>28.66</td>\n",
              "      <td>6.00</td>\n",
              "      <td>225.50</td>\n",
              "      <td>1038.03</td>\n",
              "      <td>441.71</td>\n",
              "      <td>6.74</td>\n",
              "      <td>6.00</td>\n",
              "      <td>...</td>\n",
              "      <td>37936.53</td>\n",
              "      <td>638.55</td>\n",
              "      <td>1667451.55</td>\n",
              "      <td>0.07</td>\n",
              "      <td>1.07</td>\n",
              "      <td>337.50</td>\n",
              "      <td>53.25</td>\n",
              "      <td>117.70</td>\n",
              "      <td>23.95</td>\n",
              "      <td>0</td>\n",
              "    </tr>\n",
              "  </tbody>\n",
              "</table>\n",
              "<p>5 rows × 85 columns</p>\n",
              "</div>"
            ],
            "text/plain": [
              "   id             Filename  AltAvgLineBlank  AltAvgLineCode  \\\n",
              "0   1  drivers/net/3c501.c             6.00           27.82   \n",
              "1   2  drivers/net/3c501.h             0.00            0.00   \n",
              "2   3  drivers/net/3c503.c             4.79           35.61   \n",
              "3   4  drivers/net/3c503.h             0.00            0.00   \n",
              "4   5  drivers/net/3c505.c             4.00           28.66   \n",
              "\n",
              "   AltAvgLineComment  AltCountLineBlank  AltCountLineCode  \\\n",
              "0               9.42             129.89            445.95   \n",
              "1               0.00              17.00             59.24   \n",
              "2               7.58              90.05            529.74   \n",
              "3               0.00              16.00             44.00   \n",
              "4               6.00             225.50           1038.03   \n",
              "\n",
              "   AltCountLineComment  AvgCyclomatic  AvgCyclomaticModified  \\\n",
              "0               377.26           5.00                   5.00   \n",
              "1                35.00           0.00                   0.00   \n",
              "2               152.68           6.58                   6.58   \n",
              "3                68.00           0.00                   0.00   \n",
              "4               441.71           6.74                   6.00   \n",
              "\n",
              "         ...              Vol     Dif         Eff  AllocOps  DeallocOps  \\\n",
              "0        ...         11479.39  186.29   289423.61      0.07        0.07   \n",
              "1        ...             0.00    0.00        0.00      0.00        0.00   \n",
              "2        ...         14708.61  279.63   594338.34      0.00        0.07   \n",
              "3        ...             0.00    0.00        0.00      0.00        0.00   \n",
              "4        ...         37936.53  638.55  1667451.55      0.07        1.07   \n",
              "\n",
              "   DerefUse  UniqueDerefUse  DerefSet  UniqueDerefSet  AgingRelatedBugs  \n",
              "0     73.95           19.07     25.75            9.60                 0  \n",
              "1      0.00            0.00      0.00            0.00                 0  \n",
              "2    102.85           18.32     16.27            6.05                 0  \n",
              "3      0.00            0.00      0.00            0.00                 0  \n",
              "4    337.50           53.25    117.70           23.95                 0  \n",
              "\n",
              "[5 rows x 85 columns]"
            ]
          },
          "execution_count": 2,
          "metadata": {},
          "output_type": "execute_result"
        }
      ],
      "source": [
        "ds1 = pd.read_csv('dataset_linux_driver_net.csv')\n",
        "ds1.head()"
      ]
    },
    {
      "cell_type": "markdown",
      "metadata": {
        "id": "oWyrWP0mk6lc"
      },
      "source": [
        "### Checking for Missing Values"
      ]
    },
    {
      "cell_type": "code",
      "execution_count": null,
      "metadata": {
        "id": "vTYJHUJzk6ld",
        "outputId": "860402a2-7df4-4c5b-e75f-f8aff05005b2"
      },
      "outputs": [
        {
          "data": {
            "text/plain": [
              "id                                    0\n",
              "Filename                              0\n",
              "AltAvgLineBlank                       0\n",
              "AltAvgLineCode                        0\n",
              "AltAvgLineComment                     0\n",
              "AltCountLineBlank                     0\n",
              "AltCountLineCode                      0\n",
              "AltCountLineComment                   0\n",
              "AvgCyclomatic                         0\n",
              "AvgCyclomaticModified                 0\n",
              "AvgCyclomaticStrict                   0\n",
              "AvgEssential                          0\n",
              "AvgLine                               0\n",
              "AvgLineBlank                          0\n",
              "AvgLineCode                           0\n",
              "AvgLineComment                        0\n",
              "CountClassBase                        0\n",
              "CountClassCoupled                     0\n",
              "CountClassDerived                     0\n",
              "CountDeclClass                        0\n",
              "CountDeclClassMethod                  0\n",
              "CountDeclClassVariable                0\n",
              "CountDeclFunction                     0\n",
              "CountDeclInstanceMethod               0\n",
              "CountDeclInstanceVariable             0\n",
              "CountDeclInstanceVariablePrivate      0\n",
              "CountDeclInstanceVariableProtected    0\n",
              "CountDeclInstanceVariablePublic       0\n",
              "CountDeclMethod                       0\n",
              "CountDeclMethodAll                    0\n",
              "                                     ..\n",
              "Knots                                 0\n",
              "MaxCyclomatic                         0\n",
              "MaxCyclomaticModified                 0\n",
              "MaxCyclomaticStrict                   0\n",
              "MaxEssentialKnots                     0\n",
              "MaxInheritanceTree                    0\n",
              "MaxNesting                            0\n",
              "MinEssentialKnots                     0\n",
              "PercentLackOfCohesion                 0\n",
              "RatioCommentToCode                    0\n",
              "SumCyclomatic                         0\n",
              "SumCyclomaticModified                 0\n",
              "SumCyclomaticStrict                   0\n",
              "SumEssential                          0\n",
              "n1                                    0\n",
              "n2                                    0\n",
              "N1                                    0\n",
              "N2                                    0\n",
              "Len                                   0\n",
              "Voc                                   0\n",
              "Vol                                   0\n",
              "Dif                                   0\n",
              "Eff                                   0\n",
              "AllocOps                              0\n",
              "DeallocOps                            0\n",
              "DerefUse                              0\n",
              "UniqueDerefUse                        0\n",
              "DerefSet                              0\n",
              "UniqueDerefSet                        0\n",
              "AgingRelatedBugs                      0\n",
              "Length: 85, dtype: int64"
            ]
          },
          "execution_count": 3,
          "metadata": {},
          "output_type": "execute_result"
        }
      ],
      "source": [
        "ds1.isnull().sum()"
      ]
    },
    {
      "cell_type": "markdown",
      "metadata": {
        "id": "nIdcTKvTk6ld"
      },
      "source": [
        "### Checking Data types"
      ]
    },
    {
      "cell_type": "code",
      "execution_count": null,
      "metadata": {
        "id": "LH_UROpPk6le",
        "outputId": "a6205374-8dfa-45cf-e504-71385c350593"
      },
      "outputs": [
        {
          "data": {
            "text/plain": [
              "id                                      int64\n",
              "Filename                               object\n",
              "AltAvgLineBlank                       float64\n",
              "AltAvgLineCode                        float64\n",
              "AltAvgLineComment                     float64\n",
              "AltCountLineBlank                     float64\n",
              "AltCountLineCode                      float64\n",
              "AltCountLineComment                   float64\n",
              "AvgCyclomatic                         float64\n",
              "AvgCyclomaticModified                 float64\n",
              "AvgCyclomaticStrict                   float64\n",
              "AvgEssential                          float64\n",
              "AvgLine                               float64\n",
              "AvgLineBlank                          float64\n",
              "AvgLineCode                           float64\n",
              "AvgLineComment                        float64\n",
              "CountClassBase                          int64\n",
              "CountClassCoupled                       int64\n",
              "CountClassDerived                       int64\n",
              "CountDeclClass                          int64\n",
              "CountDeclClassMethod                    int64\n",
              "CountDeclClassVariable                  int64\n",
              "CountDeclFunction                     float64\n",
              "CountDeclInstanceMethod                 int64\n",
              "CountDeclInstanceVariable               int64\n",
              "CountDeclInstanceVariablePrivate        int64\n",
              "CountDeclInstanceVariableProtected      int64\n",
              "CountDeclInstanceVariablePublic         int64\n",
              "CountDeclMethod                         int64\n",
              "CountDeclMethodAll                      int64\n",
              "                                       ...   \n",
              "Knots                                   int64\n",
              "MaxCyclomatic                         float64\n",
              "MaxCyclomaticModified                 float64\n",
              "MaxCyclomaticStrict                   float64\n",
              "MaxEssentialKnots                       int64\n",
              "MaxInheritanceTree                      int64\n",
              "MaxNesting                              int64\n",
              "MinEssentialKnots                       int64\n",
              "PercentLackOfCohesion                   int64\n",
              "RatioCommentToCode                    float64\n",
              "SumCyclomatic                         float64\n",
              "SumCyclomaticModified                 float64\n",
              "SumCyclomaticStrict                   float64\n",
              "SumEssential                          float64\n",
              "n1                                    float64\n",
              "n2                                    float64\n",
              "N1                                    float64\n",
              "N2                                    float64\n",
              "Len                                   float64\n",
              "Voc                                   float64\n",
              "Vol                                   float64\n",
              "Dif                                   float64\n",
              "Eff                                   float64\n",
              "AllocOps                              float64\n",
              "DeallocOps                            float64\n",
              "DerefUse                              float64\n",
              "UniqueDerefUse                        float64\n",
              "DerefSet                              float64\n",
              "UniqueDerefSet                        float64\n",
              "AgingRelatedBugs                       object\n",
              "Length: 85, dtype: object"
            ]
          },
          "execution_count": 4,
          "metadata": {},
          "output_type": "execute_result"
        }
      ],
      "source": [
        "ds1['AgingRelatedBugs'] = ds1['AgingRelatedBugs'].astype(str)    \n",
        "ds1.dtypes"
      ]
    },
    {
      "cell_type": "code",
      "execution_count": null,
      "metadata": {
        "id": "AxDsMVP5k6le",
        "outputId": "fe59ad9a-f176-47bd-9afe-0783f4f2a665"
      },
      "outputs": [
        {
          "data": {
            "text/plain": [
              "Index(['id', 'Filename', 'AltAvgLineBlank', 'AltAvgLineCode',\n",
              "       'AltAvgLineComment', 'AltCountLineBlank', 'AltCountLineCode',\n",
              "       'AltCountLineComment', 'AvgCyclomatic', 'AvgCyclomaticModified',\n",
              "       'AvgCyclomaticStrict', 'AvgEssential', 'AvgLine', 'AvgLineBlank',\n",
              "       'AvgLineCode', 'AvgLineComment', 'CountClassBase', 'CountClassCoupled',\n",
              "       'CountClassDerived', 'CountDeclClass', 'CountDeclClassMethod',\n",
              "       'CountDeclClassVariable', 'CountDeclFunction',\n",
              "       'CountDeclInstanceMethod', 'CountDeclInstanceVariable',\n",
              "       'CountDeclInstanceVariablePrivate',\n",
              "       'CountDeclInstanceVariableProtected', 'CountDeclInstanceVariablePublic',\n",
              "       'CountDeclMethod', 'CountDeclMethodAll', 'CountDeclMethodConst',\n",
              "       'CountDeclMethodFriend', 'CountDeclMethodPrivate',\n",
              "       'CountDeclMethodProtected', 'CountDeclMethodPublic', 'CountInput',\n",
              "       'CountLine', 'CountLineBlank', 'CountLineCode', 'CountLineCodeDecl',\n",
              "       'CountLineCodeExe', 'CountLineComment', 'CountLineInactive',\n",
              "       'CountLinePreprocessor', 'CountOutput', 'CountPath', 'CountSemicolon',\n",
              "       'CountStmt', 'CountStmtDecl', 'CountStmtEmpty', 'CountStmtExe',\n",
              "       'Cyclomatic', 'CyclomaticModified', 'CyclomaticStrict', 'Essential',\n",
              "       'Knots', 'MaxCyclomatic', 'MaxCyclomaticModified',\n",
              "       'MaxCyclomaticStrict', 'MaxEssentialKnots', 'MaxInheritanceTree',\n",
              "       'MaxNesting', 'MinEssentialKnots', 'PercentLackOfCohesion',\n",
              "       'RatioCommentToCode', 'SumCyclomatic', 'SumCyclomaticModified',\n",
              "       'SumCyclomaticStrict', 'SumEssential', 'n1', 'n2', 'N1', 'N2', 'Len',\n",
              "       'Voc', 'Vol', 'Dif', 'Eff', 'AllocOps', 'DeallocOps', 'DerefUse',\n",
              "       'UniqueDerefUse', 'DerefSet', 'UniqueDerefSet', 'AgingRelatedBugs'],\n",
              "      dtype='object')"
            ]
          },
          "execution_count": 5,
          "metadata": {},
          "output_type": "execute_result"
        }
      ],
      "source": [
        "ds1.columns    "
      ]
    },
    {
      "cell_type": "markdown",
      "metadata": {
        "id": "WScUFfv7k6lf"
      },
      "source": [
        "### Creating feature and target variables and Label Encoding the target variable"
      ]
    },
    {
      "cell_type": "code",
      "execution_count": null,
      "metadata": {
        "id": "kp-mDl7Wk6lf"
      },
      "outputs": [],
      "source": [
        "cols = ['id', 'AltAvgLineBlank', 'AltAvgLineCode',\n",
        "       'AltAvgLineComment', 'AltCountLineBlank', 'AltCountLineCode',\n",
        "       'AltCountLineComment', 'AvgCyclomatic', 'AvgCyclomaticModified',\n",
        "       'AvgCyclomaticStrict', 'AvgEssential', 'AvgLine', 'AvgLineBlank',\n",
        "       'AvgLineCode', 'AvgLineComment', 'CountClassBase', 'CountClassCoupled',\n",
        "       'CountClassDerived', 'CountDeclClass', 'CountDeclClassMethod',\n",
        "       'CountDeclClassVariable', 'CountDeclFunction',\n",
        "       'CountDeclInstanceMethod', 'CountDeclInstanceVariable',\n",
        "       'CountDeclInstanceVariablePrivate',\n",
        "       'CountDeclInstanceVariableProtected', 'CountDeclInstanceVariablePublic',\n",
        "       'CountDeclMethod', 'CountDeclMethodAll', 'CountDeclMethodConst',\n",
        "       'CountDeclMethodFriend', 'CountDeclMethodPrivate',\n",
        "       'CountDeclMethodProtected', 'CountDeclMethodPublic', 'CountInput',\n",
        "       'CountLine', 'CountLineBlank', 'CountLineCode', 'CountLineCodeDecl',\n",
        "       'CountLineCodeExe', 'CountLineComment', 'CountLineInactive',\n",
        "       'CountLinePreprocessor', 'CountOutput', 'CountPath', 'CountSemicolon',\n",
        "       'CountStmt', 'CountStmtDecl', 'CountStmtEmpty', 'CountStmtExe',\n",
        "       'Cyclomatic', 'CyclomaticModified', 'CyclomaticStrict', 'Essential',\n",
        "       'Knots', 'MaxCyclomatic', 'MaxCyclomaticModified',\n",
        "       'MaxCyclomaticStrict', 'MaxEssentialKnots', 'MaxInheritanceTree',\n",
        "       'MaxNesting', 'MinEssentialKnots', 'PercentLackOfCohesion',\n",
        "       'RatioCommentToCode', 'SumCyclomatic', 'SumCyclomaticModified',\n",
        "       'SumCyclomaticStrict', 'SumEssential', 'n1', 'n2', 'N1', 'N2', 'Len',\n",
        "       'Voc', 'Vol', 'Dif', 'Eff', 'AllocOps', 'DeallocOps', 'DerefUse',\n",
        "       'UniqueDerefUse', 'DerefSet', 'UniqueDerefSet']\n",
        "X = ds1[cols]\n",
        "y = ds1['AgingRelatedBugs']\n"
      ]
    },
    {
      "cell_type": "code",
      "execution_count": null,
      "metadata": {
        "id": "HfqDpXqAk6lg",
        "outputId": "43e6f7ad-6124-47bc-d156-a56c90490675"
      },
      "outputs": [
        {
          "data": {
            "text/plain": [
              "array([0, 0, 0, ..., 0, 0, 0])"
            ]
          },
          "execution_count": 7,
          "metadata": {},
          "output_type": "execute_result"
        }
      ],
      "source": [
        "from sklearn.preprocessing import LabelEncoder\n",
        "enc = LabelEncoder()\n",
        "y = enc.fit_transform(y)\n",
        "y"
      ]
    },
    {
      "cell_type": "markdown",
      "metadata": {
        "id": "uu8EsarLk6lg"
      },
      "source": [
        "### Splitting data into training and test sets"
      ]
    },
    {
      "cell_type": "code",
      "execution_count": null,
      "metadata": {
        "id": "qYANtEIdk6lg"
      },
      "outputs": [],
      "source": [
        "from sklearn.model_selection import train_test_split\n",
        "X_train, X_test, y_train, y_test = train_test_split(X,y,random_state=0)"
      ]
    },
    {
      "cell_type": "markdown",
      "metadata": {
        "id": "ccth9goXk6lh"
      },
      "source": [
        "### Logistic Regression Model"
      ]
    },
    {
      "cell_type": "code",
      "execution_count": null,
      "metadata": {
        "id": "0fhRkbfIk6lh",
        "outputId": "83060659-90ee-422c-d392-31a3bd57d98d"
      },
      "outputs": [
        {
          "name": "stderr",
          "output_type": "stream",
          "text": [
            "D:\\Anaconda3\\lib\\site-packages\\sklearn\\linear_model\\logistic.py:432: FutureWarning: Default solver will be changed to 'lbfgs' in 0.22. Specify a solver to silence this warning.\n",
            "  FutureWarning)\n",
            "D:\\Anaconda3\\lib\\site-packages\\sklearn\\svm\\base.py:929: ConvergenceWarning: Liblinear failed to converge, increase the number of iterations.\n",
            "  \"the number of iterations.\", ConvergenceWarning)\n"
          ]
        },
        {
          "data": {
            "text/plain": [
              "LogisticRegression(C=1.0, class_weight=None, dual=False, fit_intercept=True,\n",
              "                   intercept_scaling=1, l1_ratio=None, max_iter=100,\n",
              "                   multi_class='warn', n_jobs=None, penalty='l2',\n",
              "                   random_state=None, solver='warn', tol=0.0001, verbose=0,\n",
              "                   warm_start=False)"
            ]
          },
          "execution_count": 9,
          "metadata": {},
          "output_type": "execute_result"
        }
      ],
      "source": [
        "# Fitting the model\n",
        "\n",
        "from sklearn.linear_model import LogisticRegression\n",
        "from sklearn import metrics\n",
        "logreg = LogisticRegression()\n",
        "logreg.fit(X_train, y_train)"
      ]
    },
    {
      "cell_type": "code",
      "execution_count": null,
      "metadata": {
        "id": "0XSroTpSk6lh",
        "outputId": "9cb79744-3644-49b9-bbd5-0474e88a5e22"
      },
      "outputs": [
        {
          "name": "stdout",
          "output_type": "stream",
          "text": [
            "Accuracy of Logistic Regression train set: 1.00\n",
            "Accuracy of Logistic Regression test set: 0.99\n"
          ]
        }
      ],
      "source": [
        "# Computing Accuracy\n",
        "y_pred1 = logreg.predict(X_test)\n",
        "print('Accuracy of Logistic Regression train set: {:.2f}'.format(logreg.score(X_train, y_train)))\n",
        "print('Accuracy of Logistic Regression test set: {:.2f}'.format(logreg.score(X_test, y_test)))"
      ]
    },
    {
      "cell_type": "code",
      "execution_count": null,
      "metadata": {
        "id": "Ptp8yQhHk6lh",
        "outputId": "9251b7b7-66b3-406a-9035-95a8b5d01573"
      },
      "outputs": [
        {
          "name": "stdout",
          "output_type": "stream",
          "text": [
            "              precision    recall  f1-score   support\n",
            "\n",
            "           0       0.99      1.00      1.00       569\n",
            "           1       0.00      0.00      0.00         4\n",
            "\n",
            "    accuracy                           0.99       573\n",
            "   macro avg       0.50      0.50      0.50       573\n",
            "weighted avg       0.99      0.99      0.99       573\n",
            "\n",
            "[[568   1]\n",
            " [  4   0]]\n"
          ]
        }
      ],
      "source": [
        "# Computing Performance Metrics and drawing Confusion Matrix\n",
        ">>> from sklearn.metrics import classification_report\n",
        ">>> print(classification_report(y_test, y_pred1))\n",
        ">>> from sklearn.metrics import confusion_matrix\n",
        ">>> print(confusion_matrix(y_test, y_pred1))"
      ]
    },
    {
      "cell_type": "code",
      "execution_count": null,
      "metadata": {
        "id": "Sig6WPP_k6li",
        "outputId": "8e6200a1-4269-410f-df32-06ceee1e2078"
      },
      "outputs": [
        {
          "name": "stderr",
          "output_type": "stream",
          "text": [
            "D:\\Anaconda3\\lib\\site-packages\\sklearn\\linear_model\\logistic.py:432: FutureWarning: Default solver will be changed to 'lbfgs' in 0.22. Specify a solver to silence this warning.\n",
            "  FutureWarning)\n",
            "D:\\Anaconda3\\lib\\site-packages\\sklearn\\svm\\base.py:929: ConvergenceWarning: Liblinear failed to converge, increase the number of iterations.\n",
            "  \"the number of iterations.\", ConvergenceWarning)\n",
            "D:\\Anaconda3\\lib\\site-packages\\sklearn\\linear_model\\logistic.py:432: FutureWarning: Default solver will be changed to 'lbfgs' in 0.22. Specify a solver to silence this warning.\n",
            "  FutureWarning)\n",
            "D:\\Anaconda3\\lib\\site-packages\\sklearn\\svm\\base.py:929: ConvergenceWarning: Liblinear failed to converge, increase the number of iterations.\n",
            "  \"the number of iterations.\", ConvergenceWarning)\n",
            "D:\\Anaconda3\\lib\\site-packages\\sklearn\\linear_model\\logistic.py:432: FutureWarning: Default solver will be changed to 'lbfgs' in 0.22. Specify a solver to silence this warning.\n",
            "  FutureWarning)\n",
            "D:\\Anaconda3\\lib\\site-packages\\sklearn\\svm\\base.py:929: ConvergenceWarning: Liblinear failed to converge, increase the number of iterations.\n",
            "  \"the number of iterations.\", ConvergenceWarning)\n",
            "D:\\Anaconda3\\lib\\site-packages\\sklearn\\linear_model\\logistic.py:432: FutureWarning: Default solver will be changed to 'lbfgs' in 0.22. Specify a solver to silence this warning.\n",
            "  FutureWarning)\n"
          ]
        },
        {
          "name": "stdout",
          "output_type": "stream",
          "text": [
            "[0.99709302 0.99418605 0.99418605 0.99709302 0.97959184]\n"
          ]
        },
        {
          "name": "stderr",
          "output_type": "stream",
          "text": [
            "D:\\Anaconda3\\lib\\site-packages\\sklearn\\svm\\base.py:929: ConvergenceWarning: Liblinear failed to converge, increase the number of iterations.\n",
            "  \"the number of iterations.\", ConvergenceWarning)\n",
            "D:\\Anaconda3\\lib\\site-packages\\sklearn\\linear_model\\logistic.py:432: FutureWarning: Default solver will be changed to 'lbfgs' in 0.22. Specify a solver to silence this warning.\n",
            "  FutureWarning)\n",
            "D:\\Anaconda3\\lib\\site-packages\\sklearn\\svm\\base.py:929: ConvergenceWarning: Liblinear failed to converge, increase the number of iterations.\n",
            "  \"the number of iterations.\", ConvergenceWarning)\n"
          ]
        }
      ],
      "source": [
        "# Applying 5-fold Cross Validation\n",
        "from sklearn.model_selection import cross_val_score\n",
        "print(cross_val_score(logreg, X_train, y_train, cv=5))"
      ]
    },
    {
      "cell_type": "code",
      "execution_count": null,
      "metadata": {
        "id": "tUOmt4L6k6li",
        "outputId": "995eb872-1d41-4f78-c4e1-49b87b71fe6c"
      },
      "outputs": [
        {
          "data": {
            "text/plain": [
              "0.4991212653778559"
            ]
          },
          "execution_count": 13,
          "metadata": {},
          "output_type": "execute_result"
        }
      ],
      "source": [
        "from sklearn.metrics import roc_auc_score\n",
        "roc_auc_score(y_test,y_pred1)"
      ]
    },
    {
      "cell_type": "markdown",
      "metadata": {
        "id": "nLxVzaCpk6li"
      },
      "source": [
        "### Support Vector Classifier (RBF Kernel)"
      ]
    },
    {
      "cell_type": "code",
      "execution_count": null,
      "metadata": {
        "id": "0kBCJkiuk6li",
        "outputId": "d94a025b-cce9-4710-9d54-ebdcb3ed9569"
      },
      "outputs": [
        {
          "name": "stderr",
          "output_type": "stream",
          "text": [
            "D:\\Anaconda3\\lib\\site-packages\\sklearn\\svm\\base.py:193: FutureWarning: The default value of gamma will change from 'auto' to 'scale' in version 0.22 to account better for unscaled features. Set gamma explicitly to 'auto' or 'scale' to avoid this warning.\n",
            "  \"avoid this warning.\", FutureWarning)\n"
          ]
        },
        {
          "data": {
            "text/plain": [
              "SVC(C=1.0, cache_size=200, class_weight=None, coef0=0.0,\n",
              "    decision_function_shape='ovr', degree=3, gamma='auto_deprecated',\n",
              "    kernel='rbf', max_iter=-1, probability=False, random_state=None,\n",
              "    shrinking=True, tol=0.001, verbose=False)"
            ]
          },
          "execution_count": 14,
          "metadata": {},
          "output_type": "execute_result"
        }
      ],
      "source": [
        "from sklearn.svm import SVC\n",
        "svc = SVC(kernel = 'rbf')\n",
        "svc.fit(X_train, y_train)"
      ]
    },
    {
      "cell_type": "code",
      "execution_count": null,
      "metadata": {
        "id": "NTSOVm7ak6li",
        "outputId": "cf4d49d9-1ba1-4e0e-fff1-50413dbd5a17"
      },
      "outputs": [
        {
          "name": "stdout",
          "output_type": "stream",
          "text": [
            "Accuracy of SVM train set : 1.00\n",
            "Accuracy of SVM test set : 0.99\n",
            "              precision    recall  f1-score   support\n",
            "\n",
            "           0       0.99      1.00      1.00       569\n",
            "           1       0.00      0.00      0.00         4\n",
            "\n",
            "    accuracy                           0.99       573\n",
            "   macro avg       0.50      0.50      0.50       573\n",
            "weighted avg       0.99      0.99      0.99       573\n",
            "\n",
            "[[569   0]\n",
            " [  4   0]]\n"
          ]
        },
        {
          "name": "stderr",
          "output_type": "stream",
          "text": [
            "D:\\Anaconda3\\lib\\site-packages\\sklearn\\metrics\\classification.py:1437: UndefinedMetricWarning: Precision and F-score are ill-defined and being set to 0.0 in labels with no predicted samples.\n",
            "  'precision', 'predicted', average, warn_for)\n",
            "D:\\Anaconda3\\lib\\site-packages\\sklearn\\metrics\\classification.py:1437: UndefinedMetricWarning: Precision and F-score are ill-defined and being set to 0.0 in labels with no predicted samples.\n",
            "  'precision', 'predicted', average, warn_for)\n",
            "D:\\Anaconda3\\lib\\site-packages\\sklearn\\metrics\\classification.py:1437: UndefinedMetricWarning: Precision and F-score are ill-defined and being set to 0.0 in labels with no predicted samples.\n",
            "  'precision', 'predicted', average, warn_for)\n",
            "D:\\Anaconda3\\lib\\site-packages\\sklearn\\svm\\base.py:193: FutureWarning: The default value of gamma will change from 'auto' to 'scale' in version 0.22 to account better for unscaled features. Set gamma explicitly to 'auto' or 'scale' to avoid this warning.\n",
            "  \"avoid this warning.\", FutureWarning)\n",
            "D:\\Anaconda3\\lib\\site-packages\\sklearn\\svm\\base.py:193: FutureWarning: The default value of gamma will change from 'auto' to 'scale' in version 0.22 to account better for unscaled features. Set gamma explicitly to 'auto' or 'scale' to avoid this warning.\n",
            "  \"avoid this warning.\", FutureWarning)\n",
            "D:\\Anaconda3\\lib\\site-packages\\sklearn\\svm\\base.py:193: FutureWarning: The default value of gamma will change from 'auto' to 'scale' in version 0.22 to account better for unscaled features. Set gamma explicitly to 'auto' or 'scale' to avoid this warning.\n",
            "  \"avoid this warning.\", FutureWarning)\n",
            "D:\\Anaconda3\\lib\\site-packages\\sklearn\\svm\\base.py:193: FutureWarning: The default value of gamma will change from 'auto' to 'scale' in version 0.22 to account better for unscaled features. Set gamma explicitly to 'auto' or 'scale' to avoid this warning.\n",
            "  \"avoid this warning.\", FutureWarning)\n",
            "D:\\Anaconda3\\lib\\site-packages\\sklearn\\svm\\base.py:193: FutureWarning: The default value of gamma will change from 'auto' to 'scale' in version 0.22 to account better for unscaled features. Set gamma explicitly to 'auto' or 'scale' to avoid this warning.\n",
            "  \"avoid this warning.\", FutureWarning)\n"
          ]
        },
        {
          "name": "stdout",
          "output_type": "stream",
          "text": [
            "[0.99709302 0.99709302 0.99709302 0.99709302 0.99708455]\n"
          ]
        }
      ],
      "source": [
        "y_pred2 = svc.predict(X_test)\n",
        "print('Accuracy of SVM train set : {:.2f}'.format(svc.score(X_train, y_train)))\n",
        "print('Accuracy of SVM test set : {:.2f}'.format(svc.score(X_test, y_test)))\n",
        "print(classification_report(y_test, y_pred2))\n",
        "print(confusion_matrix(y_test, y_pred2))\n",
        "print(cross_val_score(svc, X_train, y_train, cv=5))"
      ]
    },
    {
      "cell_type": "code",
      "execution_count": null,
      "metadata": {
        "id": "rz9PmZNgk6lj",
        "outputId": "fb1c8b81-b152-40b0-9951-cab6a0fed68d"
      },
      "outputs": [
        {
          "data": {
            "text/plain": [
              "0.5"
            ]
          },
          "execution_count": 16,
          "metadata": {},
          "output_type": "execute_result"
        }
      ],
      "source": [
        "roc_auc_score(y_test,y_pred2)"
      ]
    },
    {
      "cell_type": "markdown",
      "metadata": {
        "id": "J5162Yi_k6lj"
      },
      "source": [
        "### Random Forest Classifier"
      ]
    },
    {
      "cell_type": "code",
      "execution_count": null,
      "metadata": {
        "id": "KzpPI0e5k6lj",
        "outputId": "93ead882-2310-408a-a026-1c6c4bec9183"
      },
      "outputs": [
        {
          "name": "stderr",
          "output_type": "stream",
          "text": [
            "D:\\Anaconda3\\lib\\site-packages\\sklearn\\ensemble\\forest.py:245: FutureWarning: The default value of n_estimators will change from 10 in version 0.20 to 100 in 0.22.\n",
            "  \"10 in version 0.20 to 100 in 0.22.\", FutureWarning)\n",
            "D:\\Anaconda3\\lib\\site-packages\\sklearn\\metrics\\classification.py:1437: UndefinedMetricWarning: Precision and F-score are ill-defined and being set to 0.0 in labels with no predicted samples.\n",
            "  'precision', 'predicted', average, warn_for)\n",
            "D:\\Anaconda3\\lib\\site-packages\\sklearn\\metrics\\classification.py:1437: UndefinedMetricWarning: Precision and F-score are ill-defined and being set to 0.0 in labels with no predicted samples.\n",
            "  'precision', 'predicted', average, warn_for)\n",
            "D:\\Anaconda3\\lib\\site-packages\\sklearn\\metrics\\classification.py:1437: UndefinedMetricWarning: Precision and F-score are ill-defined and being set to 0.0 in labels with no predicted samples.\n",
            "  'precision', 'predicted', average, warn_for)\n"
          ]
        },
        {
          "name": "stdout",
          "output_type": "stream",
          "text": [
            "Accuracy of Random Forest classifier on training set: 1.00\n",
            "Accuracy of Random Forest classifier on test set: 0.99\n",
            "              precision    recall  f1-score   support\n",
            "\n",
            "           0       0.99      1.00      1.00       569\n",
            "           1       0.00      0.00      0.00         4\n",
            "\n",
            "    accuracy                           0.99       573\n",
            "   macro avg       0.50      0.50      0.50       573\n",
            "weighted avg       0.99      0.99      0.99       573\n",
            "\n",
            "[[569   0]\n",
            " [  4   0]]\n",
            "[0.99709302 0.99709302 0.99709302 0.99709302 0.99708455]\n"
          ]
        }
      ],
      "source": [
        "from sklearn.ensemble import RandomForestClassifier\n",
        "\n",
        "clf = RandomForestClassifier().fit(X_train, y_train)\n",
        "y_pred3 = clf.predict(X_test)\n",
        "print('Accuracy of Random Forest classifier on training set: {:.2f}'\n",
        "     .format(clf.score(X_train, y_train)))\n",
        "print('Accuracy of Random Forest classifier on test set: {:.2f}'\n",
        "     .format(clf.score(X_test, y_test)))\n",
        "print(classification_report(y_test, y_pred3))\n",
        "print(confusion_matrix(y_test, y_pred3))\n",
        "print(cross_val_score(clf, X_train, y_train, cv=5))"
      ]
    },
    {
      "cell_type": "code",
      "execution_count": null,
      "metadata": {
        "id": "U2H0LOLzk6lj",
        "outputId": "5371afdb-2737-4864-c73e-37cbc769ee39"
      },
      "outputs": [
        {
          "data": {
            "text/plain": [
              "0.5"
            ]
          },
          "execution_count": 18,
          "metadata": {},
          "output_type": "execute_result"
        }
      ],
      "source": [
        "roc_auc_score(y_test,y_pred3)"
      ]
    },
    {
      "cell_type": "markdown",
      "metadata": {
        "id": "5ju-mJyik6lj"
      },
      "source": [
        "## Post-Sampling Approach"
      ]
    },
    {
      "cell_type": "markdown",
      "metadata": {
        "id": "3vYkKcRAk6lj"
      },
      "source": [
        "As we saw in the Pre-Sampling Approach, due to lack of defective instaces in the dataset, all models were leading to overfitting, especially in their respective training sets. Hence, we need to apply Oversampling techniques to balance the imabalanced datasets. A lot of general algorithms are available for that. We will use the SMOTE Algorithm wbich generates duplicate instances to bring the minority class at par with the majority class. After that, we will again compute the performance metrics for all the models discussed above and compare the results. "
      ]
    },
    {
      "cell_type": "markdown",
      "metadata": {
        "id": "TRS_HU-qk6lj"
      },
      "source": [
        "## SMOTE"
      ]
    },
    {
      "cell_type": "markdown",
      "metadata": {
        "id": "DxFsgcbdk6lj"
      },
      "source": [
        "### Balancing the Test Set Using SMOTE Algorithm"
      ]
    },
    {
      "cell_type": "code",
      "execution_count": null,
      "metadata": {
        "scrolled": true,
        "id": "mdNSz1HYk6lk",
        "outputId": "2be39171-b012-4eb2-af5f-acd26c8236bb"
      },
      "outputs": [
        {
          "name": "stdout",
          "output_type": "stream",
          "text": [
            "Number transactions X_train dataset:  (1719, 83)\n",
            "Number transactions y_train dataset:  (1719,)\n",
            "Number transactions X_test dataset:  (573, 83)\n",
            "Number transactions y_test dataset:  (573,)\n"
          ]
        },
        {
          "name": "stderr",
          "output_type": "stream",
          "text": [
            "D:\\Anaconda3\\lib\\site-packages\\sklearn\\externals\\six.py:31: DeprecationWarning: The module is deprecated in version 0.21 and will be removed in version 0.23 since we've dropped support for Python 2.7. Please rely on the official version of six (https://pypi.org/project/six/).\n",
            "  \"(https://pypi.org/project/six/).\", DeprecationWarning)\n"
          ]
        }
      ],
      "source": [
        "from imblearn.over_sampling import SMOTE\n",
        "\n",
        "print(\"Number transactions X_train dataset: \", X_train.shape)\n",
        "print(\"Number transactions y_train dataset: \", y_train.shape)\n",
        "print(\"Number transactions X_test dataset: \", X_test.shape)\n",
        "print(\"Number transactions y_test dataset: \", y_test.shape)"
      ]
    },
    {
      "cell_type": "code",
      "execution_count": null,
      "metadata": {
        "id": "iwATd-uAk6lk",
        "outputId": "c4af71ab-94a5-430e-cc58-615bab8e9447"
      },
      "outputs": [
        {
          "name": "stdout",
          "output_type": "stream",
          "text": [
            "Before OverSampling, counts of label '1': 5\n",
            "Before OverSampling, counts of label '0': 1714 \n",
            "\n"
          ]
        }
      ],
      "source": [
        "print(\"Before OverSampling, counts of label '1': {}\".format(sum(y_train==1)))\n",
        "print(\"Before OverSampling, counts of label '0': {} \\n\".format(sum(y_train==0)))"
      ]
    },
    {
      "cell_type": "code",
      "execution_count": null,
      "metadata": {
        "id": "UsqN0WG5k6lk",
        "outputId": "5ced9335-c109-4765-9097-c9b0fa214e45"
      },
      "outputs": [
        {
          "name": "stdout",
          "output_type": "stream",
          "text": [
            "After OverSampling, the shape of X: (4566, 83)\n",
            "After OverSampling, the shape of y: (4566,) \n",
            "\n",
            "After OverSampling, counts of label '1': 2283\n",
            "After OverSampling, counts of label '0': 2283\n"
          ]
        }
      ],
      "source": [
        "smt = SMOTE()\n",
        "X_train_res, y_train_res = smt.fit_sample(X, y)\n",
        "\n",
        "print('After OverSampling, the shape of X: {}'.format(X_train_res.shape))\n",
        "print('After OverSampling, the shape of y: {} \\n'.format(y_train_res.shape))\n",
        "\n",
        "print(\"After OverSampling, counts of label '1': {}\".format(sum(y_train_res==1)))\n",
        "print(\"After OverSampling, counts of label '0': {}\".format(sum(y_train_res==0)))\n"
      ]
    },
    {
      "cell_type": "markdown",
      "metadata": {
        "id": "SSuZDaeak6lk"
      },
      "source": [
        "### logistic Regression with SMOTE"
      ]
    },
    {
      "cell_type": "code",
      "execution_count": null,
      "metadata": {
        "id": "FcnrL78Tk6lk",
        "outputId": "cdf78df0-a308-45e2-f133-1f16a5810e76"
      },
      "outputs": [
        {
          "name": "stdout",
          "output_type": "stream",
          "text": [
            "Accuracy of Logistic Regression train set: 0.87\n",
            "Accuracy of Logistic Regression test set: 0.86\n",
            "              precision    recall  f1-score   support\n",
            "\n",
            "           0       1.00      0.86      0.92       569\n",
            "           1       0.05      1.00      0.09         4\n",
            "\n",
            "    accuracy                           0.86       573\n",
            "   macro avg       0.52      0.93      0.51       573\n",
            "weighted avg       0.99      0.86      0.92       573\n",
            "\n",
            "[[487  82]\n",
            " [  0   4]]\n"
          ]
        },
        {
          "name": "stderr",
          "output_type": "stream",
          "text": [
            "D:\\Anaconda3\\lib\\site-packages\\sklearn\\linear_model\\logistic.py:432: FutureWarning: Default solver will be changed to 'lbfgs' in 0.22. Specify a solver to silence this warning.\n",
            "  FutureWarning)\n",
            "D:\\Anaconda3\\lib\\site-packages\\sklearn\\linear_model\\logistic.py:432: FutureWarning: Default solver will be changed to 'lbfgs' in 0.22. Specify a solver to silence this warning.\n",
            "  FutureWarning)\n",
            "D:\\Anaconda3\\lib\\site-packages\\sklearn\\linear_model\\logistic.py:432: FutureWarning: Default solver will be changed to 'lbfgs' in 0.22. Specify a solver to silence this warning.\n",
            "  FutureWarning)\n",
            "D:\\Anaconda3\\lib\\site-packages\\sklearn\\linear_model\\logistic.py:432: FutureWarning: Default solver will be changed to 'lbfgs' in 0.22. Specify a solver to silence this warning.\n",
            "  FutureWarning)\n",
            "D:\\Anaconda3\\lib\\site-packages\\sklearn\\linear_model\\logistic.py:432: FutureWarning: Default solver will be changed to 'lbfgs' in 0.22. Specify a solver to silence this warning.\n",
            "  FutureWarning)\n",
            "D:\\Anaconda3\\lib\\site-packages\\sklearn\\linear_model\\logistic.py:432: FutureWarning: Default solver will be changed to 'lbfgs' in 0.22. Specify a solver to silence this warning.\n",
            "  FutureWarning)\n"
          ]
        },
        {
          "name": "stdout",
          "output_type": "stream",
          "text": [
            "[0.72210066 0.8512035  0.89715536 0.96491228 0.93530702]\n"
          ]
        }
      ],
      "source": [
        "logreg1 = LogisticRegression()\n",
        "logreg1.fit(X_train_res, y_train_res)\n",
        "y_pred4 = logreg1.predict(X_test)\n",
        "print('Accuracy of Logistic Regression train set: {:.2f}'.format(logreg1.score(X_train_res, y_train_res)))\n",
        "print('Accuracy of Logistic Regression test set: {:.2f}'.format(logreg1.score(X_test, y_test)))\n",
        "print(classification_report(y_test, y_pred4))\n",
        "print(confusion_matrix(y_test, y_pred4))\n",
        "print(cross_val_score(logreg1, X_train_res, y_train_res, cv=5))"
      ]
    },
    {
      "cell_type": "code",
      "execution_count": null,
      "metadata": {
        "id": "eY0wBnGVk6lk",
        "outputId": "70277cc5-a5c9-41ce-adf6-b8a87bec59a4"
      },
      "outputs": [
        {
          "data": {
            "text/plain": [
              "0.9279437609841829"
            ]
          },
          "execution_count": 23,
          "metadata": {},
          "output_type": "execute_result"
        }
      ],
      "source": [
        "from sklearn.metrics import roc_auc_score\n",
        "roc_auc_score(y_test,y_pred4)"
      ]
    },
    {
      "cell_type": "code",
      "execution_count": null,
      "metadata": {
        "id": "GxE6cpx4k6lk",
        "outputId": "9126c9a0-5cc9-4e9d-cfa9-1409d4e6f014"
      },
      "outputs": [
        {
          "data": {
            "text/plain": [
              "0.046511627906976744"
            ]
          },
          "execution_count": 24,
          "metadata": {},
          "output_type": "execute_result"
        }
      ],
      "source": [
        "from sklearn.metrics import precision_score\n",
        "precision_score(y_test,y_pred4)"
      ]
    },
    {
      "cell_type": "code",
      "execution_count": null,
      "metadata": {
        "id": "rX8y2zIJk6ll",
        "outputId": "c4d20455-8e39-434e-d6fc-d35a45134290"
      },
      "outputs": [
        {
          "data": {
            "text/plain": [
              "1.0"
            ]
          },
          "execution_count": 25,
          "metadata": {},
          "output_type": "execute_result"
        }
      ],
      "source": [
        "from sklearn.metrics import recall_score\n",
        "recall_score(y_test,y_pred4)"
      ]
    },
    {
      "cell_type": "markdown",
      "metadata": {
        "id": "zMv6GE9zk6ll"
      },
      "source": [
        "### SVM with SMOTE"
      ]
    },
    {
      "cell_type": "code",
      "execution_count": null,
      "metadata": {
        "id": "v9_bVqXFk6ll",
        "outputId": "7b089bda-e386-4781-8cbf-a6a3fa04ccf0"
      },
      "outputs": [
        {
          "name": "stderr",
          "output_type": "stream",
          "text": [
            "D:\\Anaconda3\\lib\\site-packages\\sklearn\\svm\\base.py:193: FutureWarning: The default value of gamma will change from 'auto' to 'scale' in version 0.22 to account better for unscaled features. Set gamma explicitly to 'auto' or 'scale' to avoid this warning.\n",
            "  \"avoid this warning.\", FutureWarning)\n"
          ]
        },
        {
          "name": "stdout",
          "output_type": "stream",
          "text": [
            "Accuracy of SVM train set : 1.0\n",
            "Accuracy of SVM test set : 1.0\n",
            "              precision    recall  f1-score   support\n",
            "\n",
            "           0       1.00      1.00      1.00       569\n",
            "           1       1.00      1.00      1.00         4\n",
            "\n",
            "    accuracy                           1.00       573\n",
            "   macro avg       1.00      1.00      1.00       573\n",
            "weighted avg       1.00      1.00      1.00       573\n",
            "\n",
            "[[569   0]\n",
            " [  0   4]]\n"
          ]
        },
        {
          "name": "stderr",
          "output_type": "stream",
          "text": [
            "D:\\Anaconda3\\lib\\site-packages\\sklearn\\svm\\base.py:193: FutureWarning: The default value of gamma will change from 'auto' to 'scale' in version 0.22 to account better for unscaled features. Set gamma explicitly to 'auto' or 'scale' to avoid this warning.\n",
            "  \"avoid this warning.\", FutureWarning)\n",
            "D:\\Anaconda3\\lib\\site-packages\\sklearn\\svm\\base.py:193: FutureWarning: The default value of gamma will change from 'auto' to 'scale' in version 0.22 to account better for unscaled features. Set gamma explicitly to 'auto' or 'scale' to avoid this warning.\n",
            "  \"avoid this warning.\", FutureWarning)\n",
            "D:\\Anaconda3\\lib\\site-packages\\sklearn\\svm\\base.py:193: FutureWarning: The default value of gamma will change from 'auto' to 'scale' in version 0.22 to account better for unscaled features. Set gamma explicitly to 'auto' or 'scale' to avoid this warning.\n",
            "  \"avoid this warning.\", FutureWarning)\n",
            "D:\\Anaconda3\\lib\\site-packages\\sklearn\\svm\\base.py:193: FutureWarning: The default value of gamma will change from 'auto' to 'scale' in version 0.22 to account better for unscaled features. Set gamma explicitly to 'auto' or 'scale' to avoid this warning.\n",
            "  \"avoid this warning.\", FutureWarning)\n",
            "D:\\Anaconda3\\lib\\site-packages\\sklearn\\svm\\base.py:193: FutureWarning: The default value of gamma will change from 'auto' to 'scale' in version 0.22 to account better for unscaled features. Set gamma explicitly to 'auto' or 'scale' to avoid this warning.\n",
            "  \"avoid this warning.\", FutureWarning)\n"
          ]
        },
        {
          "name": "stdout",
          "output_type": "stream",
          "text": [
            "[0.5        0.5        0.50109409 0.50219298 0.50109649]\n"
          ]
        }
      ],
      "source": [
        "svc = SVC()\n",
        "svc.fit(X_train_res, y_train_res)\n",
        "y_pred = svc.predict(X_test)\n",
        "print('Accuracy of SVM train set : {}'.format(svc.score(X_train_res, y_train_res)))\n",
        "print('Accuracy of SVM test set : {}'.format(svc.score(X_test, y_test)))\n",
        "print(classification_report(y_test, y_pred))\n",
        "print(confusion_matrix(y_test, y_pred))\n",
        "print(cross_val_score(svc, X_train_res, y_train_res, cv=5))"
      ]
    },
    {
      "cell_type": "code",
      "execution_count": null,
      "metadata": {
        "id": "e78bEJTVk6ll",
        "outputId": "ac368f3b-7e81-450b-8484-78d163361305"
      },
      "outputs": [
        {
          "data": {
            "text/plain": [
              "1.0"
            ]
          },
          "execution_count": 27,
          "metadata": {},
          "output_type": "execute_result"
        }
      ],
      "source": [
        "roc_auc_score(y_test,y_pred)"
      ]
    },
    {
      "cell_type": "markdown",
      "metadata": {
        "id": "lrpZyEmSk6ll"
      },
      "source": [
        "### Random Forest Classifier with SMOTE"
      ]
    },
    {
      "cell_type": "code",
      "execution_count": null,
      "metadata": {
        "scrolled": true,
        "id": "l0S-oOuyk6ll",
        "outputId": "926af8c3-85da-4844-9b9f-2d28dce5915e"
      },
      "outputs": [
        {
          "name": "stderr",
          "output_type": "stream",
          "text": [
            "D:\\Anaconda3\\lib\\site-packages\\sklearn\\ensemble\\forest.py:245: FutureWarning: The default value of n_estimators will change from 10 in version 0.20 to 100 in 0.22.\n",
            "  \"10 in version 0.20 to 100 in 0.22.\", FutureWarning)\n"
          ]
        },
        {
          "name": "stdout",
          "output_type": "stream",
          "text": [
            "Accuracy of Random Forest classifier on training set: 0.9997809899255365\n",
            "Accuracy of Random Forest classifier on test set: 1.0\n",
            "              precision    recall  f1-score   support\n",
            "\n",
            "           0       1.00      1.00      1.00       569\n",
            "           1       1.00      1.00      1.00         4\n",
            "\n",
            "    accuracy                           1.00       573\n",
            "   macro avg       1.00      1.00      1.00       573\n",
            "weighted avg       1.00      1.00      1.00       573\n",
            "\n",
            "[[569   0]\n",
            " [  0   4]]\n",
            "[0.99343545 0.99452954 0.99562363 0.99122807 1.        ]\n"
          ]
        }
      ],
      "source": [
        "clf = RandomForestClassifier().fit(X_train_res, y_train_res)\n",
        "y_pred = clf.predict(X_test)\n",
        "print('Accuracy of Random Forest classifier on training set: {}'.format(clf.score(X_train_res, y_train_res)))\n",
        "print('Accuracy of Random Forest classifier on test set: {}'.format(clf.score(X_test, y_test)))\n",
        "print(classification_report(y_test, y_pred))\n",
        "print(confusion_matrix(y_test, y_pred))\n",
        "print(cross_val_score(clf, X_train_res, y_train_res, cv=5))"
      ]
    },
    {
      "cell_type": "code",
      "execution_count": null,
      "metadata": {
        "id": "HkASy6ttk6ll",
        "outputId": "7e7697fb-ba1a-44b5-addb-85d9d2b55be9"
      },
      "outputs": [
        {
          "data": {
            "text/plain": [
              "1.0"
            ]
          },
          "execution_count": 29,
          "metadata": {},
          "output_type": "execute_result"
        }
      ],
      "source": [
        "roc_auc_score(y_test,y_pred)"
      ]
    },
    {
      "cell_type": "markdown",
      "metadata": {
        "id": "ufI1R_Nhk6ll"
      },
      "source": [
        "## SMOTE + Standardization"
      ]
    },
    {
      "cell_type": "code",
      "execution_count": null,
      "metadata": {
        "id": "JZwGI6iUk6ll"
      },
      "outputs": [],
      "source": [
        "from sklearn.preprocessing import StandardScaler\n",
        "sc = StandardScaler()\n",
        "X_train_res = sc.fit_transform(X_train_res)\n",
        "X_test = sc.transform(X_test)"
      ]
    },
    {
      "cell_type": "code",
      "execution_count": null,
      "metadata": {
        "id": "lWpd6XbGk6lm",
        "outputId": "b866eb57-cacb-4796-b11a-0411e9a08781"
      },
      "outputs": [
        {
          "name": "stderr",
          "output_type": "stream",
          "text": [
            "D:\\Anaconda3\\lib\\site-packages\\sklearn\\linear_model\\logistic.py:432: FutureWarning: Default solver will be changed to 'lbfgs' in 0.22. Specify a solver to silence this warning.\n",
            "  FutureWarning)\n"
          ]
        },
        {
          "name": "stdout",
          "output_type": "stream",
          "text": [
            "Accuracy of Logistic Regression train set: 0.98\n",
            "Accuracy of Logistic Regression test set: 0.956369982547993\n",
            "              precision    recall  f1-score   support\n",
            "\n",
            "           0       1.00      0.96      0.98       569\n",
            "           1       0.14      1.00      0.24         4\n",
            "\n",
            "    accuracy                           0.96       573\n",
            "   macro avg       0.57      0.98      0.61       573\n",
            "weighted avg       0.99      0.96      0.97       573\n",
            "\n",
            "[[544  25]\n",
            " [  0   4]]\n"
          ]
        },
        {
          "name": "stderr",
          "output_type": "stream",
          "text": [
            "D:\\Anaconda3\\lib\\site-packages\\sklearn\\linear_model\\logistic.py:432: FutureWarning: Default solver will be changed to 'lbfgs' in 0.22. Specify a solver to silence this warning.\n",
            "  FutureWarning)\n",
            "D:\\Anaconda3\\lib\\site-packages\\sklearn\\linear_model\\logistic.py:432: FutureWarning: Default solver will be changed to 'lbfgs' in 0.22. Specify a solver to silence this warning.\n",
            "  FutureWarning)\n",
            "D:\\Anaconda3\\lib\\site-packages\\sklearn\\linear_model\\logistic.py:432: FutureWarning: Default solver will be changed to 'lbfgs' in 0.22. Specify a solver to silence this warning.\n",
            "  FutureWarning)\n",
            "D:\\Anaconda3\\lib\\site-packages\\sklearn\\linear_model\\logistic.py:432: FutureWarning: Default solver will be changed to 'lbfgs' in 0.22. Specify a solver to silence this warning.\n",
            "  FutureWarning)\n",
            "D:\\Anaconda3\\lib\\site-packages\\sklearn\\linear_model\\logistic.py:432: FutureWarning: Default solver will be changed to 'lbfgs' in 0.22. Specify a solver to silence this warning.\n",
            "  FutureWarning)\n"
          ]
        },
        {
          "name": "stdout",
          "output_type": "stream",
          "text": [
            "[0.91575492 0.9726477  0.95842451 0.98245614 0.97149123]\n"
          ]
        },
        {
          "data": {
            "text/plain": [
              "0.9780316344463972"
            ]
          },
          "execution_count": 31,
          "metadata": {},
          "output_type": "execute_result"
        }
      ],
      "source": [
        "logreg = LogisticRegression()\n",
        "logreg.fit(X_train_res, y_train_res)\n",
        "y_pred = logreg.predict(X_test)\n",
        "print('Accuracy of Logistic Regression train set: {:.2f}'.format(logreg.score(X_train_res, y_train_res)))\n",
        "print('Accuracy of Logistic Regression test set: {}'.format(logreg.score(X_test, y_test)))\n",
        "print(classification_report(y_test, y_pred))\n",
        "print(confusion_matrix(y_test, y_pred))\n",
        "print(cross_val_score(logreg, X_train_res, y_train_res, cv=5))\n",
        "roc_auc_score(y_test,y_pred)"
      ]
    },
    {
      "cell_type": "code",
      "execution_count": null,
      "metadata": {
        "id": "D7I7RARPk6lm",
        "outputId": "20b5283b-d6a1-48b6-e3b5-456ddff214b6"
      },
      "outputs": [
        {
          "name": "stderr",
          "output_type": "stream",
          "text": [
            "D:\\Anaconda3\\lib\\site-packages\\sklearn\\svm\\base.py:193: FutureWarning: The default value of gamma will change from 'auto' to 'scale' in version 0.22 to account better for unscaled features. Set gamma explicitly to 'auto' or 'scale' to avoid this warning.\n",
            "  \"avoid this warning.\", FutureWarning)\n"
          ]
        },
        {
          "name": "stdout",
          "output_type": "stream",
          "text": [
            "Accuracy of SVM train set : 0.99\n",
            "Accuracy of SVM test set : 0.98\n",
            "              precision    recall  f1-score   support\n",
            "\n",
            "           0       1.00      0.98      0.99       569\n",
            "           1       0.25      1.00      0.40         4\n",
            "\n",
            "    accuracy                           0.98       573\n",
            "   macro avg       0.62      0.99      0.69       573\n",
            "weighted avg       0.99      0.98      0.99       573\n",
            "\n",
            "[[557  12]\n",
            " [  0   4]]\n"
          ]
        },
        {
          "name": "stderr",
          "output_type": "stream",
          "text": [
            "D:\\Anaconda3\\lib\\site-packages\\sklearn\\svm\\base.py:193: FutureWarning: The default value of gamma will change from 'auto' to 'scale' in version 0.22 to account better for unscaled features. Set gamma explicitly to 'auto' or 'scale' to avoid this warning.\n",
            "  \"avoid this warning.\", FutureWarning)\n",
            "D:\\Anaconda3\\lib\\site-packages\\sklearn\\svm\\base.py:193: FutureWarning: The default value of gamma will change from 'auto' to 'scale' in version 0.22 to account better for unscaled features. Set gamma explicitly to 'auto' or 'scale' to avoid this warning.\n",
            "  \"avoid this warning.\", FutureWarning)\n",
            "D:\\Anaconda3\\lib\\site-packages\\sklearn\\svm\\base.py:193: FutureWarning: The default value of gamma will change from 'auto' to 'scale' in version 0.22 to account better for unscaled features. Set gamma explicitly to 'auto' or 'scale' to avoid this warning.\n",
            "  \"avoid this warning.\", FutureWarning)\n",
            "D:\\Anaconda3\\lib\\site-packages\\sklearn\\svm\\base.py:193: FutureWarning: The default value of gamma will change from 'auto' to 'scale' in version 0.22 to account better for unscaled features. Set gamma explicitly to 'auto' or 'scale' to avoid this warning.\n",
            "  \"avoid this warning.\", FutureWarning)\n",
            "D:\\Anaconda3\\lib\\site-packages\\sklearn\\svm\\base.py:193: FutureWarning: The default value of gamma will change from 'auto' to 'scale' in version 0.22 to account better for unscaled features. Set gamma explicitly to 'auto' or 'scale' to avoid this warning.\n",
            "  \"avoid this warning.\", FutureWarning)\n"
          ]
        },
        {
          "name": "stdout",
          "output_type": "stream",
          "text": [
            "[0.95514223 0.98468271 0.96280088 0.97368421 0.9879386 ]\n"
          ]
        },
        {
          "data": {
            "text/plain": [
              "0.9894551845342707"
            ]
          },
          "execution_count": 32,
          "metadata": {},
          "output_type": "execute_result"
        }
      ],
      "source": [
        "svc = SVC()\n",
        "svc.fit(X_train_res, y_train_res)\n",
        "y_pred = svc.predict(X_test)\n",
        "print('Accuracy of SVM train set : {:.2f}'.format(svc.score(X_train_res, y_train_res)))\n",
        "print('Accuracy of SVM test set : {:.2f}'.format(svc.score(X_test, y_test)))\n",
        "print(classification_report(y_test, y_pred))\n",
        "print(confusion_matrix(y_test, y_pred))\n",
        "print(cross_val_score(svc, X_train_res, y_train_res, cv=5))\n",
        "roc_auc_score(y_test,y_pred)"
      ]
    },
    {
      "cell_type": "code",
      "execution_count": null,
      "metadata": {
        "id": "suqhjJ3xk6lm",
        "outputId": "0fb806a8-a052-485a-a8e9-6be0a425f307"
      },
      "outputs": [
        {
          "name": "stderr",
          "output_type": "stream",
          "text": [
            "D:\\Anaconda3\\lib\\site-packages\\sklearn\\ensemble\\forest.py:245: FutureWarning: The default value of n_estimators will change from 10 in version 0.20 to 100 in 0.22.\n",
            "  \"10 in version 0.20 to 100 in 0.22.\", FutureWarning)\n"
          ]
        },
        {
          "name": "stdout",
          "output_type": "stream",
          "text": [
            "Accuracy of Random Forest classifier on training set: 1.00\n",
            "Accuracy of Random Forest classifier on test set: 1.00\n",
            "              precision    recall  f1-score   support\n",
            "\n",
            "           0       1.00      1.00      1.00       569\n",
            "           1       0.80      1.00      0.89         4\n",
            "\n",
            "    accuracy                           1.00       573\n",
            "   macro avg       0.90      1.00      0.94       573\n",
            "weighted avg       1.00      1.00      1.00       573\n",
            "\n",
            "[[568   1]\n",
            " [  0   4]]\n",
            "[0.99124726 0.99343545 0.99562363 0.99122807 1.        ]\n"
          ]
        },
        {
          "data": {
            "text/plain": [
              "0.999121265377856"
            ]
          },
          "execution_count": 33,
          "metadata": {},
          "output_type": "execute_result"
        }
      ],
      "source": [
        "clf = RandomForestClassifier().fit(X_train_res, y_train_res)\n",
        "y_pred = clf.predict(X_test)\n",
        "print('Accuracy of Random Forest classifier on training set: {:.2f}'.format(clf.score(X_train_res, y_train_res)))\n",
        "print('Accuracy of Random Forest classifier on test set: {:.2f}'.format(clf.score(X_test, y_test)))\n",
        "print(classification_report(y_test, y_pred))\n",
        "print(confusion_matrix(y_test, y_pred))\n",
        "print(cross_val_score(clf, X_train_res, y_train_res, cv=5))\n",
        "roc_auc_score(y_test,y_pred)"
      ]
    },
    {
      "cell_type": "markdown",
      "metadata": {
        "id": "-GhYIj1Lk6lm"
      },
      "source": [
        "## Random Oversapmling"
      ]
    },
    {
      "cell_type": "code",
      "execution_count": null,
      "metadata": {
        "id": "eEri_eQmk6lm",
        "outputId": "5b286be8-361b-425c-9d55-3f3801211549"
      },
      "outputs": [
        {
          "name": "stdout",
          "output_type": "stream",
          "text": [
            "Number transactions X_train dataset:  (1719, 83)\n",
            "Number transactions y_train dataset:  (1719,)\n",
            "Number transactions X_test dataset:  (573, 83)\n",
            "Number transactions y_test dataset:  (573,)\n"
          ]
        }
      ],
      "source": [
        "from imblearn.over_sampling import RandomOverSampler\n",
        "\n",
        "print(\"Number transactions X_train dataset: \", X_train.shape)\n",
        "print(\"Number transactions y_train dataset: \", y_train.shape)\n",
        "print(\"Number transactions X_test dataset: \", X_test.shape)\n",
        "print(\"Number transactions y_test dataset: \", y_test.shape)"
      ]
    },
    {
      "cell_type": "code",
      "execution_count": null,
      "metadata": {
        "id": "T4FL7eM2k6lm",
        "outputId": "21211fd0-7683-4fee-dd81-be4cf0eb7979"
      },
      "outputs": [
        {
          "name": "stdout",
          "output_type": "stream",
          "text": [
            "Before OverSampling, counts of label '1': 5\n",
            "Before OverSampling, counts of label '0': 1714 \n",
            "\n"
          ]
        }
      ],
      "source": [
        "print(\"Before OverSampling, counts of label '1': {}\".format(sum(y_train==1)))\n",
        "print(\"Before OverSampling, counts of label '0': {} \\n\".format(sum(y_train==0)))"
      ]
    },
    {
      "cell_type": "code",
      "execution_count": null,
      "metadata": {
        "id": "KzZ0X8Xyk6lm",
        "outputId": "b7c7a890-db5c-4dff-abd0-0b3b27d041d8"
      },
      "outputs": [
        {
          "name": "stdout",
          "output_type": "stream",
          "text": [
            "After OverSampling, the shape of train_X: (4566, 83)\n",
            "After OverSampling, the shape of train_y: (4566,) \n",
            "\n",
            "After OverSampling, counts of label '1': 2283\n",
            "After OverSampling, counts of label '0': 2283\n"
          ]
        }
      ],
      "source": [
        "ros = RandomOverSampler()\n",
        "X_train_resampled, y_train_resampled = ros.fit_sample(X, y)\n",
        "\n",
        "print('After OverSampling, the shape of train_X: {}'.format(X_train_resampled.shape))\n",
        "print('After OverSampling, the shape of train_y: {} \\n'.format(y_train_resampled.shape))\n",
        "\n",
        "print(\"After OverSampling, counts of label '1': {}\".format(sum(y_train_resampled==1)))\n",
        "print(\"After OverSampling, counts of label '0': {}\".format(sum(y_train_resampled==0)))"
      ]
    },
    {
      "cell_type": "code",
      "execution_count": null,
      "metadata": {
        "id": "fX1X3riok6lm",
        "outputId": "cee61edb-8ac8-4c6b-af10-19df0145a098"
      },
      "outputs": [
        {
          "name": "stdout",
          "output_type": "stream",
          "text": [
            "Accuracy of Logistic Regression train set: 0.81\n"
          ]
        },
        {
          "name": "stderr",
          "output_type": "stream",
          "text": [
            "D:\\Anaconda3\\lib\\site-packages\\sklearn\\linear_model\\logistic.py:432: FutureWarning: Default solver will be changed to 'lbfgs' in 0.22. Specify a solver to silence this warning.\n",
            "  FutureWarning)\n",
            "D:\\Anaconda3\\lib\\site-packages\\sklearn\\linear_model\\logistic.py:432: FutureWarning: Default solver will be changed to 'lbfgs' in 0.22. Specify a solver to silence this warning.\n",
            "  FutureWarning)\n"
          ]
        },
        {
          "name": "stdout",
          "output_type": "stream",
          "text": [
            "Accuracy of Logistic Regression test set: 0.73\n",
            "              precision    recall  f1-score   support\n",
            "\n",
            "           0       1.00      0.72      0.84       569\n",
            "           1       0.02      1.00      0.05         4\n",
            "\n",
            "    accuracy                           0.73       573\n",
            "   macro avg       0.51      0.86      0.44       573\n",
            "weighted avg       0.99      0.73      0.83       573\n",
            "\n",
            "[[412 157]\n",
            " [  0   4]]\n"
          ]
        },
        {
          "name": "stderr",
          "output_type": "stream",
          "text": [
            "D:\\Anaconda3\\lib\\site-packages\\sklearn\\linear_model\\logistic.py:432: FutureWarning: Default solver will be changed to 'lbfgs' in 0.22. Specify a solver to silence this warning.\n",
            "  FutureWarning)\n",
            "D:\\Anaconda3\\lib\\site-packages\\sklearn\\linear_model\\logistic.py:432: FutureWarning: Default solver will be changed to 'lbfgs' in 0.22. Specify a solver to silence this warning.\n",
            "  FutureWarning)\n",
            "D:\\Anaconda3\\lib\\site-packages\\sklearn\\linear_model\\logistic.py:432: FutureWarning: Default solver will be changed to 'lbfgs' in 0.22. Specify a solver to silence this warning.\n",
            "  FutureWarning)\n",
            "D:\\Anaconda3\\lib\\site-packages\\sklearn\\linear_model\\logistic.py:432: FutureWarning: Default solver will be changed to 'lbfgs' in 0.22. Specify a solver to silence this warning.\n",
            "  FutureWarning)\n"
          ]
        },
        {
          "name": "stdout",
          "output_type": "stream",
          "text": [
            "[0.63676149 0.83150985 0.8238512  0.93969298 0.94298246]\n"
          ]
        }
      ],
      "source": [
        "logreg2 = LogisticRegression()\n",
        "logreg2.fit(X_train_resampled, y_train_resampled)\n",
        "y_pred = logreg2.predict(X_test)\n",
        "print('Accuracy of Logistic Regression train set: {:.2f}'.format(logreg2.score(X_train_resampled, y_train_resampled)))\n",
        "print('Accuracy of Logistic Regression test set: {:.2f}'.format(logreg2.score(X_test, y_test)))\n",
        "print(classification_report(y_test, y_pred))\n",
        "print(confusion_matrix(y_test, y_pred))\n",
        "print(cross_val_score(logreg2, X_train_resampled, y_train_resampled, cv=5))"
      ]
    },
    {
      "cell_type": "code",
      "execution_count": null,
      "metadata": {
        "id": "KNQpMPUXk6ln",
        "outputId": "669a969e-3fac-48a6-b5ec-0f0b5849a707"
      },
      "outputs": [
        {
          "name": "stderr",
          "output_type": "stream",
          "text": [
            "D:\\Anaconda3\\lib\\site-packages\\sklearn\\svm\\base.py:193: FutureWarning: The default value of gamma will change from 'auto' to 'scale' in version 0.22 to account better for unscaled features. Set gamma explicitly to 'auto' or 'scale' to avoid this warning.\n",
            "  \"avoid this warning.\", FutureWarning)\n"
          ]
        },
        {
          "name": "stdout",
          "output_type": "stream",
          "text": [
            "Accuracy of SVM train set : 1.00\n",
            "Accuracy of SVM test set : 0.99\n",
            "              precision    recall  f1-score   support\n",
            "\n",
            "           0       0.99      1.00      1.00       569\n",
            "           1       0.00      0.00      0.00         4\n",
            "\n",
            "    accuracy                           0.99       573\n",
            "   macro avg       0.50      0.50      0.50       573\n",
            "weighted avg       0.99      0.99      0.99       573\n",
            "\n",
            "[[569   0]\n",
            " [  4   0]]\n"
          ]
        },
        {
          "name": "stderr",
          "output_type": "stream",
          "text": [
            "D:\\Anaconda3\\lib\\site-packages\\sklearn\\metrics\\classification.py:1437: UndefinedMetricWarning: Precision and F-score are ill-defined and being set to 0.0 in labels with no predicted samples.\n",
            "  'precision', 'predicted', average, warn_for)\n",
            "D:\\Anaconda3\\lib\\site-packages\\sklearn\\metrics\\classification.py:1437: UndefinedMetricWarning: Precision and F-score are ill-defined and being set to 0.0 in labels with no predicted samples.\n",
            "  'precision', 'predicted', average, warn_for)\n",
            "D:\\Anaconda3\\lib\\site-packages\\sklearn\\metrics\\classification.py:1437: UndefinedMetricWarning: Precision and F-score are ill-defined and being set to 0.0 in labels with no predicted samples.\n",
            "  'precision', 'predicted', average, warn_for)\n",
            "D:\\Anaconda3\\lib\\site-packages\\sklearn\\svm\\base.py:193: FutureWarning: The default value of gamma will change from 'auto' to 'scale' in version 0.22 to account better for unscaled features. Set gamma explicitly to 'auto' or 'scale' to avoid this warning.\n",
            "  \"avoid this warning.\", FutureWarning)\n",
            "D:\\Anaconda3\\lib\\site-packages\\sklearn\\svm\\base.py:193: FutureWarning: The default value of gamma will change from 'auto' to 'scale' in version 0.22 to account better for unscaled features. Set gamma explicitly to 'auto' or 'scale' to avoid this warning.\n",
            "  \"avoid this warning.\", FutureWarning)\n",
            "D:\\Anaconda3\\lib\\site-packages\\sklearn\\svm\\base.py:193: FutureWarning: The default value of gamma will change from 'auto' to 'scale' in version 0.22 to account better for unscaled features. Set gamma explicitly to 'auto' or 'scale' to avoid this warning.\n",
            "  \"avoid this warning.\", FutureWarning)\n",
            "D:\\Anaconda3\\lib\\site-packages\\sklearn\\svm\\base.py:193: FutureWarning: The default value of gamma will change from 'auto' to 'scale' in version 0.22 to account better for unscaled features. Set gamma explicitly to 'auto' or 'scale' to avoid this warning.\n",
            "  \"avoid this warning.\", FutureWarning)\n",
            "D:\\Anaconda3\\lib\\site-packages\\sklearn\\svm\\base.py:193: FutureWarning: The default value of gamma will change from 'auto' to 'scale' in version 0.22 to account better for unscaled features. Set gamma explicitly to 'auto' or 'scale' to avoid this warning.\n",
            "  \"avoid this warning.\", FutureWarning)\n"
          ]
        },
        {
          "name": "stdout",
          "output_type": "stream",
          "text": [
            "[1. 1. 1. 1. 1.]\n"
          ]
        }
      ],
      "source": [
        "svc2 = SVC()\n",
        "svc2.fit(X_train_resampled, y_train_resampled)\n",
        "y_pred = svc2.predict(X_test)\n",
        "print('Accuracy of SVM train set : {:.2f}'.format(svc2.score(X_train_resampled, y_train_resampled)))\n",
        "print('Accuracy of SVM test set : {:.2f}'.format(svc2.score(X_test, y_test)))\n",
        "print(classification_report(y_test, y_pred))\n",
        "print(confusion_matrix(y_test, y_pred))\n",
        "print(cross_val_score(svc2, X_train_resampled, y_train_resampled, cv=5))"
      ]
    },
    {
      "cell_type": "code",
      "execution_count": null,
      "metadata": {
        "id": "4JFQlclPk6ln",
        "outputId": "a03aa4ee-5e1e-40e6-d5e3-9465777346e1"
      },
      "outputs": [
        {
          "name": "stderr",
          "output_type": "stream",
          "text": [
            "D:\\Anaconda3\\lib\\site-packages\\sklearn\\ensemble\\forest.py:245: FutureWarning: The default value of n_estimators will change from 10 in version 0.20 to 100 in 0.22.\n",
            "  \"10 in version 0.20 to 100 in 0.22.\", FutureWarning)\n"
          ]
        },
        {
          "name": "stdout",
          "output_type": "stream",
          "text": [
            "Accuracy of Random Forest classifier on training set: 1.00\n",
            "Accuracy of Random Forest classifier on test set: 0.99\n",
            "              precision    recall  f1-score   support\n",
            "\n",
            "           0       0.99      1.00      1.00       569\n",
            "           1       0.00      0.00      0.00         4\n",
            "\n",
            "    accuracy                           0.99       573\n",
            "   macro avg       0.50      0.50      0.50       573\n",
            "weighted avg       0.99      0.99      0.99       573\n",
            "\n",
            "[[569   0]\n",
            " [  4   0]]\n"
          ]
        },
        {
          "name": "stderr",
          "output_type": "stream",
          "text": [
            "D:\\Anaconda3\\lib\\site-packages\\sklearn\\metrics\\classification.py:1437: UndefinedMetricWarning: Precision and F-score are ill-defined and being set to 0.0 in labels with no predicted samples.\n",
            "  'precision', 'predicted', average, warn_for)\n",
            "D:\\Anaconda3\\lib\\site-packages\\sklearn\\metrics\\classification.py:1437: UndefinedMetricWarning: Precision and F-score are ill-defined and being set to 0.0 in labels with no predicted samples.\n",
            "  'precision', 'predicted', average, warn_for)\n",
            "D:\\Anaconda3\\lib\\site-packages\\sklearn\\metrics\\classification.py:1437: UndefinedMetricWarning: Precision and F-score are ill-defined and being set to 0.0 in labels with no predicted samples.\n",
            "  'precision', 'predicted', average, warn_for)\n"
          ]
        },
        {
          "name": "stdout",
          "output_type": "stream",
          "text": [
            "[0.99890591 1.         0.99671772 0.99671053 1.        ]\n"
          ]
        }
      ],
      "source": [
        "clf2 = RandomForestClassifier().fit(X_train_resampled, y_train_resampled)\n",
        "y_pred = clf2.predict(X_test)\n",
        "print('Accuracy of Random Forest classifier on training set: {:.2f}'.format(clf2.score(X_train_resampled, y_train_resampled)))\n",
        "print('Accuracy of Random Forest classifier on test set: {:.2f}'.format(clf2.score(X_test, y_test)))\n",
        "print(classification_report(y_test, y_pred))\n",
        "print(confusion_matrix(y_test, y_pred))\n",
        "print(cross_val_score(clf2, X_train_resampled, y_train_resampled, cv=5))"
      ]
    },
    {
      "cell_type": "markdown",
      "metadata": {
        "id": "FqEJGOTQk6ln"
      },
      "source": [
        "## ADASYN"
      ]
    },
    {
      "cell_type": "code",
      "execution_count": null,
      "metadata": {
        "id": "XKkN6c1Jk6ln",
        "outputId": "a582c2da-fa0a-4778-b1a7-bb42ca2cc58e"
      },
      "outputs": [
        {
          "name": "stdout",
          "output_type": "stream",
          "text": [
            "Number transactions X_train dataset:  (1719, 83)\n",
            "Number transactions y_train dataset:  (1719,)\n",
            "Number transactions X_test dataset:  (573, 83)\n",
            "Number transactions y_test dataset:  (573,)\n",
            "Before OverSampling, counts of label '1': 5\n",
            "Before OverSampling, counts of label '0': 1714 \n",
            "\n",
            "After OverSampling, the shape of train_X: (4564, 83)\n",
            "After OverSampling, the shape of train_y: (4564,) \n",
            "\n",
            "After OverSampling, counts of label '1': 2281\n",
            "After OverSampling, counts of label '0': 2283\n"
          ]
        }
      ],
      "source": [
        "from imblearn.over_sampling import ADASYN\n",
        "\n",
        "print(\"Number transactions X_train dataset: \", X_train.shape)\n",
        "print(\"Number transactions y_train dataset: \", y_train.shape)\n",
        "print(\"Number transactions X_test dataset: \", X_test.shape)\n",
        "print(\"Number transactions y_test dataset: \", y_test.shape)\n",
        "\n",
        "print(\"Before OverSampling, counts of label '1': {}\".format(sum(y_train==1)))\n",
        "print(\"Before OverSampling, counts of label '0': {} \\n\".format(sum(y_train==0)))\n",
        "\n",
        "ads = ADASYN()\n",
        "\n",
        "X_train_rsm, y_train_rsm = ads.fit_sample(X, y)\n",
        "\n",
        "print('After OverSampling, the shape of train_X: {}'.format(X_train_rsm.shape))\n",
        "print('After OverSampling, the shape of train_y: {} \\n'.format(y_train_rsm.shape))\n",
        "\n",
        "print(\"After OverSampling, counts of label '1': {}\".format(sum(y_train_rsm==1)))\n",
        "print(\"After OverSampling, counts of label '0': {}\".format(sum(y_train_rsm==0)))"
      ]
    },
    {
      "cell_type": "code",
      "execution_count": null,
      "metadata": {
        "id": "3eTrqvifk6ln",
        "outputId": "f74beb2d-a98a-48ef-97a8-9d46036d3d84"
      },
      "outputs": [
        {
          "name": "stderr",
          "output_type": "stream",
          "text": [
            "D:\\Anaconda3\\lib\\site-packages\\sklearn\\linear_model\\logistic.py:432: FutureWarning: Default solver will be changed to 'lbfgs' in 0.22. Specify a solver to silence this warning.\n",
            "  FutureWarning)\n",
            "D:\\Anaconda3\\lib\\site-packages\\sklearn\\linear_model\\logistic.py:432: FutureWarning: Default solver will be changed to 'lbfgs' in 0.22. Specify a solver to silence this warning.\n",
            "  FutureWarning)\n"
          ]
        },
        {
          "name": "stdout",
          "output_type": "stream",
          "text": [
            "Accuracy of Logistic Regression train set: 0.87\n",
            "Accuracy of Logistic Regression test set: 0.58\n",
            "              precision    recall  f1-score   support\n",
            "\n",
            "           0       1.00      0.58      0.73       569\n",
            "           1       0.01      0.75      0.02         4\n",
            "\n",
            "    accuracy                           0.58       573\n",
            "   macro avg       0.50      0.66      0.38       573\n",
            "weighted avg       0.99      0.58      0.73       573\n",
            "\n",
            "[[329 240]\n",
            " [  1   3]]\n"
          ]
        },
        {
          "name": "stderr",
          "output_type": "stream",
          "text": [
            "D:\\Anaconda3\\lib\\site-packages\\sklearn\\linear_model\\logistic.py:432: FutureWarning: Default solver will be changed to 'lbfgs' in 0.22. Specify a solver to silence this warning.\n",
            "  FutureWarning)\n",
            "D:\\Anaconda3\\lib\\site-packages\\sklearn\\linear_model\\logistic.py:432: FutureWarning: Default solver will be changed to 'lbfgs' in 0.22. Specify a solver to silence this warning.\n",
            "  FutureWarning)\n",
            "D:\\Anaconda3\\lib\\site-packages\\sklearn\\linear_model\\logistic.py:432: FutureWarning: Default solver will be changed to 'lbfgs' in 0.22. Specify a solver to silence this warning.\n",
            "  FutureWarning)\n",
            "D:\\Anaconda3\\lib\\site-packages\\sklearn\\linear_model\\logistic.py:432: FutureWarning: Default solver will be changed to 'lbfgs' in 0.22. Specify a solver to silence this warning.\n",
            "  FutureWarning)\n"
          ]
        },
        {
          "name": "stdout",
          "output_type": "stream",
          "text": [
            "[0.72100656 0.86966046 0.76779847 0.92653509 0.86403509]\n"
          ]
        }
      ],
      "source": [
        "logreg3 = LogisticRegression()\n",
        "logreg3.fit(X_train_rsm, y_train_rsm)\n",
        "y_pred = logreg3.predict(X_test)\n",
        "print('Accuracy of Logistic Regression train set: {:.2f}'.format(logreg3.score(X_train_rsm, y_train_rsm)))\n",
        "print('Accuracy of Logistic Regression test set: {:.2f}'.format(logreg3.score(X_test, y_test)))\n",
        "print(classification_report(y_test, y_pred))\n",
        "print(confusion_matrix(y_test, y_pred))\n",
        "print(cross_val_score(logreg3, X_train_rsm, y_train_rsm, cv=5))"
      ]
    },
    {
      "cell_type": "code",
      "execution_count": null,
      "metadata": {
        "id": "2gfxB-0Ik6ln",
        "outputId": "115e62cb-be11-4249-a8e5-62a9c7d16c0d"
      },
      "outputs": [
        {
          "name": "stderr",
          "output_type": "stream",
          "text": [
            "D:\\Anaconda3\\lib\\site-packages\\sklearn\\svm\\base.py:193: FutureWarning: The default value of gamma will change from 'auto' to 'scale' in version 0.22 to account better for unscaled features. Set gamma explicitly to 'auto' or 'scale' to avoid this warning.\n",
            "  \"avoid this warning.\", FutureWarning)\n"
          ]
        },
        {
          "name": "stdout",
          "output_type": "stream",
          "text": [
            "Accuracy of SVM train set : 1.00\n",
            "Accuracy of SVM test set : 0.01\n",
            "              precision    recall  f1-score   support\n",
            "\n",
            "           0       0.00      0.00      0.00       569\n",
            "           1       0.01      1.00      0.01         4\n",
            "\n",
            "    accuracy                           0.01       573\n",
            "   macro avg       0.00      0.50      0.01       573\n",
            "weighted avg       0.00      0.01      0.00       573\n",
            "\n",
            "[[  0 569]\n",
            " [  0   4]]\n"
          ]
        },
        {
          "name": "stderr",
          "output_type": "stream",
          "text": [
            "D:\\Anaconda3\\lib\\site-packages\\sklearn\\metrics\\classification.py:1437: UndefinedMetricWarning: Precision and F-score are ill-defined and being set to 0.0 in labels with no predicted samples.\n",
            "  'precision', 'predicted', average, warn_for)\n",
            "D:\\Anaconda3\\lib\\site-packages\\sklearn\\metrics\\classification.py:1437: UndefinedMetricWarning: Precision and F-score are ill-defined and being set to 0.0 in labels with no predicted samples.\n",
            "  'precision', 'predicted', average, warn_for)\n",
            "D:\\Anaconda3\\lib\\site-packages\\sklearn\\metrics\\classification.py:1437: UndefinedMetricWarning: Precision and F-score are ill-defined and being set to 0.0 in labels with no predicted samples.\n",
            "  'precision', 'predicted', average, warn_for)\n",
            "D:\\Anaconda3\\lib\\site-packages\\sklearn\\svm\\base.py:193: FutureWarning: The default value of gamma will change from 'auto' to 'scale' in version 0.22 to account better for unscaled features. Set gamma explicitly to 'auto' or 'scale' to avoid this warning.\n",
            "  \"avoid this warning.\", FutureWarning)\n",
            "D:\\Anaconda3\\lib\\site-packages\\sklearn\\svm\\base.py:193: FutureWarning: The default value of gamma will change from 'auto' to 'scale' in version 0.22 to account better for unscaled features. Set gamma explicitly to 'auto' or 'scale' to avoid this warning.\n",
            "  \"avoid this warning.\", FutureWarning)\n",
            "D:\\Anaconda3\\lib\\site-packages\\sklearn\\svm\\base.py:193: FutureWarning: The default value of gamma will change from 'auto' to 'scale' in version 0.22 to account better for unscaled features. Set gamma explicitly to 'auto' or 'scale' to avoid this warning.\n",
            "  \"avoid this warning.\", FutureWarning)\n",
            "D:\\Anaconda3\\lib\\site-packages\\sklearn\\svm\\base.py:193: FutureWarning: The default value of gamma will change from 'auto' to 'scale' in version 0.22 to account better for unscaled features. Set gamma explicitly to 'auto' or 'scale' to avoid this warning.\n",
            "  \"avoid this warning.\", FutureWarning)\n",
            "D:\\Anaconda3\\lib\\site-packages\\sklearn\\svm\\base.py:193: FutureWarning: The default value of gamma will change from 'auto' to 'scale' in version 0.22 to account better for unscaled features. Set gamma explicitly to 'auto' or 'scale' to avoid this warning.\n",
            "  \"avoid this warning.\", FutureWarning)\n"
          ]
        },
        {
          "name": "stdout",
          "output_type": "stream",
          "text": [
            "[0.5        0.49945235 0.50054765 0.50219298 0.5       ]\n"
          ]
        }
      ],
      "source": [
        "svc3 = SVC()\n",
        "svc3.fit(X_train_rsm, y_train_rsm)\n",
        "y_pred = svc3.predict(X_test)\n",
        "print('Accuracy of SVM train set : {:.2f}'.format(svc3.score(X_train_rsm, y_train_rsm)))\n",
        "print('Accuracy of SVM test set : {:.2f}'.format(svc3.score(X_test, y_test)))\n",
        "print(classification_report(y_test, y_pred))\n",
        "print(confusion_matrix(y_test, y_pred))\n",
        "print(cross_val_score(svc3, X_train_rsm, y_train_rsm, cv=5))"
      ]
    },
    {
      "cell_type": "code",
      "execution_count": null,
      "metadata": {
        "id": "05pH9aU0k6lo",
        "outputId": "5a451d64-3dad-4d35-b50e-ab803fabcbcd"
      },
      "outputs": [
        {
          "name": "stderr",
          "output_type": "stream",
          "text": [
            "D:\\Anaconda3\\lib\\site-packages\\sklearn\\ensemble\\forest.py:245: FutureWarning: The default value of n_estimators will change from 10 in version 0.20 to 100 in 0.22.\n",
            "  \"10 in version 0.20 to 100 in 0.22.\", FutureWarning)\n"
          ]
        },
        {
          "name": "stdout",
          "output_type": "stream",
          "text": [
            "Accuracy of Random Forest classifier on training set: 1.00\n",
            "Accuracy of Random Forest classifier on test set: 0.99\n",
            "              precision    recall  f1-score   support\n",
            "\n",
            "           0       0.99      1.00      1.00       569\n",
            "           1       0.00      0.00      0.00         4\n",
            "\n",
            "    accuracy                           0.99       573\n",
            "   macro avg       0.50      0.50      0.50       573\n",
            "weighted avg       0.99      0.99      0.99       573\n",
            "\n",
            "[[569   0]\n",
            " [  4   0]]\n"
          ]
        },
        {
          "name": "stderr",
          "output_type": "stream",
          "text": [
            "D:\\Anaconda3\\lib\\site-packages\\sklearn\\metrics\\classification.py:1437: UndefinedMetricWarning: Precision and F-score are ill-defined and being set to 0.0 in labels with no predicted samples.\n",
            "  'precision', 'predicted', average, warn_for)\n",
            "D:\\Anaconda3\\lib\\site-packages\\sklearn\\metrics\\classification.py:1437: UndefinedMetricWarning: Precision and F-score are ill-defined and being set to 0.0 in labels with no predicted samples.\n",
            "  'precision', 'predicted', average, warn_for)\n",
            "D:\\Anaconda3\\lib\\site-packages\\sklearn\\metrics\\classification.py:1437: UndefinedMetricWarning: Precision and F-score are ill-defined and being set to 0.0 in labels with no predicted samples.\n",
            "  'precision', 'predicted', average, warn_for)\n"
          ]
        },
        {
          "name": "stdout",
          "output_type": "stream",
          "text": [
            "[0.99124726 0.99452355 0.91456736 0.99342105 0.83552632]\n"
          ]
        }
      ],
      "source": [
        "clf3 = RandomForestClassifier().fit(X_train_rsm, y_train_rsm)\n",
        "y_pred = clf3.predict(X_test)\n",
        "print('Accuracy of Random Forest classifier on training set: {:.2f}'.format(clf3.score(X_train_rsm, y_train_rsm)))\n",
        "print('Accuracy of Random Forest classifier on test set: {:.2f}'.format(clf3.score(X_test, y_test)))\n",
        "print(classification_report(y_test, y_pred))\n",
        "print(confusion_matrix(y_test, y_pred))\n",
        "print(cross_val_score(clf3, X_train_rsm, y_train_rsm, cv=5))"
      ]
    },
    {
      "cell_type": "markdown",
      "metadata": {
        "id": "kWq4ewtdk6lo"
      },
      "source": [
        "After applying oversampling techniques like SMOTE, Random Oversampling and ADASYN with Logistic Regression, SVM and Random Forest, we observe that ADASYN along with Logistic Regression, performs the best throughot tbe training and test sets with least overfitting and maximum accuracy."
      ]
    },
    {
      "cell_type": "code",
      "execution_count": null,
      "metadata": {
        "id": "huRCInAjk6lo"
      },
      "outputs": [],
      "source": [
        ""
      ]
    }
  ],
  "metadata": {
    "kernelspec": {
      "display_name": "Python 3",
      "language": "python",
      "name": "python3"
    },
    "language_info": {
      "codemirror_mode": {
        "name": "ipython",
        "version": 3
      },
      "file_extension": ".py",
      "mimetype": "text/x-python",
      "name": "python",
      "nbconvert_exporter": "python",
      "pygments_lexer": "ipython3",
      "version": "3.7.0"
    },
    "colab": {
      "name": "Dataset1-Linux Driver Net.ipynb",
      "provenance": []
    }
  },
  "nbformat": 4,
  "nbformat_minor": 0
}