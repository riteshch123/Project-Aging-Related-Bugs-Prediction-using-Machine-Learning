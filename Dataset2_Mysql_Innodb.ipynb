{
  "cells": [
    {
      "cell_type": "markdown",
      "metadata": {
        "id": "r1Hr02pZkY5Q"
      },
      "source": [
        "# Software Age-Related Bugs Prediction using Python"
      ]
    },
    {
      "cell_type": "markdown",
      "metadata": {
        "id": "djdAEq32kY5S"
      },
      "source": [
        "## Pre-Sampling Approach"
      ]
    },
    {
      "cell_type": "markdown",
      "metadata": {
        "id": "3THbMvorkY5T"
      },
      "source": [
        "In this paper, we will make a model that will predict the Age-Related Bugs (ARB) using python. In ABR, usually the classes are imbalanced in nature. The classes (defective and non-defective) are biased towards non-defective class. First, we will do the prediction and check the metrics without over-sampling approach."
      ]
    },
    {
      "cell_type": "markdown",
      "metadata": {
        "id": "N_ch7-QZkY5T"
      },
      "source": [
        "### Importing relevant libraries"
      ]
    },
    {
      "cell_type": "code",
      "execution_count": null,
      "metadata": {
        "id": "HQQMpVCYkY5U"
      },
      "outputs": [],
      "source": [
        "import numpy as np\n",
        "import pandas as pd\n",
        "import matplotlib.pyplot as plt\n",
        "import seaborn as sns\n",
        "import sklearn as sk\n",
        "from sklearn.metrics import roc_auc_score \n",
        "import copy"
      ]
    },
    {
      "cell_type": "markdown",
      "metadata": {
        "id": "GTUvND-ekY5V"
      },
      "source": [
        "### Importing Data"
      ]
    },
    {
      "cell_type": "code",
      "execution_count": null,
      "metadata": {
        "id": "jThm-KCbkY5V",
        "outputId": "1025e4cf-5cbb-4ad3-a96d-f6868bd21186"
      },
      "outputs": [
        {
          "data": {
            "text/html": [
              "<div>\n",
              "<style scoped>\n",
              "    .dataframe tbody tr th:only-of-type {\n",
              "        vertical-align: middle;\n",
              "    }\n",
              "\n",
              "    .dataframe tbody tr th {\n",
              "        vertical-align: top;\n",
              "    }\n",
              "\n",
              "    .dataframe thead th {\n",
              "        text-align: right;\n",
              "    }\n",
              "</style>\n",
              "<table border=\"1\" class=\"dataframe\">\n",
              "  <thead>\n",
              "    <tr style=\"text-align: right;\">\n",
              "      <th></th>\n",
              "      <th>id</th>\n",
              "      <th>Filename</th>\n",
              "      <th>AltAvgLineBlank</th>\n",
              "      <th>AltAvgLineCode</th>\n",
              "      <th>AltAvgLineComment</th>\n",
              "      <th>AltCountLineBlank</th>\n",
              "      <th>AltCountLineCode</th>\n",
              "      <th>AltCountLineComment</th>\n",
              "      <th>AvgCyclomatic</th>\n",
              "      <th>AvgCyclomaticModified</th>\n",
              "      <th>...</th>\n",
              "      <th>Vol</th>\n",
              "      <th>Dif</th>\n",
              "      <th>Eff</th>\n",
              "      <th>AllocOps</th>\n",
              "      <th>DeallocOps</th>\n",
              "      <th>DerefUse</th>\n",
              "      <th>UniqueDerefUse</th>\n",
              "      <th>DerefSet</th>\n",
              "      <th>UniqueDerefSet</th>\n",
              "      <th>AgingRelatedBugs</th>\n",
              "    </tr>\n",
              "  </thead>\n",
              "  <tbody>\n",
              "    <tr>\n",
              "      <th>0</th>\n",
              "      <td>1</td>\n",
              "      <td>storage/innobase/btr/btr0btr.c</td>\n",
              "      <td>11.00</td>\n",
              "      <td>40.00</td>\n",
              "      <td>10.00</td>\n",
              "      <td>606.14</td>\n",
              "      <td>1932.29</td>\n",
              "      <td>722.14</td>\n",
              "      <td>8.0</td>\n",
              "      <td>8.0</td>\n",
              "      <td>...</td>\n",
              "      <td>48798.00</td>\n",
              "      <td>612.14</td>\n",
              "      <td>1294678.57</td>\n",
              "      <td>0.0</td>\n",
              "      <td>0.0</td>\n",
              "      <td>75.00</td>\n",
              "      <td>29.00</td>\n",
              "      <td>9.00</td>\n",
              "      <td>6.00</td>\n",
              "      <td>0</td>\n",
              "    </tr>\n",
              "    <tr>\n",
              "      <th>1</th>\n",
              "      <td>2</td>\n",
              "      <td>storage/innobase/btr/btr0cur.c</td>\n",
              "      <td>15.93</td>\n",
              "      <td>53.93</td>\n",
              "      <td>14.21</td>\n",
              "      <td>774.07</td>\n",
              "      <td>2429.75</td>\n",
              "      <td>888.00</td>\n",
              "      <td>11.0</td>\n",
              "      <td>11.0</td>\n",
              "      <td>...</td>\n",
              "      <td>67150.50</td>\n",
              "      <td>882.86</td>\n",
              "      <td>2031388.79</td>\n",
              "      <td>0.0</td>\n",
              "      <td>0.0</td>\n",
              "      <td>173.50</td>\n",
              "      <td>76.21</td>\n",
              "      <td>49.00</td>\n",
              "      <td>27.93</td>\n",
              "      <td>0</td>\n",
              "    </tr>\n",
              "    <tr>\n",
              "      <th>2</th>\n",
              "      <td>3</td>\n",
              "      <td>storage/innobase/btr/btr0pcur.c</td>\n",
              "      <td>11.00</td>\n",
              "      <td>32.00</td>\n",
              "      <td>7.00</td>\n",
              "      <td>134.00</td>\n",
              "      <td>324.57</td>\n",
              "      <td>133.00</td>\n",
              "      <td>10.0</td>\n",
              "      <td>10.0</td>\n",
              "      <td>...</td>\n",
              "      <td>8726.50</td>\n",
              "      <td>122.00</td>\n",
              "      <td>146078.00</td>\n",
              "      <td>0.0</td>\n",
              "      <td>0.0</td>\n",
              "      <td>57.00</td>\n",
              "      <td>14.00</td>\n",
              "      <td>34.00</td>\n",
              "      <td>9.00</td>\n",
              "      <td>0</td>\n",
              "    </tr>\n",
              "    <tr>\n",
              "      <th>3</th>\n",
              "      <td>4</td>\n",
              "      <td>storage/innobase/btr/btr0sea.c</td>\n",
              "      <td>20.00</td>\n",
              "      <td>60.07</td>\n",
              "      <td>11.89</td>\n",
              "      <td>398.61</td>\n",
              "      <td>1113.82</td>\n",
              "      <td>317.04</td>\n",
              "      <td>13.0</td>\n",
              "      <td>13.0</td>\n",
              "      <td>...</td>\n",
              "      <td>32102.00</td>\n",
              "      <td>451.79</td>\n",
              "      <td>1123430.00</td>\n",
              "      <td>0.0</td>\n",
              "      <td>0.0</td>\n",
              "      <td>280.61</td>\n",
              "      <td>76.82</td>\n",
              "      <td>76.96</td>\n",
              "      <td>22.00</td>\n",
              "      <td>0</td>\n",
              "    </tr>\n",
              "    <tr>\n",
              "      <th>4</th>\n",
              "      <td>5</td>\n",
              "      <td>storage/innobase/buf/buf0buf.c</td>\n",
              "      <td>12.00</td>\n",
              "      <td>37.64</td>\n",
              "      <td>8.00</td>\n",
              "      <td>539.46</td>\n",
              "      <td>1516.89</td>\n",
              "      <td>628.18</td>\n",
              "      <td>6.0</td>\n",
              "      <td>6.0</td>\n",
              "      <td>...</td>\n",
              "      <td>33375.18</td>\n",
              "      <td>436.96</td>\n",
              "      <td>805282.68</td>\n",
              "      <td>0.0</td>\n",
              "      <td>9.0</td>\n",
              "      <td>257.46</td>\n",
              "      <td>57.00</td>\n",
              "      <td>136.00</td>\n",
              "      <td>33.00</td>\n",
              "      <td>0</td>\n",
              "    </tr>\n",
              "  </tbody>\n",
              "</table>\n",
              "<p>5 rows × 85 columns</p>\n",
              "</div>"
            ],
            "text/plain": [
              "   id                         Filename  AltAvgLineBlank  AltAvgLineCode  \\\n",
              "0   1   storage/innobase/btr/btr0btr.c            11.00           40.00   \n",
              "1   2   storage/innobase/btr/btr0cur.c            15.93           53.93   \n",
              "2   3  storage/innobase/btr/btr0pcur.c            11.00           32.00   \n",
              "3   4   storage/innobase/btr/btr0sea.c            20.00           60.07   \n",
              "4   5   storage/innobase/buf/buf0buf.c            12.00           37.64   \n",
              "\n",
              "   AltAvgLineComment  AltCountLineBlank  AltCountLineCode  \\\n",
              "0              10.00             606.14           1932.29   \n",
              "1              14.21             774.07           2429.75   \n",
              "2               7.00             134.00            324.57   \n",
              "3              11.89             398.61           1113.82   \n",
              "4               8.00             539.46           1516.89   \n",
              "\n",
              "   AltCountLineComment  AvgCyclomatic  AvgCyclomaticModified  \\\n",
              "0               722.14            8.0                    8.0   \n",
              "1               888.00           11.0                   11.0   \n",
              "2               133.00           10.0                   10.0   \n",
              "3               317.04           13.0                   13.0   \n",
              "4               628.18            6.0                    6.0   \n",
              "\n",
              "         ...              Vol     Dif         Eff  AllocOps  DeallocOps  \\\n",
              "0        ...         48798.00  612.14  1294678.57       0.0         0.0   \n",
              "1        ...         67150.50  882.86  2031388.79       0.0         0.0   \n",
              "2        ...          8726.50  122.00   146078.00       0.0         0.0   \n",
              "3        ...         32102.00  451.79  1123430.00       0.0         0.0   \n",
              "4        ...         33375.18  436.96   805282.68       0.0         9.0   \n",
              "\n",
              "   DerefUse  UniqueDerefUse  DerefSet  UniqueDerefSet  AgingRelatedBugs  \n",
              "0     75.00           29.00      9.00            6.00                 0  \n",
              "1    173.50           76.21     49.00           27.93                 0  \n",
              "2     57.00           14.00     34.00            9.00                 0  \n",
              "3    280.61           76.82     76.96           22.00                 0  \n",
              "4    257.46           57.00    136.00           33.00                 0  \n",
              "\n",
              "[5 rows x 85 columns]"
            ]
          },
          "execution_count": 2,
          "metadata": {},
          "output_type": "execute_result"
        }
      ],
      "source": [
        "ds1 = pd.read_csv('dataset_mysql_innodb.csv')\n",
        "ds1.head()"
      ]
    },
    {
      "cell_type": "markdown",
      "metadata": {
        "id": "W4GX2hrskY5X"
      },
      "source": [
        "### Checking for Missing Values"
      ]
    },
    {
      "cell_type": "code",
      "execution_count": null,
      "metadata": {
        "id": "d2xHrfyJkY5X",
        "outputId": "c7feb5fb-e24b-4763-dd5c-099e992746c5"
      },
      "outputs": [
        {
          "data": {
            "text/plain": [
              "id                                    0\n",
              "Filename                              0\n",
              "AltAvgLineBlank                       0\n",
              "AltAvgLineCode                        0\n",
              "AltAvgLineComment                     0\n",
              "AltCountLineBlank                     0\n",
              "AltCountLineCode                      0\n",
              "AltCountLineComment                   0\n",
              "AvgCyclomatic                         0\n",
              "AvgCyclomaticModified                 0\n",
              "AvgCyclomaticStrict                   0\n",
              "AvgEssential                          0\n",
              "AvgLine                               0\n",
              "AvgLineBlank                          0\n",
              "AvgLineCode                           0\n",
              "AvgLineComment                        0\n",
              "CountClassBase                        0\n",
              "CountClassCoupled                     0\n",
              "CountClassDerived                     0\n",
              "CountDeclClass                        0\n",
              "CountDeclClassMethod                  0\n",
              "CountDeclClassVariable                0\n",
              "CountDeclFunction                     0\n",
              "CountDeclInstanceMethod               0\n",
              "CountDeclInstanceVariable             0\n",
              "CountDeclInstanceVariablePrivate      0\n",
              "CountDeclInstanceVariableProtected    0\n",
              "CountDeclInstanceVariablePublic       0\n",
              "CountDeclMethod                       0\n",
              "CountDeclMethodAll                    0\n",
              "                                     ..\n",
              "Knots                                 0\n",
              "MaxCyclomatic                         0\n",
              "MaxCyclomaticModified                 0\n",
              "MaxCyclomaticStrict                   0\n",
              "MaxEssentialKnots                     0\n",
              "MaxInheritanceTree                    0\n",
              "MaxNesting                            0\n",
              "MinEssentialKnots                     0\n",
              "PercentLackOfCohesion                 0\n",
              "RatioCommentToCode                    0\n",
              "SumCyclomatic                         0\n",
              "SumCyclomaticModified                 0\n",
              "SumCyclomaticStrict                   0\n",
              "SumEssential                          0\n",
              "n1                                    0\n",
              "n2                                    0\n",
              "N1                                    0\n",
              "N2                                    0\n",
              "Len                                   0\n",
              "Voc                                   0\n",
              "Vol                                   0\n",
              "Dif                                   0\n",
              "Eff                                   0\n",
              "AllocOps                              0\n",
              "DeallocOps                            0\n",
              "DerefUse                              0\n",
              "UniqueDerefUse                        0\n",
              "DerefSet                              0\n",
              "UniqueDerefSet                        0\n",
              "AgingRelatedBugs                      0\n",
              "Length: 85, dtype: int64"
            ]
          },
          "execution_count": 3,
          "metadata": {},
          "output_type": "execute_result"
        }
      ],
      "source": [
        "ds1.isnull().sum()"
      ]
    },
    {
      "cell_type": "markdown",
      "metadata": {
        "id": "MLL7BlFbkY5Y"
      },
      "source": [
        "### Checking Data types"
      ]
    },
    {
      "cell_type": "code",
      "execution_count": null,
      "metadata": {
        "id": "_eCTsvolkY5Z"
      },
      "outputs": [],
      "source": [
        "ds1['AgingRelatedBugs'] = ds1['AgingRelatedBugs'].astype(str)"
      ]
    },
    {
      "cell_type": "code",
      "execution_count": null,
      "metadata": {
        "id": "jBMIRnywkY5Z",
        "outputId": "8527716c-f042-4a04-ee6d-c84a6aebeb95"
      },
      "outputs": [
        {
          "data": {
            "text/plain": [
              "id                                      int64\n",
              "Filename                               object\n",
              "AltAvgLineBlank                       float64\n",
              "AltAvgLineCode                        float64\n",
              "AltAvgLineComment                     float64\n",
              "AltCountLineBlank                     float64\n",
              "AltCountLineCode                      float64\n",
              "AltCountLineComment                   float64\n",
              "AvgCyclomatic                         float64\n",
              "AvgCyclomaticModified                 float64\n",
              "AvgCyclomaticStrict                   float64\n",
              "AvgEssential                          float64\n",
              "AvgLine                               float64\n",
              "AvgLineBlank                          float64\n",
              "AvgLineCode                           float64\n",
              "AvgLineComment                        float64\n",
              "CountClassBase                        float64\n",
              "CountClassCoupled                     float64\n",
              "CountClassDerived                     float64\n",
              "CountDeclClass                        float64\n",
              "CountDeclClassMethod                  float64\n",
              "CountDeclClassVariable                float64\n",
              "CountDeclFunction                     float64\n",
              "CountDeclInstanceMethod               float64\n",
              "CountDeclInstanceVariable             float64\n",
              "CountDeclInstanceVariablePrivate      float64\n",
              "CountDeclInstanceVariableProtected    float64\n",
              "CountDeclInstanceVariablePublic       float64\n",
              "CountDeclMethod                       float64\n",
              "CountDeclMethodAll                    float64\n",
              "                                       ...   \n",
              "Knots                                 float64\n",
              "MaxCyclomatic                         float64\n",
              "MaxCyclomaticModified                 float64\n",
              "MaxCyclomaticStrict                   float64\n",
              "MaxEssentialKnots                     float64\n",
              "MaxInheritanceTree                    float64\n",
              "MaxNesting                            float64\n",
              "MinEssentialKnots                     float64\n",
              "PercentLackOfCohesion                 float64\n",
              "RatioCommentToCode                    float64\n",
              "SumCyclomatic                         float64\n",
              "SumCyclomaticModified                 float64\n",
              "SumCyclomaticStrict                   float64\n",
              "SumEssential                          float64\n",
              "n1                                    float64\n",
              "n2                                    float64\n",
              "N1                                    float64\n",
              "N2                                    float64\n",
              "Len                                   float64\n",
              "Voc                                   float64\n",
              "Vol                                   float64\n",
              "Dif                                   float64\n",
              "Eff                                   float64\n",
              "AllocOps                              float64\n",
              "DeallocOps                            float64\n",
              "DerefUse                              float64\n",
              "UniqueDerefUse                        float64\n",
              "DerefSet                              float64\n",
              "UniqueDerefSet                        float64\n",
              "AgingRelatedBugs                       object\n",
              "Length: 85, dtype: object"
            ]
          },
          "execution_count": 5,
          "metadata": {},
          "output_type": "execute_result"
        }
      ],
      "source": [
        "ds1.dtypes"
      ]
    },
    {
      "cell_type": "code",
      "execution_count": null,
      "metadata": {
        "id": "VZ4i0s-skY5Z",
        "outputId": "5149053c-c1f3-47ef-9a8c-f80a11f82cd1"
      },
      "outputs": [
        {
          "data": {
            "text/plain": [
              "Index(['id', 'Filename', 'AltAvgLineBlank', 'AltAvgLineCode',\n",
              "       'AltAvgLineComment', 'AltCountLineBlank', 'AltCountLineCode',\n",
              "       'AltCountLineComment', 'AvgCyclomatic', 'AvgCyclomaticModified',\n",
              "       'AvgCyclomaticStrict', 'AvgEssential', 'AvgLine', 'AvgLineBlank',\n",
              "       'AvgLineCode', 'AvgLineComment', 'CountClassBase', 'CountClassCoupled',\n",
              "       'CountClassDerived', 'CountDeclClass', 'CountDeclClassMethod',\n",
              "       'CountDeclClassVariable', 'CountDeclFunction',\n",
              "       'CountDeclInstanceMethod', 'CountDeclInstanceVariable',\n",
              "       'CountDeclInstanceVariablePrivate',\n",
              "       'CountDeclInstanceVariableProtected', 'CountDeclInstanceVariablePublic',\n",
              "       'CountDeclMethod', 'CountDeclMethodAll', 'CountDeclMethodConst',\n",
              "       'CountDeclMethodFriend', 'CountDeclMethodPrivate',\n",
              "       'CountDeclMethodProtected', 'CountDeclMethodPublic', 'CountInput',\n",
              "       'CountLine', 'CountLineBlank', 'CountLineCode', 'CountLineCodeDecl',\n",
              "       'CountLineCodeExe', 'CountLineComment', 'CountLineInactive',\n",
              "       'CountLinePreprocessor', 'CountOutput', 'CountPath', 'CountSemicolon',\n",
              "       'CountStmt', 'CountStmtDecl', 'CountStmtEmpty', 'CountStmtExe',\n",
              "       'Cyclomatic', 'CyclomaticModified', 'CyclomaticStrict', 'Essential',\n",
              "       'Knots', 'MaxCyclomatic', 'MaxCyclomaticModified',\n",
              "       'MaxCyclomaticStrict', 'MaxEssentialKnots', 'MaxInheritanceTree',\n",
              "       'MaxNesting', 'MinEssentialKnots', 'PercentLackOfCohesion',\n",
              "       'RatioCommentToCode', 'SumCyclomatic', 'SumCyclomaticModified',\n",
              "       'SumCyclomaticStrict', 'SumEssential', 'n1', 'n2', 'N1', 'N2', 'Len',\n",
              "       'Voc', 'Vol', 'Dif', 'Eff', 'AllocOps', 'DeallocOps', 'DerefUse',\n",
              "       'UniqueDerefUse', 'DerefSet', 'UniqueDerefSet', 'AgingRelatedBugs'],\n",
              "      dtype='object')"
            ]
          },
          "execution_count": 6,
          "metadata": {},
          "output_type": "execute_result"
        }
      ],
      "source": [
        "ds1.columns"
      ]
    },
    {
      "cell_type": "markdown",
      "metadata": {
        "id": "Aq1vqOhrkY5a"
      },
      "source": [
        "### Creating feature and target variables and Label Encoding the target variable"
      ]
    },
    {
      "cell_type": "code",
      "execution_count": null,
      "metadata": {
        "id": "__-CdL_okY5a"
      },
      "outputs": [],
      "source": [
        "cols = ['id','AltAvgLineBlank', 'AltAvgLineCode', 'AltAvgLineComment',\n",
        "       'AltCountLineBlank', 'AltCountLineCode', 'AltCountLineComment',\n",
        "       'AvgCyclomatic', 'AvgCyclomaticModified', 'AvgCyclomaticStrict',\n",
        "       'AvgEssential', 'AvgLine', 'AvgLineBlank', 'AvgLineCode',\n",
        "       'AvgLineComment', 'CountClassBase', 'CountClassCoupled',\n",
        "       'CountClassDerived', 'CountDeclClass', 'CountDeclClassMethod',\n",
        "       'CountDeclClassVariable', 'CountDeclFunction',\n",
        "       'CountDeclInstanceMethod', 'CountDeclInstanceVariable',\n",
        "       'CountDeclInstanceVariablePrivate',\n",
        "       'CountDeclInstanceVariableProtected', 'CountDeclInstanceVariablePublic',\n",
        "       'CountDeclMethod', 'CountDeclMethodAll', 'CountDeclMethodConst',\n",
        "       'CountDeclMethodFriend', 'CountDeclMethodPrivate',\n",
        "       'CountDeclMethodProtected', 'CountDeclMethodPublic', 'CountInput',\n",
        "       'CountLine', 'CountLineBlank', 'CountLineCode', 'CountLineCodeDecl',\n",
        "       'CountLineCodeExe', 'CountLineComment', 'CountLineInactive',\n",
        "       'CountLinePreprocessor', 'CountOutput', 'CountPath', 'CountSemicolon',\n",
        "       'CountStmt', 'CountStmtDecl', 'CountStmtEmpty', 'CountStmtExe',\n",
        "       'Cyclomatic', 'CyclomaticModified', 'CyclomaticStrict', 'Essential',\n",
        "       'Knots', 'MaxCyclomatic', 'MaxCyclomaticModified',\n",
        "       'MaxCyclomaticStrict', 'MaxEssentialKnots', 'MaxInheritanceTree',\n",
        "       'MaxNesting', 'MinEssentialKnots', 'PercentLackOfCohesion',\n",
        "       'RatioCommentToCode', 'SumCyclomatic', 'SumCyclomaticModified',\n",
        "       'SumCyclomaticStrict', 'SumEssential', 'n1', 'n2', 'N1', 'N2', 'Len',\n",
        "       'Voc', 'Vol', 'Dif', 'Eff', 'AllocOps', 'DeallocOps', 'DerefUse',\n",
        "       'UniqueDerefUse', 'DerefSet', 'UniqueDerefSet']\n",
        "X = ds1[cols]\n",
        "y = ds1['AgingRelatedBugs']\n"
      ]
    },
    {
      "cell_type": "code",
      "execution_count": null,
      "metadata": {
        "id": "fhH4GYUikY5b",
        "outputId": "7cb1d456-bf85-4344-9406-142035d18b4d"
      },
      "outputs": [
        {
          "data": {
            "text/plain": [
              "array([0, 0, 0, 0, 0, 0, 0, 0, 0, 0, 0, 0, 1, 0, 0, 0, 0, 0, 0, 0, 0, 0,\n",
              "       0, 0, 1, 1, 0, 0, 0, 0, 0, 0, 0, 0, 0, 0, 0, 0, 0, 0, 0, 0, 0, 1,\n",
              "       0, 1, 0, 0, 0, 0, 0, 0, 0, 0, 0, 0, 0, 0, 0, 0, 0, 0, 0, 0, 0, 0,\n",
              "       0, 0, 0, 0, 0, 0, 0, 0, 0, 0, 0, 0, 0, 0, 0, 0, 0, 0, 0, 0, 0, 0,\n",
              "       0, 0, 0, 0, 0, 0, 0, 0, 1, 0, 0, 0, 0, 0, 0, 0, 0, 0, 0, 0, 0, 0,\n",
              "       0, 0, 0, 0, 0, 0, 0, 0, 0, 0, 0, 0, 0, 0, 0, 0, 0, 0, 0, 0, 0, 0,\n",
              "       0, 0, 0, 0, 0, 0, 0, 0, 0, 0, 0, 0, 0, 0, 0, 0, 0, 0, 0, 0, 0, 0,\n",
              "       0, 0, 0, 0, 1, 0, 0, 1, 0, 0, 0, 0, 0, 0, 0, 0, 0, 0, 0, 0, 0, 0,\n",
              "       0, 0, 0, 0, 0, 0, 0, 0, 0, 0, 0, 0, 0, 0, 0, 0, 0, 1, 0, 1, 0, 0,\n",
              "       0, 0, 0, 0, 0, 1, 0, 0, 0, 0, 0, 1, 0, 0, 0, 0, 0, 0, 0, 0, 0, 0,\n",
              "       0, 0, 0, 1, 0, 0, 0, 0, 0, 0, 0, 0, 0, 0, 0, 0, 0, 0, 0, 0, 0, 0,\n",
              "       0, 0, 0, 0, 0, 0, 0, 0, 0, 0, 0, 0, 0, 0, 0, 0, 0, 0, 0, 0, 0, 0,\n",
              "       0, 0, 0, 0, 0, 0, 0, 0, 0, 0, 0, 0, 0, 0, 0, 0, 0, 0, 0, 0, 0, 0,\n",
              "       0, 0, 0, 0, 0, 0, 0, 0, 0, 0, 0, 0, 0, 0, 0, 0, 0, 0, 0, 0, 0, 0,\n",
              "       0, 0, 0, 0, 0, 0, 0, 0, 0, 0, 0, 0, 0, 0, 0, 0, 0, 0, 0, 0, 0, 0,\n",
              "       0, 0, 0, 0, 0, 0, 0, 0, 0, 0, 1, 1, 1, 0, 1, 1, 0, 0, 0, 1, 0, 1,\n",
              "       0, 0, 0, 0, 1, 0, 0, 0, 0, 0, 0, 0, 0, 0, 0, 0, 1, 0, 0, 0, 0, 0,\n",
              "       0, 0, 0, 0, 1, 1, 1, 0, 1, 1, 1, 1, 0, 0, 1, 1, 0, 0, 0, 0, 0, 0,\n",
              "       1, 0, 0, 0, 0, 0])"
            ]
          },
          "execution_count": 8,
          "metadata": {},
          "output_type": "execute_result"
        }
      ],
      "source": [
        "from sklearn.preprocessing import LabelEncoder\n",
        "enc = LabelEncoder()\n",
        "y = enc.fit_transform(y)\n",
        "y"
      ]
    },
    {
      "cell_type": "code",
      "execution_count": null,
      "metadata": {
        "id": "_0yZcS6pkY5b"
      },
      "outputs": [],
      "source": [
        ""
      ]
    },
    {
      "cell_type": "markdown",
      "metadata": {
        "id": "fOvWvubIkY5b"
      },
      "source": [
        "### Splitting data into training and test sets"
      ]
    },
    {
      "cell_type": "code",
      "execution_count": null,
      "metadata": {
        "id": "LKXpTuEokY5b"
      },
      "outputs": [],
      "source": [
        "from sklearn.model_selection import train_test_split\n",
        "X_train, X_test, y_train, y_test = train_test_split(X,y,random_state=0)"
      ]
    },
    {
      "cell_type": "markdown",
      "metadata": {
        "id": "Z5yBa9ubkY5c"
      },
      "source": [
        "### Logistic Regression Model"
      ]
    },
    {
      "cell_type": "code",
      "execution_count": null,
      "metadata": {
        "id": "wanQqWn7kY5c",
        "outputId": "aa9475d5-c8ec-47a3-febc-49474ccec040"
      },
      "outputs": [
        {
          "name": "stderr",
          "output_type": "stream",
          "text": [
            "D:\\Anaconda3\\lib\\site-packages\\sklearn\\linear_model\\logistic.py:432: FutureWarning: Default solver will be changed to 'lbfgs' in 0.22. Specify a solver to silence this warning.\n",
            "  FutureWarning)\n",
            "D:\\Anaconda3\\lib\\site-packages\\sklearn\\svm\\base.py:929: ConvergenceWarning: Liblinear failed to converge, increase the number of iterations.\n",
            "  \"the number of iterations.\", ConvergenceWarning)\n"
          ]
        },
        {
          "data": {
            "text/plain": [
              "LogisticRegression(C=1.0, class_weight=None, dual=False, fit_intercept=True,\n",
              "                   intercept_scaling=1, l1_ratio=None, max_iter=100,\n",
              "                   multi_class='warn', n_jobs=None, penalty='l2',\n",
              "                   random_state=None, solver='warn', tol=0.0001, verbose=0,\n",
              "                   warm_start=False)"
            ]
          },
          "execution_count": 10,
          "metadata": {},
          "output_type": "execute_result"
        }
      ],
      "source": [
        "# Fitting the model\n",
        "\n",
        "from sklearn.linear_model import LogisticRegression\n",
        "from sklearn import metrics\n",
        "logreg = LogisticRegression()\n",
        "logreg.fit(X_train, y_train)"
      ]
    },
    {
      "cell_type": "code",
      "execution_count": null,
      "metadata": {
        "id": "Ru4JrGqEkY5c",
        "outputId": "abf1ee4e-4932-49e8-8a98-9a41b81a46e9"
      },
      "outputs": [
        {
          "name": "stdout",
          "output_type": "stream",
          "text": [
            "Accuracy of Logistic Regression train set: 0.96\n",
            "Accuracy of Logistic Regression test set: 0.86\n"
          ]
        }
      ],
      "source": [
        "# Computing Accuracy\n",
        "y_pred1 = logreg.predict(X_test)\n",
        "print('Accuracy of Logistic Regression train set: {:.2f}'.format(logreg.score(X_train, y_train)))\n",
        "print('Accuracy of Logistic Regression test set: {:.2f}'.format(logreg.score(X_test, y_test)))"
      ]
    },
    {
      "cell_type": "code",
      "execution_count": null,
      "metadata": {
        "id": "T1xl7ymZkY5c",
        "outputId": "ca4572d8-3de5-49d1-852f-eda3b709a437"
      },
      "outputs": [
        {
          "name": "stdout",
          "output_type": "stream",
          "text": [
            "              precision    recall  f1-score   support\n",
            "\n",
            "           0       0.93      0.91      0.92        93\n",
            "           1       0.20      0.25      0.22         8\n",
            "\n",
            "    accuracy                           0.86       101\n",
            "   macro avg       0.57      0.58      0.57       101\n",
            "weighted avg       0.88      0.86      0.87       101\n",
            "\n",
            "[[85  8]\n",
            " [ 6  2]]\n"
          ]
        }
      ],
      "source": [
        "# Computing Performance Metrics and drawing Confusion Matrix\n",
        ">>> from sklearn.metrics import classification_report\n",
        ">>> print(classification_report(y_test, y_pred1))\n",
        ">>> from sklearn.metrics import confusion_matrix\n",
        ">>> print(confusion_matrix(y_test, y_pred1))"
      ]
    },
    {
      "cell_type": "code",
      "execution_count": null,
      "metadata": {
        "id": "rmcN27s-kY5d",
        "outputId": "66ed306e-3ea4-45f2-a44d-cd83b18f286f"
      },
      "outputs": [
        {
          "name": "stdout",
          "output_type": "stream",
          "text": [
            "[0.85714286 0.66666667 0.85714286 0.89473684 0.94736842]\n"
          ]
        },
        {
          "name": "stderr",
          "output_type": "stream",
          "text": [
            "D:\\Anaconda3\\lib\\site-packages\\sklearn\\linear_model\\logistic.py:432: FutureWarning: Default solver will be changed to 'lbfgs' in 0.22. Specify a solver to silence this warning.\n",
            "  FutureWarning)\n",
            "D:\\Anaconda3\\lib\\site-packages\\sklearn\\linear_model\\logistic.py:432: FutureWarning: Default solver will be changed to 'lbfgs' in 0.22. Specify a solver to silence this warning.\n",
            "  FutureWarning)\n",
            "D:\\Anaconda3\\lib\\site-packages\\sklearn\\linear_model\\logistic.py:432: FutureWarning: Default solver will be changed to 'lbfgs' in 0.22. Specify a solver to silence this warning.\n",
            "  FutureWarning)\n",
            "D:\\Anaconda3\\lib\\site-packages\\sklearn\\linear_model\\logistic.py:432: FutureWarning: Default solver will be changed to 'lbfgs' in 0.22. Specify a solver to silence this warning.\n",
            "  FutureWarning)\n",
            "D:\\Anaconda3\\lib\\site-packages\\sklearn\\linear_model\\logistic.py:432: FutureWarning: Default solver will be changed to 'lbfgs' in 0.22. Specify a solver to silence this warning.\n",
            "  FutureWarning)\n"
          ]
        }
      ],
      "source": [
        "# Applying 5-fold Cross Validation\n",
        "from sklearn.model_selection import cross_val_score\n",
        "print(cross_val_score(logreg, X_test, y_test, cv=5))"
      ]
    },
    {
      "cell_type": "code",
      "execution_count": null,
      "metadata": {
        "id": "rQ3-vy7AkY5d",
        "outputId": "0f5f06f6-20d3-48be-cc44-817a4ee5ea34"
      },
      "outputs": [
        {
          "data": {
            "text/plain": [
              "0.5819892473118279"
            ]
          },
          "execution_count": 14,
          "metadata": {},
          "output_type": "execute_result"
        }
      ],
      "source": [
        "roc_auc_score(y_test,y_pred1)"
      ]
    },
    {
      "cell_type": "markdown",
      "metadata": {
        "id": "vAjCf2onkY5d"
      },
      "source": [
        "### Support Vector Classifier (RBF Kernel)"
      ]
    },
    {
      "cell_type": "code",
      "execution_count": null,
      "metadata": {
        "id": "6ZDZ3T_xkY5d",
        "outputId": "4c90ebe6-6c42-4338-9bfa-53370b28b19f"
      },
      "outputs": [
        {
          "name": "stderr",
          "output_type": "stream",
          "text": [
            "D:\\Anaconda3\\lib\\site-packages\\sklearn\\svm\\base.py:193: FutureWarning: The default value of gamma will change from 'auto' to 'scale' in version 0.22 to account better for unscaled features. Set gamma explicitly to 'auto' or 'scale' to avoid this warning.\n",
            "  \"avoid this warning.\", FutureWarning)\n"
          ]
        },
        {
          "data": {
            "text/plain": [
              "SVC(C=1.0, cache_size=200, class_weight=None, coef0=0.0,\n",
              "    decision_function_shape='ovr', degree=3, gamma='auto_deprecated',\n",
              "    kernel='rbf', max_iter=-1, probability=False, random_state=None,\n",
              "    shrinking=True, tol=0.001, verbose=False)"
            ]
          },
          "execution_count": 15,
          "metadata": {},
          "output_type": "execute_result"
        }
      ],
      "source": [
        "from sklearn.svm import SVC\n",
        "svc = SVC(kernel = 'rbf')\n",
        "svc.fit(X_train, y_train)"
      ]
    },
    {
      "cell_type": "code",
      "execution_count": null,
      "metadata": {
        "id": "3wVvovcekY5d",
        "outputId": "1e8d1c28-1794-4bfc-d993-bbc45f1aad38"
      },
      "outputs": [
        {
          "name": "stdout",
          "output_type": "stream",
          "text": [
            "Accuracy of SVM train set : 1.00\n",
            "Accuracy of SVM test set : 0.92\n",
            "              precision    recall  f1-score   support\n",
            "\n",
            "           0       0.92      1.00      0.96        93\n",
            "           1       0.00      0.00      0.00         8\n",
            "\n",
            "    accuracy                           0.92       101\n",
            "   macro avg       0.46      0.50      0.48       101\n",
            "weighted avg       0.85      0.92      0.88       101\n",
            "\n",
            "[[93  0]\n",
            " [ 8  0]]\n",
            "[0.91803279 0.91803279 0.91666667 0.91666667 0.93220339]\n"
          ]
        },
        {
          "name": "stderr",
          "output_type": "stream",
          "text": [
            "D:\\Anaconda3\\lib\\site-packages\\sklearn\\metrics\\classification.py:1437: UndefinedMetricWarning: Precision and F-score are ill-defined and being set to 0.0 in labels with no predicted samples.\n",
            "  'precision', 'predicted', average, warn_for)\n",
            "D:\\Anaconda3\\lib\\site-packages\\sklearn\\metrics\\classification.py:1437: UndefinedMetricWarning: Precision and F-score are ill-defined and being set to 0.0 in labels with no predicted samples.\n",
            "  'precision', 'predicted', average, warn_for)\n",
            "D:\\Anaconda3\\lib\\site-packages\\sklearn\\metrics\\classification.py:1437: UndefinedMetricWarning: Precision and F-score are ill-defined and being set to 0.0 in labels with no predicted samples.\n",
            "  'precision', 'predicted', average, warn_for)\n",
            "D:\\Anaconda3\\lib\\site-packages\\sklearn\\svm\\base.py:193: FutureWarning: The default value of gamma will change from 'auto' to 'scale' in version 0.22 to account better for unscaled features. Set gamma explicitly to 'auto' or 'scale' to avoid this warning.\n",
            "  \"avoid this warning.\", FutureWarning)\n",
            "D:\\Anaconda3\\lib\\site-packages\\sklearn\\svm\\base.py:193: FutureWarning: The default value of gamma will change from 'auto' to 'scale' in version 0.22 to account better for unscaled features. Set gamma explicitly to 'auto' or 'scale' to avoid this warning.\n",
            "  \"avoid this warning.\", FutureWarning)\n",
            "D:\\Anaconda3\\lib\\site-packages\\sklearn\\svm\\base.py:193: FutureWarning: The default value of gamma will change from 'auto' to 'scale' in version 0.22 to account better for unscaled features. Set gamma explicitly to 'auto' or 'scale' to avoid this warning.\n",
            "  \"avoid this warning.\", FutureWarning)\n",
            "D:\\Anaconda3\\lib\\site-packages\\sklearn\\svm\\base.py:193: FutureWarning: The default value of gamma will change from 'auto' to 'scale' in version 0.22 to account better for unscaled features. Set gamma explicitly to 'auto' or 'scale' to avoid this warning.\n",
            "  \"avoid this warning.\", FutureWarning)\n",
            "D:\\Anaconda3\\lib\\site-packages\\sklearn\\svm\\base.py:193: FutureWarning: The default value of gamma will change from 'auto' to 'scale' in version 0.22 to account better for unscaled features. Set gamma explicitly to 'auto' or 'scale' to avoid this warning.\n",
            "  \"avoid this warning.\", FutureWarning)\n"
          ]
        }
      ],
      "source": [
        "y_pred2 = svc.predict(X_test)\n",
        "print('Accuracy of SVM train set : {:.2f}'.format(svc.score(X_train, y_train)))\n",
        "print('Accuracy of SVM test set : {:.2f}'.format(svc.score(X_test, y_test)))\n",
        "print(classification_report(y_test, y_pred2))\n",
        "print(confusion_matrix(y_test, y_pred2))\n",
        "print(cross_val_score(svc, X_train, y_train, cv=5))"
      ]
    },
    {
      "cell_type": "code",
      "execution_count": null,
      "metadata": {
        "id": "YSElwPwBkY5e",
        "outputId": "1e686789-c2db-4dd1-cef9-e7b2c7ad4e5c"
      },
      "outputs": [
        {
          "data": {
            "text/plain": [
              "0.5"
            ]
          },
          "execution_count": 17,
          "metadata": {},
          "output_type": "execute_result"
        }
      ],
      "source": [
        "roc_auc_score(y_test,y_pred2)"
      ]
    },
    {
      "cell_type": "markdown",
      "metadata": {
        "id": "nugmGCU8kY5e"
      },
      "source": [
        "### Random Forest Classifier"
      ]
    },
    {
      "cell_type": "code",
      "execution_count": null,
      "metadata": {
        "id": "91WVem09kY5e",
        "outputId": "84f89c97-4dee-4bb3-f860-31842f10a4db"
      },
      "outputs": [
        {
          "name": "stderr",
          "output_type": "stream",
          "text": [
            "D:\\Anaconda3\\lib\\site-packages\\sklearn\\ensemble\\forest.py:245: FutureWarning: The default value of n_estimators will change from 10 in version 0.20 to 100 in 0.22.\n",
            "  \"10 in version 0.20 to 100 in 0.22.\", FutureWarning)\n"
          ]
        },
        {
          "name": "stdout",
          "output_type": "stream",
          "text": [
            "Accuracy of Random Forest classifier on training set: 0.99\n",
            "Accuracy of Random Forest classifier on test set: 0.86\n",
            "              precision    recall  f1-score   support\n",
            "\n",
            "           0       0.92      0.92      0.92        93\n",
            "           1       0.12      0.12      0.12         8\n",
            "\n",
            "    accuracy                           0.86       101\n",
            "   macro avg       0.52      0.52      0.52       101\n",
            "weighted avg       0.86      0.86      0.86       101\n",
            "\n",
            "[[86  7]\n",
            " [ 7  1]]\n",
            "[0.93442623 0.8852459  0.91666667 0.91666667 0.93220339]\n"
          ]
        }
      ],
      "source": [
        "from sklearn.ensemble import RandomForestClassifier\n",
        "\n",
        "clf = RandomForestClassifier().fit(X_train, y_train)\n",
        "y_pred3 = clf.predict(X_test)\n",
        "print('Accuracy of Random Forest classifier on training set: {:.2f}'\n",
        "     .format(clf.score(X_train, y_train)))\n",
        "print('Accuracy of Random Forest classifier on test set: {:.2f}'\n",
        "     .format(clf.score(X_test, y_test)))\n",
        "print(classification_report(y_test, y_pred3))\n",
        "print(confusion_matrix(y_test, y_pred3))\n",
        "print(cross_val_score(clf, X_train, y_train, cv=5))"
      ]
    },
    {
      "cell_type": "code",
      "execution_count": null,
      "metadata": {
        "id": "B47EdCjTkY5e",
        "outputId": "c9ddc287-d156-4885-aafd-1e2a335f42c9"
      },
      "outputs": [
        {
          "data": {
            "text/plain": [
              "0.5248655913978495"
            ]
          },
          "execution_count": 19,
          "metadata": {},
          "output_type": "execute_result"
        }
      ],
      "source": [
        "roc_auc_score(y_test,y_pred3)"
      ]
    },
    {
      "cell_type": "markdown",
      "metadata": {
        "id": "xKynGTVjkY5e"
      },
      "source": [
        "## Post-Sampling Approach"
      ]
    },
    {
      "cell_type": "markdown",
      "metadata": {
        "id": "JgSv4WGJkY5e"
      },
      "source": [
        "As we saw in the Pre-Sampling Approach, due to lack of defective instaces in the dataset, all models were leading to overfitting, especially in their respective training sets. Hence, we need to apply Oversampling techniques to balance the imabalanced datasets. A lot of general algorithms are available for that. We will use the SMOTE Algorithm wbich generates duplicate instances to bring the minority class at par with the majority class. After that, we will again compute the performance metrics for all the models discussed above and compare the results. "
      ]
    },
    {
      "cell_type": "markdown",
      "metadata": {
        "id": "xtiidJkLkY5e"
      },
      "source": [
        "## SMOTE"
      ]
    },
    {
      "cell_type": "markdown",
      "metadata": {
        "id": "go9_rqSSkY5e"
      },
      "source": [
        "### Balancing the Test Set Using SMOTE Algorithm"
      ]
    },
    {
      "cell_type": "code",
      "execution_count": null,
      "metadata": {
        "scrolled": true,
        "id": "myy_3YcBkY5f",
        "outputId": "cd383cb8-6e9e-4a4d-8a40-42b10acd50c0"
      },
      "outputs": [
        {
          "name": "stdout",
          "output_type": "stream",
          "text": [
            "Number transactions X_train dataset:  (301, 83)\n",
            "Number transactions y_train dataset:  (301,)\n",
            "Number transactions X_test dataset:  (101, 83)\n",
            "Number transactions y_test dataset:  (101,)\n"
          ]
        },
        {
          "name": "stderr",
          "output_type": "stream",
          "text": [
            "D:\\Anaconda3\\lib\\site-packages\\sklearn\\externals\\six.py:31: DeprecationWarning: The module is deprecated in version 0.21 and will be removed in version 0.23 since we've dropped support for Python 2.7. Please rely on the official version of six (https://pypi.org/project/six/).\n",
            "  \"(https://pypi.org/project/six/).\", DeprecationWarning)\n"
          ]
        }
      ],
      "source": [
        "from imblearn.over_sampling import SMOTE\n",
        "\n",
        "print(\"Number transactions X_train dataset: \", X_train.shape)\n",
        "print(\"Number transactions y_train dataset: \", y_train.shape)\n",
        "print(\"Number transactions X_test dataset: \", X_test.shape)\n",
        "print(\"Number transactions y_test dataset: \", y_test.shape)"
      ]
    },
    {
      "cell_type": "code",
      "execution_count": null,
      "metadata": {
        "id": "2QmGeCcvkY5f",
        "outputId": "e06ccdb1-2826-4164-af1a-39e662dc6f83"
      },
      "outputs": [
        {
          "name": "stdout",
          "output_type": "stream",
          "text": [
            "Before OverSampling, counts of label '1': 24\n",
            "Before OverSampling, counts of label '0': 277 \n",
            "\n"
          ]
        }
      ],
      "source": [
        "print(\"Before OverSampling, counts of label '1': {}\".format(sum(y_train==1)))\n",
        "print(\"Before OverSampling, counts of label '0': {} \\n\".format(sum(y_train==0)))"
      ]
    },
    {
      "cell_type": "code",
      "execution_count": null,
      "metadata": {
        "id": "fpfVIkpikY5f",
        "outputId": "0224d91c-1aaf-4e00-b0d8-ade24063ba1b"
      },
      "outputs": [
        {
          "name": "stdout",
          "output_type": "stream",
          "text": [
            "After OverSampling, the shape of X: (740, 83)\n",
            "After OverSampling, the shape of y: (740,) \n",
            "\n",
            "After OverSampling, counts of label '1': 370\n",
            "After OverSampling, counts of label '0': 370\n"
          ]
        }
      ],
      "source": [
        "smt = SMOTE()\n",
        "X_train_res, y_train_res = smt.fit_sample(X, y)\n",
        "\n",
        "print('After OverSampling, the shape of X: {}'.format(X_train_res.shape))\n",
        "print('After OverSampling, the shape of y: {} \\n'.format(y_train_res.shape))\n",
        "\n",
        "print(\"After OverSampling, counts of label '1': {}\".format(sum(y_train_res==1)))\n",
        "print(\"After OverSampling, counts of label '0': {}\".format(sum(y_train_res==0)))\n"
      ]
    },
    {
      "cell_type": "markdown",
      "metadata": {
        "id": "jJlhLYE2kY5f"
      },
      "source": [
        "### logistic Regression with SMOTE"
      ]
    },
    {
      "cell_type": "code",
      "execution_count": null,
      "metadata": {
        "id": "2hW3HkgFkY5f",
        "outputId": "4dd13493-fccd-4b14-fa10-e041fbb57bf1"
      },
      "outputs": [
        {
          "name": "stdout",
          "output_type": "stream",
          "text": [
            "Accuracy of Logistic Regression train set: 0.81\n",
            "Accuracy of Logistic Regression test set: 0.7821782178217822\n",
            "              precision    recall  f1-score   support\n",
            "\n",
            "           0       0.97      0.78      0.87        93\n",
            "           1       0.23      0.75      0.35         8\n",
            "\n",
            "    accuracy                           0.78       101\n",
            "   macro avg       0.60      0.77      0.61       101\n",
            "weighted avg       0.91      0.78      0.83       101\n",
            "\n",
            "[[73 20]\n",
            " [ 2  6]]\n",
            "[0.77702703 0.79054054 0.78378378 0.85810811 0.83783784]\n"
          ]
        },
        {
          "name": "stderr",
          "output_type": "stream",
          "text": [
            "D:\\Anaconda3\\lib\\site-packages\\sklearn\\linear_model\\logistic.py:432: FutureWarning: Default solver will be changed to 'lbfgs' in 0.22. Specify a solver to silence this warning.\n",
            "  FutureWarning)\n",
            "D:\\Anaconda3\\lib\\site-packages\\sklearn\\linear_model\\logistic.py:432: FutureWarning: Default solver will be changed to 'lbfgs' in 0.22. Specify a solver to silence this warning.\n",
            "  FutureWarning)\n",
            "D:\\Anaconda3\\lib\\site-packages\\sklearn\\linear_model\\logistic.py:432: FutureWarning: Default solver will be changed to 'lbfgs' in 0.22. Specify a solver to silence this warning.\n",
            "  FutureWarning)\n",
            "D:\\Anaconda3\\lib\\site-packages\\sklearn\\linear_model\\logistic.py:432: FutureWarning: Default solver will be changed to 'lbfgs' in 0.22. Specify a solver to silence this warning.\n",
            "  FutureWarning)\n",
            "D:\\Anaconda3\\lib\\site-packages\\sklearn\\linear_model\\logistic.py:432: FutureWarning: Default solver will be changed to 'lbfgs' in 0.22. Specify a solver to silence this warning.\n",
            "  FutureWarning)\n",
            "D:\\Anaconda3\\lib\\site-packages\\sklearn\\linear_model\\logistic.py:432: FutureWarning: Default solver will be changed to 'lbfgs' in 0.22. Specify a solver to silence this warning.\n",
            "  FutureWarning)\n"
          ]
        }
      ],
      "source": [
        "logreg = LogisticRegression()\n",
        "logreg.fit(X_train_res, y_train_res)\n",
        "y_pred = logreg.predict(X_test)\n",
        "print('Accuracy of Logistic Regression train set: {:.2f}'.format(logreg.score(X_train_res, y_train_res)))\n",
        "print('Accuracy of Logistic Regression test set: {}'.format(logreg.score(X_test, y_test)))\n",
        "print(classification_report(y_test, y_pred))\n",
        "print(confusion_matrix(y_test, y_pred))\n",
        "print(cross_val_score(logreg, X_train_res, y_train_res, cv=5))"
      ]
    },
    {
      "cell_type": "code",
      "execution_count": null,
      "metadata": {
        "id": "14z0LAkukY5f",
        "outputId": "baae87bd-c4e4-4242-843c-a65d0749e0fb"
      },
      "outputs": [
        {
          "data": {
            "text/plain": [
              "0.7674731182795699"
            ]
          },
          "execution_count": 24,
          "metadata": {},
          "output_type": "execute_result"
        }
      ],
      "source": [
        "roc_auc_score(y_test,y_pred)"
      ]
    },
    {
      "cell_type": "markdown",
      "metadata": {
        "id": "pEx17g_QkY5f"
      },
      "source": [
        "### SVM with SMOTE"
      ]
    },
    {
      "cell_type": "code",
      "execution_count": null,
      "metadata": {
        "id": "borZiCdtkY5f",
        "outputId": "8fe6682c-f85b-41a5-cf96-fd38c9ab2361"
      },
      "outputs": [
        {
          "name": "stderr",
          "output_type": "stream",
          "text": [
            "D:\\Anaconda3\\lib\\site-packages\\sklearn\\svm\\base.py:193: FutureWarning: The default value of gamma will change from 'auto' to 'scale' in version 0.22 to account better for unscaled features. Set gamma explicitly to 'auto' or 'scale' to avoid this warning.\n",
            "  \"avoid this warning.\", FutureWarning)\n"
          ]
        },
        {
          "name": "stdout",
          "output_type": "stream",
          "text": [
            "Accuracy of SVM train set : 1.00\n",
            "Accuracy of SVM test set : 1.00\n",
            "              precision    recall  f1-score   support\n",
            "\n",
            "           0       1.00      1.00      1.00        93\n",
            "           1       1.00      1.00      1.00         8\n",
            "\n",
            "    accuracy                           1.00       101\n",
            "   macro avg       1.00      1.00      1.00       101\n",
            "weighted avg       1.00      1.00      1.00       101\n",
            "\n",
            "[[93  0]\n",
            " [ 0  8]]\n"
          ]
        },
        {
          "name": "stderr",
          "output_type": "stream",
          "text": [
            "D:\\Anaconda3\\lib\\site-packages\\sklearn\\svm\\base.py:193: FutureWarning: The default value of gamma will change from 'auto' to 'scale' in version 0.22 to account better for unscaled features. Set gamma explicitly to 'auto' or 'scale' to avoid this warning.\n",
            "  \"avoid this warning.\", FutureWarning)\n",
            "D:\\Anaconda3\\lib\\site-packages\\sklearn\\svm\\base.py:193: FutureWarning: The default value of gamma will change from 'auto' to 'scale' in version 0.22 to account better for unscaled features. Set gamma explicitly to 'auto' or 'scale' to avoid this warning.\n",
            "  \"avoid this warning.\", FutureWarning)\n",
            "D:\\Anaconda3\\lib\\site-packages\\sklearn\\svm\\base.py:193: FutureWarning: The default value of gamma will change from 'auto' to 'scale' in version 0.22 to account better for unscaled features. Set gamma explicitly to 'auto' or 'scale' to avoid this warning.\n",
            "  \"avoid this warning.\", FutureWarning)\n",
            "D:\\Anaconda3\\lib\\site-packages\\sklearn\\svm\\base.py:193: FutureWarning: The default value of gamma will change from 'auto' to 'scale' in version 0.22 to account better for unscaled features. Set gamma explicitly to 'auto' or 'scale' to avoid this warning.\n",
            "  \"avoid this warning.\", FutureWarning)\n"
          ]
        },
        {
          "name": "stdout",
          "output_type": "stream",
          "text": [
            "[0.51351351 0.51351351 0.5        0.5        0.5       ]\n"
          ]
        },
        {
          "name": "stderr",
          "output_type": "stream",
          "text": [
            "D:\\Anaconda3\\lib\\site-packages\\sklearn\\svm\\base.py:193: FutureWarning: The default value of gamma will change from 'auto' to 'scale' in version 0.22 to account better for unscaled features. Set gamma explicitly to 'auto' or 'scale' to avoid this warning.\n",
            "  \"avoid this warning.\", FutureWarning)\n"
          ]
        }
      ],
      "source": [
        "from sklearn.svm import SVC\n",
        "svc = SVC()\n",
        "svc.fit(X_train_res, y_train_res)\n",
        "y_pred = svc.predict(X_test)\n",
        "print('Accuracy of SVM train set : {:.2f}'.format(svc.score(X_train_res, y_train_res)))\n",
        "print('Accuracy of SVM test set : {:.2f}'.format(svc.score(X_test, y_test)))\n",
        "print(classification_report(y_test, y_pred))\n",
        "print(confusion_matrix(y_test, y_pred))\n",
        "print(cross_val_score(svc, X_train_res, y_train_res, cv=5))"
      ]
    },
    {
      "cell_type": "code",
      "execution_count": null,
      "metadata": {
        "id": "Fw4400z4kY5g",
        "outputId": "ccfe5fb7-ace6-4fa8-bbdf-3fe2074c66fc"
      },
      "outputs": [
        {
          "data": {
            "text/plain": [
              "1.0"
            ]
          },
          "execution_count": 26,
          "metadata": {},
          "output_type": "execute_result"
        }
      ],
      "source": [
        "roc_auc_score(y_test,y_pred)"
      ]
    },
    {
      "cell_type": "markdown",
      "metadata": {
        "id": "U1QXGioHkY5g"
      },
      "source": [
        "### Random Forest Classifier with SMOTE"
      ]
    },
    {
      "cell_type": "code",
      "execution_count": null,
      "metadata": {
        "scrolled": true,
        "id": "ve4uqitRkY5g",
        "outputId": "2ae76abf-2ff5-4508-b0d5-e7b0d24bd381"
      },
      "outputs": [
        {
          "name": "stderr",
          "output_type": "stream",
          "text": [
            "D:\\Anaconda3\\lib\\site-packages\\sklearn\\ensemble\\forest.py:245: FutureWarning: The default value of n_estimators will change from 10 in version 0.20 to 100 in 0.22.\n",
            "  \"10 in version 0.20 to 100 in 0.22.\", FutureWarning)\n"
          ]
        },
        {
          "name": "stdout",
          "output_type": "stream",
          "text": [
            "Accuracy of Random Forest classifier on training set: 1.00\n",
            "Accuracy of Random Forest classifier on test set: 1.0\n",
            "              precision    recall  f1-score   support\n",
            "\n",
            "           0       1.00      1.00      1.00        93\n",
            "           1       1.00      1.00      1.00         8\n",
            "\n",
            "    accuracy                           1.00       101\n",
            "   macro avg       1.00      1.00      1.00       101\n",
            "weighted avg       1.00      1.00      1.00       101\n",
            "\n",
            "[[93  0]\n",
            " [ 0  8]]\n",
            "[0.91216216 0.9527027  0.89189189 0.99324324 0.87837838]\n"
          ]
        }
      ],
      "source": [
        "from sklearn.ensemble import RandomForestClassifier\n",
        "clf2 = RandomForestClassifier().fit(X_train_res, y_train_res)\n",
        "y_pred6 = clf2.predict(X_test)\n",
        "print('Accuracy of Random Forest classifier on training set: {:.2f}'.format(clf2.score(X_train_res, y_train_res)))\n",
        "print('Accuracy of Random Forest classifier on test set: {}'.format(clf2.score(X_test, y_test)))\n",
        "print(classification_report(y_test, y_pred6))\n",
        "print(confusion_matrix(y_test, y_pred6))\n",
        "print(cross_val_score(clf2, X_train_res, y_train_res, cv=5))"
      ]
    },
    {
      "cell_type": "code",
      "execution_count": null,
      "metadata": {
        "id": "UZ5gLjeykY5g",
        "outputId": "f2ba9c85-ea0a-45c3-9c32-331f97225aa3"
      },
      "outputs": [
        {
          "data": {
            "text/plain": [
              "1.0"
            ]
          },
          "execution_count": 28,
          "metadata": {},
          "output_type": "execute_result"
        }
      ],
      "source": [
        "roc_auc_score(y_test,y_pred6)"
      ]
    },
    {
      "cell_type": "markdown",
      "metadata": {
        "id": "KqXfRBqSkY5g"
      },
      "source": [
        "## SMOTE + Standardization"
      ]
    },
    {
      "cell_type": "code",
      "execution_count": null,
      "metadata": {
        "id": "S97TSNeYkY5g"
      },
      "outputs": [],
      "source": [
        "from sklearn.preprocessing import StandardScaler\n",
        "sc = StandardScaler()\n",
        "X_train_res = sc.fit_transform(X_train_res)\n",
        "X_test = sc.transform(X_test)"
      ]
    },
    {
      "cell_type": "code",
      "execution_count": null,
      "metadata": {
        "id": "xG4QsoMpkY5g",
        "outputId": "5c03e5c6-f7ed-47cb-a1b3-c5f5676a0b8a"
      },
      "outputs": [
        {
          "name": "stderr",
          "output_type": "stream",
          "text": [
            "D:\\Anaconda3\\lib\\site-packages\\sklearn\\linear_model\\logistic.py:432: FutureWarning: Default solver will be changed to 'lbfgs' in 0.22. Specify a solver to silence this warning.\n",
            "  FutureWarning)\n",
            "D:\\Anaconda3\\lib\\site-packages\\sklearn\\linear_model\\logistic.py:432: FutureWarning: Default solver will be changed to 'lbfgs' in 0.22. Specify a solver to silence this warning.\n",
            "  FutureWarning)\n",
            "D:\\Anaconda3\\lib\\site-packages\\sklearn\\linear_model\\logistic.py:432: FutureWarning: Default solver will be changed to 'lbfgs' in 0.22. Specify a solver to silence this warning.\n",
            "  FutureWarning)\n",
            "D:\\Anaconda3\\lib\\site-packages\\sklearn\\linear_model\\logistic.py:432: FutureWarning: Default solver will be changed to 'lbfgs' in 0.22. Specify a solver to silence this warning.\n",
            "  FutureWarning)\n",
            "D:\\Anaconda3\\lib\\site-packages\\sklearn\\linear_model\\logistic.py:432: FutureWarning: Default solver will be changed to 'lbfgs' in 0.22. Specify a solver to silence this warning.\n",
            "  FutureWarning)\n",
            "D:\\Anaconda3\\lib\\site-packages\\sklearn\\linear_model\\logistic.py:432: FutureWarning: Default solver will be changed to 'lbfgs' in 0.22. Specify a solver to silence this warning.\n",
            "  FutureWarning)\n"
          ]
        },
        {
          "name": "stdout",
          "output_type": "stream",
          "text": [
            "Accuracy of Logistic Regression train set: 0.91\n",
            "Accuracy of Logistic Regression test set: 0.8712871287128713\n",
            "              precision    recall  f1-score   support\n",
            "\n",
            "           0       0.99      0.87      0.93        93\n",
            "           1       0.37      0.88      0.52         8\n",
            "\n",
            "    accuracy                           0.87       101\n",
            "   macro avg       0.68      0.87      0.72       101\n",
            "weighted avg       0.94      0.87      0.89       101\n",
            "\n",
            "[[81 12]\n",
            " [ 1  7]]\n",
            "[0.91891892 0.90540541 0.86486486 0.87837838 0.69594595]\n"
          ]
        },
        {
          "data": {
            "text/plain": [
              "0.8729838709677419"
            ]
          },
          "execution_count": 30,
          "metadata": {},
          "output_type": "execute_result"
        }
      ],
      "source": [
        "logreg = LogisticRegression()\n",
        "logreg.fit(X_train_res, y_train_res)\n",
        "y_pred = logreg.predict(X_test)\n",
        "print('Accuracy of Logistic Regression train set: {:.2f}'.format(logreg.score(X_train_res, y_train_res)))\n",
        "print('Accuracy of Logistic Regression test set: {}'.format(logreg.score(X_test, y_test)))\n",
        "print(classification_report(y_test, y_pred))\n",
        "print(confusion_matrix(y_test, y_pred))\n",
        "print(cross_val_score(logreg, X_train_res, y_train_res, cv=5))\n",
        "roc_auc_score(y_test,y_pred)"
      ]
    },
    {
      "cell_type": "code",
      "execution_count": null,
      "metadata": {
        "id": "jlGd_b7AkY5g",
        "outputId": "ece11a97-a104-4a7e-fc87-eac9a026ec65"
      },
      "outputs": [
        {
          "name": "stderr",
          "output_type": "stream",
          "text": [
            "D:\\Anaconda3\\lib\\site-packages\\sklearn\\svm\\base.py:193: FutureWarning: The default value of gamma will change from 'auto' to 'scale' in version 0.22 to account better for unscaled features. Set gamma explicitly to 'auto' or 'scale' to avoid this warning.\n",
            "  \"avoid this warning.\", FutureWarning)\n"
          ]
        },
        {
          "name": "stdout",
          "output_type": "stream",
          "text": [
            "Accuracy of SVM train set : 0.90\n",
            "Accuracy of SVM test set : 0.83\n",
            "              precision    recall  f1-score   support\n",
            "\n",
            "           0       0.99      0.83      0.90        93\n",
            "           1       0.30      0.88      0.45         8\n",
            "\n",
            "    accuracy                           0.83       101\n",
            "   macro avg       0.65      0.85      0.68       101\n",
            "weighted avg       0.93      0.83      0.87       101\n",
            "\n",
            "[[77 16]\n",
            " [ 1  7]]\n"
          ]
        },
        {
          "name": "stderr",
          "output_type": "stream",
          "text": [
            "D:\\Anaconda3\\lib\\site-packages\\sklearn\\svm\\base.py:193: FutureWarning: The default value of gamma will change from 'auto' to 'scale' in version 0.22 to account better for unscaled features. Set gamma explicitly to 'auto' or 'scale' to avoid this warning.\n",
            "  \"avoid this warning.\", FutureWarning)\n",
            "D:\\Anaconda3\\lib\\site-packages\\sklearn\\svm\\base.py:193: FutureWarning: The default value of gamma will change from 'auto' to 'scale' in version 0.22 to account better for unscaled features. Set gamma explicitly to 'auto' or 'scale' to avoid this warning.\n",
            "  \"avoid this warning.\", FutureWarning)\n",
            "D:\\Anaconda3\\lib\\site-packages\\sklearn\\svm\\base.py:193: FutureWarning: The default value of gamma will change from 'auto' to 'scale' in version 0.22 to account better for unscaled features. Set gamma explicitly to 'auto' or 'scale' to avoid this warning.\n",
            "  \"avoid this warning.\", FutureWarning)\n",
            "D:\\Anaconda3\\lib\\site-packages\\sklearn\\svm\\base.py:193: FutureWarning: The default value of gamma will change from 'auto' to 'scale' in version 0.22 to account better for unscaled features. Set gamma explicitly to 'auto' or 'scale' to avoid this warning.\n",
            "  \"avoid this warning.\", FutureWarning)\n"
          ]
        },
        {
          "name": "stdout",
          "output_type": "stream",
          "text": [
            "[0.93243243 0.92567568 0.81081081 0.96621622 0.70945946]\n"
          ]
        },
        {
          "name": "stderr",
          "output_type": "stream",
          "text": [
            "D:\\Anaconda3\\lib\\site-packages\\sklearn\\svm\\base.py:193: FutureWarning: The default value of gamma will change from 'auto' to 'scale' in version 0.22 to account better for unscaled features. Set gamma explicitly to 'auto' or 'scale' to avoid this warning.\n",
            "  \"avoid this warning.\", FutureWarning)\n"
          ]
        },
        {
          "data": {
            "text/plain": [
              "0.8514784946236559"
            ]
          },
          "execution_count": 31,
          "metadata": {},
          "output_type": "execute_result"
        }
      ],
      "source": [
        "svc = SVC()\n",
        "svc.fit(X_train_res, y_train_res)\n",
        "y_pred = svc.predict(X_test)\n",
        "print('Accuracy of SVM train set : {:.2f}'.format(svc.score(X_train_res, y_train_res)))\n",
        "print('Accuracy of SVM test set : {:.2f}'.format(svc.score(X_test, y_test)))\n",
        "print(classification_report(y_test, y_pred))\n",
        "print(confusion_matrix(y_test, y_pred))\n",
        "print(cross_val_score(svc, X_train_res, y_train_res, cv=5))\n",
        "roc_auc_score(y_test,y_pred)"
      ]
    },
    {
      "cell_type": "code",
      "execution_count": null,
      "metadata": {
        "id": "MYGgMt6WkY5h",
        "outputId": "647d6914-ed2f-466e-a744-32f3b917bc8c"
      },
      "outputs": [
        {
          "name": "stderr",
          "output_type": "stream",
          "text": [
            "D:\\Anaconda3\\lib\\site-packages\\sklearn\\ensemble\\forest.py:245: FutureWarning: The default value of n_estimators will change from 10 in version 0.20 to 100 in 0.22.\n",
            "  \"10 in version 0.20 to 100 in 0.22.\", FutureWarning)\n"
          ]
        },
        {
          "name": "stdout",
          "output_type": "stream",
          "text": [
            "Accuracy of Random Forest classifier on training set: 1.00\n",
            "Accuracy of Random Forest classifier on test set: 1.00\n",
            "              precision    recall  f1-score   support\n",
            "\n",
            "           0       1.00      1.00      1.00        93\n",
            "           1       1.00      1.00      1.00         8\n",
            "\n",
            "    accuracy                           1.00       101\n",
            "   macro avg       1.00      1.00      1.00       101\n",
            "weighted avg       1.00      1.00      1.00       101\n",
            "\n",
            "[[93  0]\n",
            " [ 0  8]]\n",
            "[0.91216216 0.94594595 0.89864865 0.97972973 0.85135135]\n"
          ]
        },
        {
          "data": {
            "text/plain": [
              "1.0"
            ]
          },
          "execution_count": 32,
          "metadata": {},
          "output_type": "execute_result"
        }
      ],
      "source": [
        "clf = RandomForestClassifier().fit(X_train_res, y_train_res)\n",
        "y_pred = clf.predict(X_test)\n",
        "print('Accuracy of Random Forest classifier on training set: {:.2f}'.format(clf.score(X_train_res, y_train_res)))\n",
        "print('Accuracy of Random Forest classifier on test set: {:.2f}'.format(clf.score(X_test, y_test)))\n",
        "print(classification_report(y_test, y_pred))\n",
        "print(confusion_matrix(y_test, y_pred))\n",
        "print(cross_val_score(clf, X_train_res, y_train_res, cv=5))\n",
        "roc_auc_score(y_test,y_pred)"
      ]
    },
    {
      "cell_type": "markdown",
      "metadata": {
        "id": "dL9GxiJNkY5h"
      },
      "source": [
        "## Random Oversapmling"
      ]
    },
    {
      "cell_type": "code",
      "execution_count": null,
      "metadata": {
        "id": "bG-UBteskY5h",
        "outputId": "6041fff0-5824-42df-fa5e-22823146cfca"
      },
      "outputs": [
        {
          "name": "stdout",
          "output_type": "stream",
          "text": [
            "Number transactions X_train dataset:  (301, 83)\n",
            "Number transactions y_train dataset:  (301,)\n",
            "Number transactions X_test dataset:  (101, 83)\n",
            "Number transactions y_test dataset:  (101,)\n"
          ]
        }
      ],
      "source": [
        "from imblearn.over_sampling import RandomOverSampler\n",
        "\n",
        "print(\"Number transactions X_train dataset: \", X_train.shape)\n",
        "print(\"Number transactions y_train dataset: \", y_train.shape)\n",
        "print(\"Number transactions X_test dataset: \", X_test.shape)\n",
        "print(\"Number transactions y_test dataset: \", y_test.shape)"
      ]
    },
    {
      "cell_type": "code",
      "execution_count": null,
      "metadata": {
        "id": "hheaEvlRkY5h",
        "outputId": "5d6ea1d8-4be9-4da4-8548-4e3cab37738b"
      },
      "outputs": [
        {
          "name": "stdout",
          "output_type": "stream",
          "text": [
            "Before OverSampling, counts of label '1': 24\n",
            "Before OverSampling, counts of label '0': 277 \n",
            "\n"
          ]
        },
        {
          "data": {
            "text/plain": [
              "8"
            ]
          },
          "execution_count": 34,
          "metadata": {},
          "output_type": "execute_result"
        }
      ],
      "source": [
        "print(\"Before OverSampling, counts of label '1': {}\".format(sum(y_train==1)))\n",
        "print(\"Before OverSampling, counts of label '0': {} \\n\".format(sum(y_train==0)))\n",
        "sum(y_test==0)\n",
        "sum(y_test==1)"
      ]
    },
    {
      "cell_type": "code",
      "execution_count": null,
      "metadata": {
        "id": "F1A2XG1NkY5h",
        "outputId": "a3efd38b-1e60-42a5-a1d3-8deb73d7a65e"
      },
      "outputs": [
        {
          "name": "stdout",
          "output_type": "stream",
          "text": [
            "After OverSampling, the shape of train_X: (740, 83)\n",
            "After OverSampling, the shape of train_y: (740,) \n",
            "\n",
            "After OverSampling, counts of label '1': 370\n",
            "After OverSampling, counts of label '0': 370\n"
          ]
        }
      ],
      "source": [
        "ros = RandomOverSampler()\n",
        "X_train_resampled, y_train_resampled = ros.fit_sample(X, y)\n",
        "\n",
        "print('After OverSampling, the shape of train_X: {}'.format(X_train_resampled.shape))\n",
        "print('After OverSampling, the shape of train_y: {} \\n'.format(y_train_resampled.shape))\n",
        "\n",
        "print(\"After OverSampling, counts of label '1': {}\".format(sum(y_train_resampled==1)))\n",
        "print(\"After OverSampling, counts of label '0': {}\".format(sum(y_train_resampled==0)))"
      ]
    },
    {
      "cell_type": "code",
      "execution_count": null,
      "metadata": {
        "id": "PypHbGe9kY5h",
        "outputId": "d03e9d19-a5c5-4fc2-cf59-701de1588045"
      },
      "outputs": [
        {
          "name": "stdout",
          "output_type": "stream",
          "text": [
            "Accuracy of Logistic Regression train set: 0.79\n",
            "Accuracy of Logistic Regression test set: 0.76\n",
            "              precision    recall  f1-score   support\n",
            "\n",
            "           0       0.93      0.81      0.86        93\n",
            "           1       0.10      0.25      0.14         8\n",
            "\n",
            "    accuracy                           0.76       101\n",
            "   macro avg       0.51      0.53      0.50       101\n",
            "weighted avg       0.86      0.76      0.81       101\n",
            "\n",
            "[[75 18]\n",
            " [ 6  2]]\n",
            "[0.71621622 0.77702703 0.68918919 0.80405405 0.75675676]\n"
          ]
        },
        {
          "name": "stderr",
          "output_type": "stream",
          "text": [
            "D:\\Anaconda3\\lib\\site-packages\\sklearn\\linear_model\\logistic.py:432: FutureWarning: Default solver will be changed to 'lbfgs' in 0.22. Specify a solver to silence this warning.\n",
            "  FutureWarning)\n",
            "D:\\Anaconda3\\lib\\site-packages\\sklearn\\linear_model\\logistic.py:432: FutureWarning: Default solver will be changed to 'lbfgs' in 0.22. Specify a solver to silence this warning.\n",
            "  FutureWarning)\n",
            "D:\\Anaconda3\\lib\\site-packages\\sklearn\\linear_model\\logistic.py:432: FutureWarning: Default solver will be changed to 'lbfgs' in 0.22. Specify a solver to silence this warning.\n",
            "  FutureWarning)\n",
            "D:\\Anaconda3\\lib\\site-packages\\sklearn\\linear_model\\logistic.py:432: FutureWarning: Default solver will be changed to 'lbfgs' in 0.22. Specify a solver to silence this warning.\n",
            "  FutureWarning)\n",
            "D:\\Anaconda3\\lib\\site-packages\\sklearn\\linear_model\\logistic.py:432: FutureWarning: Default solver will be changed to 'lbfgs' in 0.22. Specify a solver to silence this warning.\n",
            "  FutureWarning)\n",
            "D:\\Anaconda3\\lib\\site-packages\\sklearn\\linear_model\\logistic.py:432: FutureWarning: Default solver will be changed to 'lbfgs' in 0.22. Specify a solver to silence this warning.\n",
            "  FutureWarning)\n"
          ]
        }
      ],
      "source": [
        "logreg2 = LogisticRegression()\n",
        "logreg2.fit(X_train_resampled, y_train_resampled)\n",
        "y_pred = logreg2.predict(X_test)\n",
        "print('Accuracy of Logistic Regression train set: {:.2f}'.format(logreg2.score(X_train_resampled, y_train_resampled)))\n",
        "print('Accuracy of Logistic Regression test set: {:.2f}'.format(logreg2.score(X_test, y_test)))\n",
        "print(classification_report(y_test, y_pred))\n",
        "print(confusion_matrix(y_test, y_pred))\n",
        "print(cross_val_score(logreg2, X_train_resampled, y_train_resampled, cv=5))"
      ]
    },
    {
      "cell_type": "code",
      "execution_count": null,
      "metadata": {
        "id": "Ozo3ekDakY5h",
        "outputId": "b3ee4d50-7ccb-4fe9-acf2-d027fccb8297"
      },
      "outputs": [
        {
          "name": "stderr",
          "output_type": "stream",
          "text": [
            "D:\\Anaconda3\\lib\\site-packages\\sklearn\\svm\\base.py:193: FutureWarning: The default value of gamma will change from 'auto' to 'scale' in version 0.22 to account better for unscaled features. Set gamma explicitly to 'auto' or 'scale' to avoid this warning.\n",
            "  \"avoid this warning.\", FutureWarning)\n"
          ]
        },
        {
          "name": "stdout",
          "output_type": "stream",
          "text": [
            "Accuracy of SVM train set : 1.00\n",
            "Accuracy of SVM test set : 0.92\n",
            "              precision    recall  f1-score   support\n",
            "\n",
            "           0       0.92      1.00      0.96        93\n",
            "           1       0.00      0.00      0.00         8\n",
            "\n",
            "    accuracy                           0.92       101\n",
            "   macro avg       0.46      0.50      0.48       101\n",
            "weighted avg       0.85      0.92      0.88       101\n",
            "\n",
            "[[93  0]\n",
            " [ 8  0]]\n"
          ]
        },
        {
          "name": "stderr",
          "output_type": "stream",
          "text": [
            "D:\\Anaconda3\\lib\\site-packages\\sklearn\\metrics\\classification.py:1437: UndefinedMetricWarning: Precision and F-score are ill-defined and being set to 0.0 in labels with no predicted samples.\n",
            "  'precision', 'predicted', average, warn_for)\n",
            "D:\\Anaconda3\\lib\\site-packages\\sklearn\\metrics\\classification.py:1437: UndefinedMetricWarning: Precision and F-score are ill-defined and being set to 0.0 in labels with no predicted samples.\n",
            "  'precision', 'predicted', average, warn_for)\n",
            "D:\\Anaconda3\\lib\\site-packages\\sklearn\\metrics\\classification.py:1437: UndefinedMetricWarning: Precision and F-score are ill-defined and being set to 0.0 in labels with no predicted samples.\n",
            "  'precision', 'predicted', average, warn_for)\n",
            "D:\\Anaconda3\\lib\\site-packages\\sklearn\\svm\\base.py:193: FutureWarning: The default value of gamma will change from 'auto' to 'scale' in version 0.22 to account better for unscaled features. Set gamma explicitly to 'auto' or 'scale' to avoid this warning.\n",
            "  \"avoid this warning.\", FutureWarning)\n",
            "D:\\Anaconda3\\lib\\site-packages\\sklearn\\svm\\base.py:193: FutureWarning: The default value of gamma will change from 'auto' to 'scale' in version 0.22 to account better for unscaled features. Set gamma explicitly to 'auto' or 'scale' to avoid this warning.\n",
            "  \"avoid this warning.\", FutureWarning)\n",
            "D:\\Anaconda3\\lib\\site-packages\\sklearn\\svm\\base.py:193: FutureWarning: The default value of gamma will change from 'auto' to 'scale' in version 0.22 to account better for unscaled features. Set gamma explicitly to 'auto' or 'scale' to avoid this warning.\n",
            "  \"avoid this warning.\", FutureWarning)\n",
            "D:\\Anaconda3\\lib\\site-packages\\sklearn\\svm\\base.py:193: FutureWarning: The default value of gamma will change from 'auto' to 'scale' in version 0.22 to account better for unscaled features. Set gamma explicitly to 'auto' or 'scale' to avoid this warning.\n",
            "  \"avoid this warning.\", FutureWarning)\n"
          ]
        },
        {
          "name": "stdout",
          "output_type": "stream",
          "text": [
            "[1. 1. 1. 1. 1.]\n"
          ]
        },
        {
          "name": "stderr",
          "output_type": "stream",
          "text": [
            "D:\\Anaconda3\\lib\\site-packages\\sklearn\\svm\\base.py:193: FutureWarning: The default value of gamma will change from 'auto' to 'scale' in version 0.22 to account better for unscaled features. Set gamma explicitly to 'auto' or 'scale' to avoid this warning.\n",
            "  \"avoid this warning.\", FutureWarning)\n"
          ]
        }
      ],
      "source": [
        "svc2 = SVC()\n",
        "svc2.fit(X_train_resampled, y_train_resampled)\n",
        "y_pred = svc2.predict(X_test)\n",
        "print('Accuracy of SVM train set : {:.2f}'.format(svc2.score(X_train_resampled, y_train_resampled)))\n",
        "print('Accuracy of SVM test set : {:.2f}'.format(svc2.score(X_test, y_test)))\n",
        "print(classification_report(y_test, y_pred))\n",
        "print(confusion_matrix(y_test, y_pred))\n",
        "print(cross_val_score(svc2, X_train_resampled, y_train_resampled, cv=5))"
      ]
    },
    {
      "cell_type": "code",
      "execution_count": null,
      "metadata": {
        "id": "il_EhRsVkY5i",
        "outputId": "cdbe1bf6-de3e-4e80-87d8-1b0b543a46a8"
      },
      "outputs": [
        {
          "name": "stderr",
          "output_type": "stream",
          "text": [
            "D:\\Anaconda3\\lib\\site-packages\\sklearn\\ensemble\\forest.py:245: FutureWarning: The default value of n_estimators will change from 10 in version 0.20 to 100 in 0.22.\n",
            "  \"10 in version 0.20 to 100 in 0.22.\", FutureWarning)\n"
          ]
        },
        {
          "name": "stdout",
          "output_type": "stream",
          "text": [
            "Accuracy of Random Forest classifier on training set: 1.00\n",
            "Accuracy of Random Forest classifier on test set: 0.92\n",
            "              precision    recall  f1-score   support\n",
            "\n",
            "           0       0.92      1.00      0.96        93\n",
            "           1       0.00      0.00      0.00         8\n",
            "\n",
            "    accuracy                           0.92       101\n",
            "   macro avg       0.46      0.50      0.48       101\n",
            "weighted avg       0.85      0.92      0.88       101\n",
            "\n",
            "[[93  0]\n",
            " [ 8  0]]\n"
          ]
        },
        {
          "name": "stderr",
          "output_type": "stream",
          "text": [
            "D:\\Anaconda3\\lib\\site-packages\\sklearn\\metrics\\classification.py:1437: UndefinedMetricWarning: Precision and F-score are ill-defined and being set to 0.0 in labels with no predicted samples.\n",
            "  'precision', 'predicted', average, warn_for)\n",
            "D:\\Anaconda3\\lib\\site-packages\\sklearn\\metrics\\classification.py:1437: UndefinedMetricWarning: Precision and F-score are ill-defined and being set to 0.0 in labels with no predicted samples.\n",
            "  'precision', 'predicted', average, warn_for)\n",
            "D:\\Anaconda3\\lib\\site-packages\\sklearn\\metrics\\classification.py:1437: UndefinedMetricWarning: Precision and F-score are ill-defined and being set to 0.0 in labels with no predicted samples.\n",
            "  'precision', 'predicted', average, warn_for)\n"
          ]
        },
        {
          "name": "stdout",
          "output_type": "stream",
          "text": [
            "[0.97297297 0.96621622 0.9527027  0.98648649 0.95945946]\n"
          ]
        }
      ],
      "source": [
        "clf2 = RandomForestClassifier().fit(X_train_resampled, y_train_resampled)\n",
        "y_pred = clf2.predict(X_test)\n",
        "print('Accuracy of Random Forest classifier on training set: {:.2f}'.format(clf2.score(X_train_resampled, y_train_resampled)))\n",
        "print('Accuracy of Random Forest classifier on test set: {:.2f}'.format(clf2.score(X_test, y_test)))\n",
        "print(classification_report(y_test, y_pred))\n",
        "print(confusion_matrix(y_test, y_pred))\n",
        "print(cross_val_score(clf2, X_train_resampled, y_train_resampled, cv=5))"
      ]
    },
    {
      "cell_type": "markdown",
      "metadata": {
        "id": "lqA4tuoekY5i"
      },
      "source": [
        "## ADASYN"
      ]
    },
    {
      "cell_type": "code",
      "execution_count": null,
      "metadata": {
        "id": "ezklMCXokY5i",
        "outputId": "f1a4da57-96d0-4942-f9d0-093dfb2049ab"
      },
      "outputs": [
        {
          "name": "stdout",
          "output_type": "stream",
          "text": [
            "Number transactions X_train dataset:  (301, 83)\n",
            "Number transactions y_train dataset:  (301,)\n",
            "Number transactions X_test dataset:  (101, 83)\n",
            "Number transactions y_test dataset:  (101,)\n",
            "Before OverSampling, counts of label '1': 24\n",
            "Before OverSampling, counts of label '0': 277 \n",
            "\n",
            "After OverSampling, the shape of train_X: (738, 83)\n",
            "After OverSampling, the shape of train_y: (738,) \n",
            "\n",
            "After OverSampling, counts of label '1': 368\n",
            "After OverSampling, counts of label '0': 370\n"
          ]
        }
      ],
      "source": [
        "from imblearn.over_sampling import ADASYN\n",
        "\n",
        "print(\"Number transactions X_train dataset: \", X_train.shape)\n",
        "print(\"Number transactions y_train dataset: \", y_train.shape)\n",
        "print(\"Number transactions X_test dataset: \", X_test.shape)\n",
        "print(\"Number transactions y_test dataset: \", y_test.shape)\n",
        "\n",
        "print(\"Before OverSampling, counts of label '1': {}\".format(sum(y_train==1)))\n",
        "print(\"Before OverSampling, counts of label '0': {} \\n\".format(sum(y_train==0)))\n",
        "\n",
        "ads = ADASYN(n_neighbors = 1)\n",
        "\n",
        "X_train_rsm, y_train_rsm = ads.fit_sample(X, y)\n",
        "\n",
        "print('After OverSampling, the shape of train_X: {}'.format(X_train_rsm.shape))\n",
        "print('After OverSampling, the shape of train_y: {} \\n'.format(y_train_rsm.shape))\n",
        "\n",
        "print(\"After OverSampling, counts of label '1': {}\".format(sum(y_train_rsm==1)))\n",
        "print(\"After OverSampling, counts of label '0': {}\".format(sum(y_train_rsm==0)))"
      ]
    },
    {
      "cell_type": "code",
      "execution_count": null,
      "metadata": {
        "id": "zeLJe_BekY5i",
        "outputId": "67d26376-b8fe-4499-9ee1-97a2b7a55564"
      },
      "outputs": [
        {
          "name": "stdout",
          "output_type": "stream",
          "text": [
            "Accuracy of Logistic Regression train set: 0.77\n",
            "Accuracy of Logistic Regression test set: 0.72\n",
            "              precision    recall  f1-score   support\n",
            "\n",
            "           0       0.92      0.76      0.84        93\n",
            "           1       0.08      0.25      0.12         8\n",
            "\n",
            "    accuracy                           0.72       101\n",
            "   macro avg       0.50      0.51      0.48       101\n",
            "weighted avg       0.86      0.72      0.78       101\n",
            "\n",
            "[[71 22]\n",
            " [ 6  2]]\n",
            "[0.60135135 0.69594595 0.77027027 0.93877551 0.60544218]\n"
          ]
        },
        {
          "name": "stderr",
          "output_type": "stream",
          "text": [
            "D:\\Anaconda3\\lib\\site-packages\\sklearn\\linear_model\\logistic.py:432: FutureWarning: Default solver will be changed to 'lbfgs' in 0.22. Specify a solver to silence this warning.\n",
            "  FutureWarning)\n",
            "D:\\Anaconda3\\lib\\site-packages\\sklearn\\linear_model\\logistic.py:432: FutureWarning: Default solver will be changed to 'lbfgs' in 0.22. Specify a solver to silence this warning.\n",
            "  FutureWarning)\n",
            "D:\\Anaconda3\\lib\\site-packages\\sklearn\\linear_model\\logistic.py:432: FutureWarning: Default solver will be changed to 'lbfgs' in 0.22. Specify a solver to silence this warning.\n",
            "  FutureWarning)\n",
            "D:\\Anaconda3\\lib\\site-packages\\sklearn\\linear_model\\logistic.py:432: FutureWarning: Default solver will be changed to 'lbfgs' in 0.22. Specify a solver to silence this warning.\n",
            "  FutureWarning)\n",
            "D:\\Anaconda3\\lib\\site-packages\\sklearn\\linear_model\\logistic.py:432: FutureWarning: Default solver will be changed to 'lbfgs' in 0.22. Specify a solver to silence this warning.\n",
            "  FutureWarning)\n",
            "D:\\Anaconda3\\lib\\site-packages\\sklearn\\linear_model\\logistic.py:432: FutureWarning: Default solver will be changed to 'lbfgs' in 0.22. Specify a solver to silence this warning.\n",
            "  FutureWarning)\n"
          ]
        }
      ],
      "source": [
        "logreg3 = LogisticRegression()\n",
        "logreg3.fit(X_train_rsm, y_train_rsm)\n",
        "y_pred = logreg3.predict(X_test)\n",
        "print('Accuracy of Logistic Regression train set: {:.2f}'.format(logreg3.score(X_train_rsm, y_train_rsm)))\n",
        "print('Accuracy of Logistic Regression test set: {:.2f}'.format(logreg3.score(X_test, y_test)))\n",
        "print(classification_report(y_test, y_pred))\n",
        "print(confusion_matrix(y_test, y_pred))\n",
        "print(cross_val_score(logreg3, X_train_rsm, y_train_rsm, cv=5))"
      ]
    },
    {
      "cell_type": "code",
      "execution_count": null,
      "metadata": {
        "id": "STKUpz6vkY5i",
        "outputId": "408b30f7-61af-4ac9-f0fa-5d788ac4942f"
      },
      "outputs": [
        {
          "name": "stderr",
          "output_type": "stream",
          "text": [
            "D:\\Anaconda3\\lib\\site-packages\\sklearn\\svm\\base.py:193: FutureWarning: The default value of gamma will change from 'auto' to 'scale' in version 0.22 to account better for unscaled features. Set gamma explicitly to 'auto' or 'scale' to avoid this warning.\n",
            "  \"avoid this warning.\", FutureWarning)\n"
          ]
        },
        {
          "name": "stdout",
          "output_type": "stream",
          "text": [
            "Accuracy of SVM train set : 1.00\n",
            "Accuracy of SVM test set : 0.92\n",
            "              precision    recall  f1-score   support\n",
            "\n",
            "           0       0.92      1.00      0.96        93\n",
            "           1       0.00      0.00      0.00         8\n",
            "\n",
            "    accuracy                           0.92       101\n",
            "   macro avg       0.46      0.50      0.48       101\n",
            "weighted avg       0.85      0.92      0.88       101\n",
            "\n",
            "[[93  0]\n",
            " [ 8  0]]\n"
          ]
        },
        {
          "name": "stderr",
          "output_type": "stream",
          "text": [
            "D:\\Anaconda3\\lib\\site-packages\\sklearn\\metrics\\classification.py:1437: UndefinedMetricWarning: Precision and F-score are ill-defined and being set to 0.0 in labels with no predicted samples.\n",
            "  'precision', 'predicted', average, warn_for)\n",
            "D:\\Anaconda3\\lib\\site-packages\\sklearn\\metrics\\classification.py:1437: UndefinedMetricWarning: Precision and F-score are ill-defined and being set to 0.0 in labels with no predicted samples.\n",
            "  'precision', 'predicted', average, warn_for)\n",
            "D:\\Anaconda3\\lib\\site-packages\\sklearn\\metrics\\classification.py:1437: UndefinedMetricWarning: Precision and F-score are ill-defined and being set to 0.0 in labels with no predicted samples.\n",
            "  'precision', 'predicted', average, warn_for)\n",
            "D:\\Anaconda3\\lib\\site-packages\\sklearn\\svm\\base.py:193: FutureWarning: The default value of gamma will change from 'auto' to 'scale' in version 0.22 to account better for unscaled features. Set gamma explicitly to 'auto' or 'scale' to avoid this warning.\n",
            "  \"avoid this warning.\", FutureWarning)\n",
            "D:\\Anaconda3\\lib\\site-packages\\sklearn\\svm\\base.py:193: FutureWarning: The default value of gamma will change from 'auto' to 'scale' in version 0.22 to account better for unscaled features. Set gamma explicitly to 'auto' or 'scale' to avoid this warning.\n",
            "  \"avoid this warning.\", FutureWarning)\n",
            "D:\\Anaconda3\\lib\\site-packages\\sklearn\\svm\\base.py:193: FutureWarning: The default value of gamma will change from 'auto' to 'scale' in version 0.22 to account better for unscaled features. Set gamma explicitly to 'auto' or 'scale' to avoid this warning.\n",
            "  \"avoid this warning.\", FutureWarning)\n",
            "D:\\Anaconda3\\lib\\site-packages\\sklearn\\svm\\base.py:193: FutureWarning: The default value of gamma will change from 'auto' to 'scale' in version 0.22 to account better for unscaled features. Set gamma explicitly to 'auto' or 'scale' to avoid this warning.\n",
            "  \"avoid this warning.\", FutureWarning)\n"
          ]
        },
        {
          "name": "stdout",
          "output_type": "stream",
          "text": [
            "[0.52027027 0.56081081 0.50675676 0.52380952 0.5170068 ]\n"
          ]
        },
        {
          "name": "stderr",
          "output_type": "stream",
          "text": [
            "D:\\Anaconda3\\lib\\site-packages\\sklearn\\svm\\base.py:193: FutureWarning: The default value of gamma will change from 'auto' to 'scale' in version 0.22 to account better for unscaled features. Set gamma explicitly to 'auto' or 'scale' to avoid this warning.\n",
            "  \"avoid this warning.\", FutureWarning)\n"
          ]
        }
      ],
      "source": [
        "svc3 = SVC()\n",
        "svc3.fit(X_train_rsm, y_train_rsm)\n",
        "y_pred = svc3.predict(X_test)\n",
        "print('Accuracy of SVM train set : {:.2f}'.format(svc3.score(X_train_rsm, y_train_rsm)))\n",
        "print('Accuracy of SVM test set : {:.2f}'.format(svc3.score(X_test, y_test)))\n",
        "print(classification_report(y_test, y_pred))\n",
        "print(confusion_matrix(y_test, y_pred))\n",
        "print(cross_val_score(svc3, X_train_rsm, y_train_rsm, cv=5))"
      ]
    },
    {
      "cell_type": "code",
      "execution_count": null,
      "metadata": {
        "id": "vNfKJ_3_kY5i",
        "outputId": "d09a4712-f3a6-4c56-b516-f32aa6d2daa4"
      },
      "outputs": [
        {
          "name": "stderr",
          "output_type": "stream",
          "text": [
            "D:\\Anaconda3\\lib\\site-packages\\sklearn\\ensemble\\forest.py:245: FutureWarning: The default value of n_estimators will change from 10 in version 0.20 to 100 in 0.22.\n",
            "  \"10 in version 0.20 to 100 in 0.22.\", FutureWarning)\n"
          ]
        },
        {
          "name": "stdout",
          "output_type": "stream",
          "text": [
            "Accuracy of Random Forest classifier on training set: 1.00\n",
            "Accuracy of Random Forest classifier on test set: 0.92\n",
            "              precision    recall  f1-score   support\n",
            "\n",
            "           0       0.92      1.00      0.96        93\n",
            "           1       0.00      0.00      0.00         8\n",
            "\n",
            "    accuracy                           0.92       101\n",
            "   macro avg       0.46      0.50      0.48       101\n",
            "weighted avg       0.85      0.92      0.88       101\n",
            "\n",
            "[[93  0]\n",
            " [ 8  0]]\n"
          ]
        },
        {
          "name": "stderr",
          "output_type": "stream",
          "text": [
            "D:\\Anaconda3\\lib\\site-packages\\sklearn\\metrics\\classification.py:1437: UndefinedMetricWarning: Precision and F-score are ill-defined and being set to 0.0 in labels with no predicted samples.\n",
            "  'precision', 'predicted', average, warn_for)\n",
            "D:\\Anaconda3\\lib\\site-packages\\sklearn\\metrics\\classification.py:1437: UndefinedMetricWarning: Precision and F-score are ill-defined and being set to 0.0 in labels with no predicted samples.\n",
            "  'precision', 'predicted', average, warn_for)\n",
            "D:\\Anaconda3\\lib\\site-packages\\sklearn\\metrics\\classification.py:1437: UndefinedMetricWarning: Precision and F-score are ill-defined and being set to 0.0 in labels with no predicted samples.\n",
            "  'precision', 'predicted', average, warn_for)\n"
          ]
        },
        {
          "name": "stdout",
          "output_type": "stream",
          "text": [
            "[0.78378378 0.85135135 0.93918919 0.97278912 0.8707483 ]\n"
          ]
        }
      ],
      "source": [
        "clf3 = RandomForestClassifier().fit(X_train_rsm, y_train_rsm)\n",
        "y_pred = clf3.predict(X_test)\n",
        "print('Accuracy of Random Forest classifier on training set: {:.2f}'.format(clf3.score(X_train_rsm, y_train_rsm)))\n",
        "print('Accuracy of Random Forest classifier on test set: {:.2f}'.format(clf3.score(X_test, y_test)))\n",
        "print(classification_report(y_test, y_pred))\n",
        "print(confusion_matrix(y_test, y_pred))\n",
        "print(cross_val_score(clf3, X_train_rsm, y_train_rsm, cv=5))"
      ]
    },
    {
      "cell_type": "markdown",
      "metadata": {
        "id": "fn8iuIX1kY5i"
      },
      "source": [
        "After applying oversampling techniques like SMOTE, Random Oversampling and ADASYN with Logistic Regression, SVM and Random Forest, we observe that ADASYN along with Logistic Regression, performs the best throughot tbe training and test sets with least overfitting and maximum accuracy."
      ]
    },
    {
      "cell_type": "markdown",
      "metadata": {
        "id": "KLQmevoekY5i"
      },
      "source": [
        ""
      ]
    }
  ],
  "metadata": {
    "kernelspec": {
      "display_name": "Python 3",
      "language": "python",
      "name": "python3"
    },
    "language_info": {
      "codemirror_mode": {
        "name": "ipython",
        "version": 3
      },
      "file_extension": ".py",
      "mimetype": "text/x-python",
      "name": "python",
      "nbconvert_exporter": "python",
      "pygments_lexer": "ipython3",
      "version": "3.7.0"
    },
    "colab": {
      "name": "Dataset2-Mysql Innodb.ipynb",
      "provenance": []
    }
  },
  "nbformat": 4,
  "nbformat_minor": 0
}